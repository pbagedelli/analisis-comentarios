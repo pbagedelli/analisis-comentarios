{
 "cells": [
  {
   "cell_type": "code",
   "execution_count": 1,
   "metadata": {
    "collapsed": true
   },
   "outputs": [],
   "source": [
    "import pandas as pd\n",
    "import matplotlib.pyplot as plt\n",
    "import seaborn as sns\n",
    "%matplotlib inline"
   ]
  },
  {
   "cell_type": "code",
   "execution_count": 6,
   "metadata": {
    "collapsed": true
   },
   "outputs": [],
   "source": [
    "df_notas = pd.read_csv('./data/lanacion_notas.csv', index_col = 0)\n",
    "df = pd.read_csv('./data/commentarios_lanacion.csv', index_col = 0)\n",
    "#infobae = pd.read_csv('./data/commentarios_infobae.csv', index_col = 0)"
   ]
  },
  {
   "cell_type": "code",
   "execution_count": 58,
   "metadata": {},
   "outputs": [
    {
     "data": {
      "text/plain": [
       "(897, 65470)"
      ]
     },
     "execution_count": 58,
     "metadata": {},
     "output_type": "execute_result"
    }
   ],
   "source": [
    "#Cantidad de notas recopiladas y cantidad de comments totales\n",
    "df_notas.shape[0], df.shape[0]"
   ]
  },
  {
   "cell_type": "code",
   "execution_count": 26,
   "metadata": {},
   "outputs": [
    {
     "data": {
      "text/html": [
       "<div>\n",
       "<style scoped>\n",
       "    .dataframe tbody tr th:only-of-type {\n",
       "        vertical-align: middle;\n",
       "    }\n",
       "\n",
       "    .dataframe tbody tr th {\n",
       "        vertical-align: top;\n",
       "    }\n",
       "\n",
       "    .dataframe thead th {\n",
       "        text-align: right;\n",
       "    }\n",
       "</style>\n",
       "<table border=\"1\" class=\"dataframe\">\n",
       "  <thead>\n",
       "    <tr style=\"text-align: right;\">\n",
       "      <th></th>\n",
       "      <th>abierta_comentarios</th>\n",
       "      <th>autor</th>\n",
       "      <th>cuerpo</th>\n",
       "      <th>fecha</th>\n",
       "      <th>titulo</th>\n",
       "      <th>url</th>\n",
       "      <th>keywords</th>\n",
       "    </tr>\n",
       "    <tr>\n",
       "      <th>seccion</th>\n",
       "      <th></th>\n",
       "      <th></th>\n",
       "      <th></th>\n",
       "      <th></th>\n",
       "      <th></th>\n",
       "      <th></th>\n",
       "      <th></th>\n",
       "    </tr>\n",
       "  </thead>\n",
       "  <tbody>\n",
       "    <tr>\n",
       "      <th>Deportes</th>\n",
       "      <td>151</td>\n",
       "      <td>75</td>\n",
       "      <td>151</td>\n",
       "      <td>151</td>\n",
       "      <td>151</td>\n",
       "      <td>151</td>\n",
       "      <td>151</td>\n",
       "    </tr>\n",
       "    <tr>\n",
       "      <th>Economía</th>\n",
       "      <td>146</td>\n",
       "      <td>84</td>\n",
       "      <td>146</td>\n",
       "      <td>146</td>\n",
       "      <td>146</td>\n",
       "      <td>146</td>\n",
       "      <td>146</td>\n",
       "    </tr>\n",
       "    <tr>\n",
       "      <th>El Mundo</th>\n",
       "      <td>150</td>\n",
       "      <td>34</td>\n",
       "      <td>150</td>\n",
       "      <td>150</td>\n",
       "      <td>150</td>\n",
       "      <td>150</td>\n",
       "      <td>150</td>\n",
       "    </tr>\n",
       "    <tr>\n",
       "      <th>Espectáculos</th>\n",
       "      <td>150</td>\n",
       "      <td>51</td>\n",
       "      <td>150</td>\n",
       "      <td>150</td>\n",
       "      <td>150</td>\n",
       "      <td>150</td>\n",
       "      <td>150</td>\n",
       "    </tr>\n",
       "    <tr>\n",
       "      <th>Política</th>\n",
       "      <td>150</td>\n",
       "      <td>70</td>\n",
       "      <td>150</td>\n",
       "      <td>150</td>\n",
       "      <td>150</td>\n",
       "      <td>150</td>\n",
       "      <td>150</td>\n",
       "    </tr>\n",
       "    <tr>\n",
       "      <th>Sociedad</th>\n",
       "      <td>150</td>\n",
       "      <td>57</td>\n",
       "      <td>150</td>\n",
       "      <td>150</td>\n",
       "      <td>150</td>\n",
       "      <td>150</td>\n",
       "      <td>150</td>\n",
       "    </tr>\n",
       "  </tbody>\n",
       "</table>\n",
       "</div>"
      ],
      "text/plain": [
       "              abierta_comentarios  autor  cuerpo  fecha  titulo  url  keywords\n",
       "seccion                                                                       \n",
       "Deportes                      151     75     151    151     151  151       151\n",
       "Economía                      146     84     146    146     146  146       146\n",
       "El Mundo                      150     34     150    150     150  150       150\n",
       "Espectáculos                  150     51     150    150     150  150       150\n",
       "Política                      150     70     150    150     150  150       150\n",
       "Sociedad                      150     57     150    150     150  150       150"
      ]
     },
     "execution_count": 26,
     "metadata": {},
     "output_type": "execute_result"
    }
   ],
   "source": [
    "#cantidad de recopiladas por sección\n",
    "df_notas.groupby('seccion').count()"
   ]
  },
  {
   "cell_type": "code",
   "execution_count": 65,
   "metadata": {},
   "outputs": [
    {
     "data": {
      "text/plain": [
       "Index(['abierta_comentarios', 'autor', 'cuerpo', 'fecha', 'seccion', 'titulo',\n",
       "       'url', 'keywords'],\n",
       "      dtype='object')"
      ]
     },
     "execution_count": 65,
     "metadata": {},
     "output_type": "execute_result"
    }
   ],
   "source": [
    "#dimensiones de cada dataset\n",
    "df_notas.columns"
   ]
  },
  {
   "cell_type": "code",
   "execution_count": 60,
   "metadata": {},
   "outputs": [
    {
     "data": {
      "text/plain": [
       "Index(['es_respuesta', 'fecha', 'likes', 'nota_id', 'respuestas', 'texto',\n",
       "       'url', 'usuario', 'autor', 'seccion', 'titulo', 'severe_toxicity',\n",
       "       'toxicity', 'caracteres', 'caracteresSE'],\n",
       "      dtype='object')"
      ]
     },
     "execution_count": 60,
     "metadata": {},
     "output_type": "execute_result"
    }
   ],
   "source": [
    "df.columns"
   ]
  },
  {
   "cell_type": "code",
   "execution_count": 96,
   "metadata": {},
   "outputs": [
    {
     "data": {
      "text/plain": [
       "seccion\n",
       "Deportes         3154\n",
       "Economía        13804\n",
       "El Mundo         6144\n",
       "Espectáculos      707\n",
       "Política        33372\n",
       "Sociedad         8289\n",
       "Name: texto, dtype: int64"
      ]
     },
     "execution_count": 96,
     "metadata": {},
     "output_type": "execute_result"
    }
   ],
   "source": [
    "#cantidad de comentarios por sección (y cantidad de notas firmadas)\n",
    "df.groupby('seccion').count()['texto']"
   ]
  },
  {
   "cell_type": "code",
   "execution_count": 23,
   "metadata": {},
   "outputs": [
    {
     "name": "stderr",
     "output_type": "stream",
     "text": [
      "C:\\Users\\p_bag\\Anaconda3\\lib\\site-packages\\seaborn\\categorical.py:1460: FutureWarning: remove_na is deprecated and is a private function. Do not use.\n",
      "  stat_data = remove_na(group_data)\n"
     ]
    },
    {
     "data": {
      "text/plain": [
       "<matplotlib.axes._subplots.AxesSubplot at 0x1bbbb802ef0>"
      ]
     },
     "execution_count": 23,
     "metadata": {},
     "output_type": "execute_result"
    },
    {
     "data": {
      "image/png": "[encoded data removed]",
      "text/plain": [
       "<matplotlib.figure.Figure at 0x1bbbb285630>"
      ]
     },
     "metadata": {},
     "output_type": "display_data"
    }
   ],
   "source": [
    "sns.barplot(df.groupby('seccion').count().index, df.groupby('seccion').count().texto)"
   ]
  },
  {
   "cell_type": "code",
   "execution_count": 36,
   "metadata": {
    "scrolled": false
   },
   "outputs": [
    {
     "data": {
      "text/plain": [
       "seccion_y\n",
       "Deportes         25.823529\n",
       "Economía        118.806723\n",
       "El Mundo         50.377049\n",
       "Espectáculos      8.416667\n",
       "Política        245.544118\n",
       "Sociedad         81.301724\n",
       "Name: texto, dtype: float64"
      ]
     },
     "execution_count": 36,
     "metadata": {},
     "output_type": "execute_result"
    }
   ],
   "source": [
    "#promedio de comentarios por sección\n",
    "df.groupby('titulo').count().merge(df_notas, how = 'left', on = 'titulo').groupby('seccion_y').mean().texto"
   ]
  },
  {
   "cell_type": "code",
   "execution_count": 37,
   "metadata": {},
   "outputs": [
    {
     "data": {
      "text/plain": [
       "seccion\n",
       "Deportes        0.216971\n",
       "Economía        0.235532\n",
       "El Mundo        0.275944\n",
       "Espectáculos    0.217524\n",
       "Política        0.261806\n",
       "Sociedad        0.255870\n",
       "Name: toxicity, dtype: float64"
      ]
     },
     "execution_count": 37,
     "metadata": {},
     "output_type": "execute_result"
    }
   ],
   "source": [
    "#promedio de toxicidad por sección\n",
    "df.groupby('seccion').mean().toxicity"
   ]
  },
  {
   "cell_type": "code",
   "execution_count": 68,
   "metadata": {},
   "outputs": [
    {
     "data": {
      "text/plain": [
       "seccion\n",
       "Deportes        0.169038\n",
       "Economía        0.185474\n",
       "El Mundo        0.248397\n",
       "Espectáculos    0.170498\n",
       "Política        0.208101\n",
       "Sociedad        0.217044\n",
       "Name: severe_toxicity, dtype: float64"
      ]
     },
     "execution_count": 68,
     "metadata": {},
     "output_type": "execute_result"
    }
   ],
   "source": [
    "#promedio de toxicidad severa por sección\n",
    "df.groupby('seccion').mean().severe_toxicity"
   ]
  },
  {
   "cell_type": "code",
   "execution_count": 94,
   "metadata": {},
   "outputs": [
    {
     "data": {
      "text/plain": [
       "1246"
      ]
     },
     "execution_count": 94,
     "metadata": {},
     "output_type": "execute_result"
    }
   ],
   "source": [
    "#cantidad comentarios con más de 500 caracteres\n",
    "df.texto = df.texto.apply(lambda x : x.replace('\\r','').replace('\\n',''))\n",
    "df['caracteres'] = df.texto.apply(len)\n",
    "df.loc[df.caracteres > 500].shape[0]"
   ]
  },
  {
   "cell_type": "code",
   "execution_count": 95,
   "metadata": {},
   "outputs": [
    {
     "data": {
      "text/plain": [
       "773"
      ]
     },
     "execution_count": 95,
     "metadata": {},
     "output_type": "execute_result"
    }
   ],
   "source": [
    "#cantidad de 500 caracteres sin espacio\n",
    "df['caracteresSE'] = df.texto.apply(lambda x: len(x) - x.count(' '))\n",
    "df.loc[df.caracteresSE > 500].shape[0]"
   ]
  },
  {
   "cell_type": "code",
   "execution_count": 72,
   "metadata": {},
   "outputs": [
    {
     "data": {
      "text/plain": [
       "seccion\n",
       "Deportes        45.561192\n",
       "Economía        61.873370\n",
       "El Mundo        58.707682\n",
       "Espectáculos    21.499293\n",
       "Política        55.375764\n",
       "Sociedad        56.593075\n",
       "Name: es_respuesta, dtype: float64"
      ]
     },
     "execution_count": 72,
     "metadata": {},
     "output_type": "execute_result"
    }
   ],
   "source": [
    "#porcentaje de comentarios \"es_respuesta\" por sección\n",
    "df.groupby('seccion').mean().es_respuesta *100"
   ]
  },
  {
   "cell_type": "code",
   "execution_count": 78,
   "metadata": {
    "collapsed": true
   },
   "outputs": [],
   "source": [
    "#porcentaje de categorias\n",
    "import glosariosRe"
   ]
  },
  {
   "cell_type": "code",
   "execution_count": 74,
   "metadata": {},
   "outputs": [
    {
     "name": "stderr",
     "output_type": "stream",
     "text": [
      "C:\\Users\\p_bag\\Anaconda3\\lib\\site-packages\\ipykernel_launcher.py:2: UserWarning: This pattern has match groups. To actually get the groups, use str.extract.\n",
      "  \n",
      "C:\\Users\\p_bag\\Anaconda3\\lib\\site-packages\\ipykernel_launcher.py:3: UserWarning: This pattern has match groups. To actually get the groups, use str.extract.\n",
      "  This is separate from the ipykernel package so we can avoid doing imports until\n",
      "C:\\Users\\p_bag\\Anaconda3\\lib\\site-packages\\ipykernel_launcher.py:4: UserWarning: This pattern has match groups. To actually get the groups, use str.extract.\n",
      "  after removing the cwd from sys.path.\n",
      "C:\\Users\\p_bag\\Anaconda3\\lib\\site-packages\\ipykernel_launcher.py:5: UserWarning: This pattern has match groups. To actually get the groups, use str.extract.\n",
      "  \"\"\"\n",
      "C:\\Users\\p_bag\\Anaconda3\\lib\\site-packages\\ipykernel_launcher.py:6: UserWarning: This pattern has match groups. To actually get the groups, use str.extract.\n",
      "  \n",
      "C:\\Users\\p_bag\\Anaconda3\\lib\\site-packages\\ipykernel_launcher.py:7: UserWarning: This pattern has match groups. To actually get the groups, use str.extract.\n",
      "  import sys\n",
      "C:\\Users\\p_bag\\Anaconda3\\lib\\site-packages\\ipykernel_launcher.py:8: UserWarning: This pattern has match groups. To actually get the groups, use str.extract.\n",
      "  \n"
     ]
    }
   ],
   "source": [
    "import re\n",
    "misoginos = df.loc[df.texto.str.contains(glosariosRe.misoginos, flags = re.IGNORECASE, na = False)]\n",
    "racistas = df.loc[df.texto.str.contains(glosariosRe.racistas, flags = re.IGNORECASE, na = False)]\n",
    "xenofobos = df.loc[df.texto.str.contains(glosariosRe.xenofobos, flags = re.IGNORECASE, na = False)]\n",
    "ideologicos = df.loc[df.texto.str.contains(glosariosRe.ideologicos, flags = re.IGNORECASE, na = False)]\n",
    "violentos = df.loc[df.texto.str.contains(glosariosRe.violentos, flags = re.IGNORECASE, na = False)]\n",
    "homofobicos = df.loc[df.texto.str.contains(glosariosRe.homofobicos, flags = re.IGNORECASE, na = False)]\n",
    "periodistas = df.loc[df.texto.str.contains(glosariosRe.periodistas, flags = re.IGNORECASE, na = False)]"
   ]
  },
  {
   "cell_type": "code",
   "execution_count": 75,
   "metadata": {
    "collapsed": true
   },
   "outputs": [],
   "source": [
    "import numpy as np\n",
    "def porcentajes(df):\n",
    "    return (df.seccion.value_counts()/df.seccion.value_counts().sum()*100).astype(int)\n",
    "def graficar(df):\n",
    "    plt.ylim(0, 62)\n",
    "    sns.barplot(porcentajes(df).index, porcentajes(df).values)"
   ]
  },
  {
   "cell_type": "code",
   "execution_count": 77,
   "metadata": {},
   "outputs": [
    {
     "name": "stderr",
     "output_type": "stream",
     "text": [
      "C:\\Users\\p_bag\\Anaconda3\\lib\\site-packages\\seaborn\\categorical.py:1460: FutureWarning: remove_na is deprecated and is a private function. Do not use.\n",
      "  stat_data = remove_na(group_data)\n"
     ]
    },
    {
     "data": {
      "image/png": "[encoded data removed]",
      "text/plain": [
       "<matplotlib.figure.Figure at 0x1bbbc8bdc50>"
      ]
     },
     "metadata": {},
     "output_type": "display_data"
    }
   ],
   "source": [
    "plt.figure(figsize=(18,10))\n",
    "plt.subplot(331)\n",
    "plt.title('Ataque a periodistas')\n",
    "graficar(periodistas)\n",
    "plt.subplot(332)\n",
    "plt.title('Ideológicos')\n",
    "graficar(ideologicos)\n",
    "plt.subplot(333)\n",
    "plt.title('Misóginos')\n",
    "graficar(misoginos)\n",
    "plt.subplot(334)\n",
    "plt.title('Racistas')\n",
    "graficar(racistas);\n",
    "plt.subplot(335)\n",
    "plt.title('Violentos')\n",
    "graficar(violentos);\n",
    "plt.subplot(336)\n",
    "plt.title('Homofóbicos')\n",
    "graficar(homofobicos);\n",
    "plt.subplot(337)\n",
    "plt.title('Xenofobos')\n",
    "graficar(xenofobos);"
   ]
  },
  {
   "cell_type": "code",
   "execution_count": 80,
   "metadata": {},
   "outputs": [
    {
     "data": {
      "text/plain": [
       "Política        52\n",
       "Economía        15\n",
       "Sociedad        11\n",
       "El Mundo        11\n",
       "Espectáculos     6\n",
       "Deportes         2\n",
       "Name: seccion, dtype: int32"
      ]
     },
     "execution_count": 80,
     "metadata": {},
     "output_type": "execute_result"
    }
   ],
   "source": [
    "porcentajes(misoginos)"
   ]
  },
  {
   "cell_type": "markdown",
   "metadata": {},
   "source": [
    "Quedaría: \n",
    "-Temas con mayor cantidad de comentarios? Cómo se agruparía por temas"
   ]
  },
  {
   "cell_type": "code",
   "execution_count": 97,
   "metadata": {},
   "outputs": [],
   "source": [
    "misoginos.sort_values(by = 'toxicity', ascending= False).to_csv('./data/misoginos_lanacion.csv')\n",
    "racistas.sort_values(by = 'toxicity', ascending= False).to_csv('./data/racistas_lanacion.csv')\n",
    "xenofobos.sort_values(by = 'toxicity', ascending= False).to_csv('./data/xenofobos_lanacion.csv')\n",
    "ideologicos.sort_values(by = 'toxicity', ascending= False).to_csv('./data/ideologicos_lanacion.csv')\n",
    "violentos.sort_values(by = 'toxicity', ascending= False).to_csv('./data/violentos_lanacion.csv')\n",
    "homofobicos.sort_values(by = 'toxicity', ascending= False).to_csv('./data/homofobicos_lanacion.csv')\n",
    "periodistas.sort_values(by = 'toxicity', ascending= False).to_csv('./data/periodistas_lanacion.csv')"
   ]
  },
  {
   "cell_type": "code",
   "execution_count": null,
   "metadata": {
    "collapsed": true
   },
   "outputs": [],
   "source": []
  }
 ],
 "metadata": {
  "kernelspec": {
   "display_name": "Python 3",
   "language": "python",
   "name": "python3"
  },
  "language_info": {
   "codemirror_mode": {
    "name": "ipython",
    "version": 3
   },
   "file_extension": ".py",
   "mimetype": "text/x-python",
   "name": "python",
   "nbconvert_exporter": "python",
   "pygments_lexer": "ipython3",
   "version": "3.6.3"
  }
 },
 "nbformat": 4,
 "nbformat_minor": 2
}
