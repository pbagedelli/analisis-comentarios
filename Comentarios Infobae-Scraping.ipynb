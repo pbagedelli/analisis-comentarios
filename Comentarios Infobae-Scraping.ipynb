{
 "cells": [
  {
   "cell_type": "code",
   "execution_count": 1,
   "metadata": {
    "colab": {},
    "colab_type": "code",
    "collapsed": true,
    "id": "VYXJILLapNy9"
   },
   "outputs": [],
   "source": [
    "import requests\n",
    "import json\n",
    "from bs4 import BeautifulSoup\n",
    "import config\n",
    "import datetime\n",
    "from datetime import timedelta"
   ]
  },
  {
   "cell_type": "markdown",
   "metadata": {},
   "source": [
    "# Urls con api news y categorías con Beautiful Soup\n",
    "El resultado es una lista \"seleccionadas\" con 5 notas por categoría"
   ]
  },
  {
   "cell_type": "code",
   "execution_count": 248,
   "metadata": {
    "collapsed": true
   },
   "outputs": [],
   "source": [
    "mydate = datetime.date(2018,9, 21) \n",
    "secciones = ['economia', 'deportes-2', 'sociedad', 'politica', 'teleshow/infoshow', 'america/mundo']\n",
    "#también tiene entretenimiento, cual es la de internacionales, america + algo, mundo??"
   ]
  },
  {
   "cell_type": "code",
   "execution_count": 249,
   "metadata": {
    "collapsed": true
   },
   "outputs": [],
   "source": [
    "def obtener_urls(url):\n",
    "    response = requests.get(url)\n",
    "    google_soup = BeautifulSoup(response.text, 'html.parser' )\n",
    "    urls = []\n",
    "    for h3 in google_soup.find_all('h3'):\n",
    "        for a in h3.find_all('a'):\n",
    "            urls.append(a['href'].replace('/url?q=', ''))\n",
    "    urls = [link for link in urls if seccion + '/' + año + '/' + mes + '/' +  dia + '/' in link]\n",
    "    return urls"
   ]
  },
  {
   "cell_type": "code",
   "execution_count": 250,
   "metadata": {
    "collapsed": true
   },
   "outputs": [],
   "source": [
    "def obtener_nota(url):\n",
    "    response = requests.get(url)\n",
    "    html_soup = BeautifulSoup(response.text, 'html.parser' )\n",
    "    titular = html_soup.find('h1').text\n",
    "    try:\n",
    "        autor= html_soup.find('a', {'class':'author-name'}).text\n",
    "    except:\n",
    "        autor = \"\"\n",
    "    comentarios = bool(html_soup.find_all('h2', text = 'Comentarios'))\n",
    "    cuerpo = \"\"\n",
    "    for div in html_soup.find_all('div', {'id': 'article-body'}):\n",
    "        for p in div.find_all('p'):\n",
    "            cuerpo += p.text\n",
    "    import re\n",
    "    cuerpo = re.sub(r'Seguí leyendo.+', '', cuerpo).strip()\n",
    "    cuerpo.replace('\\xa0', ' ')\n",
    "    nota = {'titulo': titular,\n",
    "       'autor':autor,\n",
    "       'cuerpo':cuerpo,\n",
    "       'url':url,\n",
    "       'fecha':fecha,\n",
    "       'seccion': seccion,\n",
    "       'abierta_comentarios': comentarios}\n",
    "    return nota"
   ]
  },
  {
   "cell_type": "code",
   "execution_count": 246,
   "metadata": {},
   "outputs": [
    {
     "name": "stdout",
     "output_type": "stream",
     "text": [
      "\n",
      "25/09/18\n",
      "\n",
      "economia: 10\n",
      "0 1 2 3 4 \n",
      "deportes-2: 10\n",
      "0 1 2 3 4 \n",
      "sociedad: 8\n",
      "0 1 2 3 4 \n",
      "politica: 10\n",
      "0 1 2 3 4 \n",
      "teleshow/infoshow: 10\n",
      "0 1 2 3 4 \n",
      "america/mundo: 10\n",
      "0 1 2 3 4 \n",
      "26/09/18\n",
      "\n",
      "economia: 10\n",
      "0 1 2 3 4 \n",
      "deportes-2: 10\n",
      "0 1 2 3 4 \n",
      "sociedad: 10\n",
      "0 1 2 3 4 \n",
      "politica: 10\n",
      "0 1 2 3 4 \n",
      "teleshow/infoshow: 10\n",
      "0 1 2 3 4 \n",
      "america/mundo: 10\n",
      "0 1 2 3 4 Wall time: 1min 28s\n"
     ]
    }
   ],
   "source": [
    "%%time\n",
    "notas = []\n",
    "for dia in range(31):\n",
    "    fecha = mydate.strftime(\"%d/%m/%y\")\n",
    "    año = '20' + mydate.strftime(\"%y\")\n",
    "    mes = mydate.strftime(\"%m\")\n",
    "    dia = mydate.strftime(\"%d\")\n",
    "    print('\\n\\n' + fecha)\n",
    "    mydate += timedelta(days=1)\n",
    "    for seccion in secciones:\n",
    "        url = 'https://www.google.com.ar/search?ei=SlfLW6OEO8XI5gLvl5ngAg&q=*+site%3Ahttps%3A%2F%2Fwww.infobae.com%2F' + seccion + '%2F' + año + '%2F' + mes +'%2F' +dia+ '%2F&oq=*+site%3Ahttps%3A%2F%2Fwww.infobae.com%2F' + categ + '%2F' + año + '%2F' +mes+ '%2F' + dia + '%2F&gs_l=psy-ab.4...21974.22911.0.23438.4.4.0.0.0.0.260.513.2-2.2.0....0...1.1.64.psy-ab..2.0.0....0.xnbtghTKDls'\n",
    "        urls = obtener_urls(url)\n",
    "        print('\\n' + seccion + ': ' + str(len(urls)))\n",
    "        indice = 0\n",
    "        while indice < 5:\n",
    "            print(indice, end = ' ')\n",
    "            if indice == len(urls):\n",
    "                break\n",
    "            notas.append(obtener_nota(urls[indice]))\n",
    "            indice +=1"
   ]
  },
  {
   "cell_type": "code",
   "execution_count": 253,
   "metadata": {
    "collapsed": true
   },
   "outputs": [],
   "source": [
    "pd.DataFrame(notas).to_csv('./data/infobae_notas.csv')"
   ]
  },
  {
   "cell_type": "markdown",
   "metadata": {
    "colab_type": "text",
    "id": "aCftWwMlpNzQ"
   },
   "source": [
    "# Selenium para conseguir comments"
   ]
  },
  {
   "cell_type": "code",
   "execution_count": 223,
   "metadata": {
    "collapsed": true
   },
   "outputs": [],
   "source": [
    "import pandas as pd\n",
    "df = pd.read_csv('./data/infobae_notas.csv', index_col = 0)"
   ]
  },
  {
   "cell_type": "code",
   "execution_count": 224,
   "metadata": {},
   "outputs": [
    {
     "data": {
      "text/html": [
       "<div>\n",
       "<style scoped>\n",
       "    .dataframe tbody tr th:only-of-type {\n",
       "        vertical-align: middle;\n",
       "    }\n",
       "\n",
       "    .dataframe tbody tr th {\n",
       "        vertical-align: top;\n",
       "    }\n",
       "\n",
       "    .dataframe thead th {\n",
       "        text-align: right;\n",
       "    }\n",
       "</style>\n",
       "<table border=\"1\" class=\"dataframe\">\n",
       "  <thead>\n",
       "    <tr style=\"text-align: right;\">\n",
       "      <th></th>\n",
       "      <th>abierta_comentarios</th>\n",
       "      <th>autor</th>\n",
       "      <th>cuerpo</th>\n",
       "      <th>fecha</th>\n",
       "      <th>seccion</th>\n",
       "      <th>titulo</th>\n",
       "      <th>url</th>\n",
       "    </tr>\n",
       "  </thead>\n",
       "  <tbody>\n",
       "    <tr>\n",
       "      <th>0</th>\n",
       "      <td>True</td>\n",
       "      <td>NaN</td>\n",
       "      <td>Sorpresa: Luis Caputo, presentó este martes al...</td>\n",
       "      <td>25/09/18</td>\n",
       "      <td>economia</td>\n",
       "      <td>Luis Caputo renunció al Banco Central</td>\n",
       "      <td>https://www.infobae.com/economia/2018/09/25/lu...</td>\n",
       "    </tr>\n",
       "    <tr>\n",
       "      <th>1</th>\n",
       "      <td>True</td>\n",
       "      <td>NaN</td>\n",
       "      <td>El actual secretario de Política Económica, Gu...</td>\n",
       "      <td>25/09/18</td>\n",
       "      <td>economia</td>\n",
       "      <td>Guido Sandleris es el reemplazante de Caputo e...</td>\n",
       "      <td>https://www.infobae.com/economia/2018/09/25/gu...</td>\n",
       "    </tr>\n",
       "    <tr>\n",
       "      <th>2</th>\n",
       "      <td>True</td>\n",
       "      <td>NaN</td>\n",
       "      <td>El crecimiento más rápido de Uber en todo el m...</td>\n",
       "      <td>25/09/18</td>\n",
       "      <td>economia</td>\n",
       "      <td>Argentina registró el mayor crecimiento de Ube...</td>\n",
       "      <td>https://www.infobae.com/economia/2018/09/25/ar...</td>\n",
       "    </tr>\n",
       "    <tr>\n",
       "      <th>3</th>\n",
       "      <td>True</td>\n",
       "      <td>NaN</td>\n",
       "      <td>Con la llegada de Guido Sandleris a la preside...</td>\n",
       "      <td>25/09/18</td>\n",
       "      <td>economia</td>\n",
       "      <td>Quién es Verónica Rappoport, la economista que...</td>\n",
       "      <td>https://www.infobae.com/economia/2018/09/25/qu...</td>\n",
       "    </tr>\n",
       "    <tr>\n",
       "      <th>4</th>\n",
       "      <td>True</td>\n",
       "      <td>Román Lejtman</td>\n",
       "      <td>(Enviado especial a EEUU) El presidente Mauric...</td>\n",
       "      <td>25/09/18</td>\n",
       "      <td>economia</td>\n",
       "      <td>Mauricio Macri se reúne con Christine Lagarde ...</td>\n",
       "      <td>https://www.infobae.com/economia/2018/09/25/ma...</td>\n",
       "    </tr>\n",
       "  </tbody>\n",
       "</table>\n",
       "</div>"
      ],
      "text/plain": [
       "   abierta_comentarios          autor  \\\n",
       "0                 True            NaN   \n",
       "1                 True            NaN   \n",
       "2                 True            NaN   \n",
       "3                 True            NaN   \n",
       "4                 True  Román Lejtman   \n",
       "\n",
       "                                              cuerpo     fecha   seccion  \\\n",
       "0  Sorpresa: Luis Caputo, presentó este martes al...  25/09/18  economia   \n",
       "1  El actual secretario de Política Económica, Gu...  25/09/18  economia   \n",
       "2  El crecimiento más rápido de Uber en todo el m...  25/09/18  economia   \n",
       "3  Con la llegada de Guido Sandleris a la preside...  25/09/18  economia   \n",
       "4  (Enviado especial a EEUU) El presidente Mauric...  25/09/18  economia   \n",
       "\n",
       "                                              titulo  \\\n",
       "0              Luis Caputo renunció al Banco Central   \n",
       "1  Guido Sandleris es el reemplazante de Caputo e...   \n",
       "2  Argentina registró el mayor crecimiento de Ube...   \n",
       "3  Quién es Verónica Rappoport, la economista que...   \n",
       "4  Mauricio Macri se reúne con Christine Lagarde ...   \n",
       "\n",
       "                                                 url  \n",
       "0  https://www.infobae.com/economia/2018/09/25/lu...  \n",
       "1  https://www.infobae.com/economia/2018/09/25/gu...  \n",
       "2  https://www.infobae.com/economia/2018/09/25/ar...  \n",
       "3  https://www.infobae.com/economia/2018/09/25/qu...  \n",
       "4  https://www.infobae.com/economia/2018/09/25/ma...  "
      ]
     },
     "execution_count": 224,
     "metadata": {},
     "output_type": "execute_result"
    }
   ],
   "source": [
    "df.head(5)"
   ]
  },
  {
   "cell_type": "code",
   "execution_count": 147,
   "metadata": {},
   "outputs": [
    {
     "data": {
      "text/plain": [
       "<selenium.webdriver.chrome.options.Options at 0x1d81c6ed9e8>"
      ]
     },
     "execution_count": 147,
     "metadata": {},
     "output_type": "execute_result"
    }
   ],
   "source": [
    "import time\n",
    "from selenium import webdriver\n",
    "from selenium.webdriver.support.ui import WebDriverWait\n",
    "from selenium.webdriver.support import expected_conditions as EC\n",
    "from selenium.webdriver.common.by import By\n",
    "from selenium.common.exceptions import TimeoutException\n",
    "from selenium import webdriver\n",
    "from selenium.webdriver.chrome.options import Options\n",
    "\n",
    "path_to_extension = r'C:\\Users\\p_bag\\OneDrive\\Documentos\\1.17.0_0'\n",
    "path_to_extension_linux = r'/home/pablo/Documentos/1.17.0_0'\n",
    "windows = '/Users/p_bag/Downloads/chromedriver_win32/chromedriver.exe'\n",
    "linux = '/home/pablo/Descargas/chromedriver'\n",
    "\n",
    "chrome_options = Options()\n",
    "chrome_options.add_argument('load-extension=' + path_to_extension)\n",
    "\n",
    "\n",
    "#driver = webdriver.Chrome(windows, chrome_options=chrome_options)\n",
    "#driver.create_options()\n"
   ]
  },
  {
   "cell_type": "code",
   "execution_count": 217,
   "metadata": {
    "colab": {},
    "colab_type": "code",
    "id": "ksg1Gf9ipNzT"
   },
   "outputs": [],
   "source": [
    "comentarios = []\n",
    "def scrapear(urls):\n",
    "    driver = webdriver.Chrome(windows, chrome_options=chrome_options)\n",
    "    driver.create_options()\n",
    "    indice = 0\n",
    "    #for url in urls:\n",
    "    for indice, url in zip(urls.index, urls.values):\n",
    "        print (indice)\n",
    "        print(url)\n",
    "        driver.get(url)\n",
    "        #time.sleep(1)\n",
    "        #driver.execute_script(\"window.scrollTo(0, document.body.scrollHeight);\")\n",
    "        iframe = driver.find_element_by_xpath(\"//iframe[@title='fb:comments Facebook Social Plugin']\")\n",
    "        #iframe = driver.find_element_by_xpath(\"//*[@id='f0dmkLDVnJzT5r']/div[1]/span/iframe\")\n",
    "        driver.switch_to.frame(iframe)\n",
    "        try:\n",
    "            WebDriverWait(driver, 10).until(EC.presence_of_element_located((By.TAG_NAME, 'button')))\n",
    "            print (\"Hay boton\")\n",
    "            button = True\n",
    "        except TimeoutException:\n",
    "            print (\"No hay boton\")\n",
    "            button = False\n",
    "        #Que pasa si la nota esta cerrada a comentarios\n",
    "        while button:\n",
    "            try:\n",
    "                #print('boton')\n",
    "                element = driver.find_element_by_tag_name('button')\n",
    "                element.location_once_scrolled_into_view\n",
    "                #time.sleep(2)\n",
    "                driver.find_element_by_xpath(\"//button\").click()\n",
    "                WebDriverWait(driver, 3).until(EC.presence_of_element_located((By.TAG_NAME, 'button')))\n",
    "\n",
    "            except: \n",
    "                button = False\n",
    "        driver.switch_to.parent_frame()\n",
    "        driver.execute_script(\"window.scrollTo(0, 0)\") \n",
    "        driver.switch_to.frame(iframe)\n",
    "        button = True\n",
    "        while button:\n",
    "            try:\n",
    "                element = driver.find_element_by_xpath(\"//span[contains(text(), 'Mostrar')]\")\n",
    "                element.location_once_scrolled_into_view\n",
    "                driver.find_element_by_xpath(\"//span[contains(text(), 'Mostrar')]\").click()\n",
    "                time.sleep(0.5)\n",
    "                WebDriverWait(driver, 3).until(EC.presence_of_element_located((By.XPATH, \"//span[contains(text(), 'Mostrar')]\")))\n",
    "\n",
    "            except:\n",
    "                button = False\n",
    "        todo = driver.find_elements_by_class_name('_5nz1')\n",
    "        for item in todo:\n",
    "            #es_respuesta = bool(item.find_elements_by_class_name('_3-8y'))\n",
    "            #print(item.find_element_by_class_name('_5mdd').text)\n",
    "            print('.', end = '')\n",
    "            comentarios.append({\n",
    "                'autor': item.find_element_by_class_name('UFICommentActorName').text,\n",
    "                'texto': item.find_element_by_class_name('_5mdd').text,\n",
    "                'fecha': item.find_element_by_class_name('_2vq9').find_elements_by_tag_name('span')[-1].text,\n",
    "                'likes': item.find_element_by_class_name('_2vq9').find_elements_by_tag_name('span')[-3].text,\n",
    "                'respuestas' : len(item.find_elements_by_class_name('_3-8y')),\n",
    "                'es_respuesta': False,\n",
    "                'nota_id': indice,\n",
    "                'nota_url': url\n",
    "                })\n",
    "            for respuesta in item.find_elements_by_class_name('_3-8y'):\n",
    "                #print(respuesta.find_element_by_class_name('_5mdd').text)\n",
    "                print('.', end = '')\n",
    "                comentarios.append({\n",
    "                    'autor': respuesta.find_element_by_class_name('UFICommentActorName').text,\n",
    "                    'texto': respuesta.find_element_by_class_name('_5mdd').text,\n",
    "                    'fecha': respuesta.find_element_by_class_name('_2vq9').find_elements_by_tag_name('span')[-1].text,\n",
    "                    'likes': respuesta.find_element_by_class_name('_2vq9').find_elements_by_tag_name('span')[-3].text,\n",
    "                    'respuestas' : len(respuesta.find_elements_by_class_name('_3-8y')),\n",
    "                    'es_respuesta': True,\n",
    "                    'nota_id': indice,\n",
    "                    'nota_url': url\n",
    "                     })\n",
    "    return comentarios"
   ]
  },
  {
   "cell_type": "code",
   "execution_count": 225,
   "metadata": {
    "collapsed": true
   },
   "outputs": [],
   "source": [
    "#df2 = df.copy()\n",
    "#df = df[:10]\n",
    "#df.shape[0]"
   ]
  },
  {
   "cell_type": "code",
   "execution_count": 234,
   "metadata": {
    "collapsed": true
   },
   "outputs": [],
   "source": [
    "corte = df.url.shape[0]//4\n",
    "lista_urls = []\n",
    "lista_urls.append(df.url[:corte])\n",
    "lista_urls.append(df.url[corte:corte*2])\n",
    "lista_urls.append(df.url[corte*2:corte*3])\n",
    "lista_urls.append(df.url[corte*3:df.shape[0]])"
   ]
  },
  {
   "cell_type": "code",
   "execution_count": 236,
   "metadata": {},
   "outputs": [],
   "source": [
    "#lista_urls"
   ]
  },
  {
   "cell_type": "code",
   "execution_count": 230,
   "metadata": {},
   "outputs": [],
   "source": [
    "#scrapear(lista_urls[0])"
   ]
  },
  {
   "cell_type": "code",
   "execution_count": 237,
   "metadata": {},
   "outputs": [
    {
     "name": "stdout",
     "output_type": "stream",
     "text": [
      "Wall time: 2min 53s\n"
     ]
    }
   ],
   "source": [
    "%%time\n",
    "from joblib import Parallel, delayed\n",
    "results = Parallel(n_jobs=-1)(delayed(scrapear)(urls) for urls in lista_urls)"
   ]
  },
  {
   "cell_type": "code",
   "execution_count": 238,
   "metadata": {
    "collapsed": true
   },
   "outputs": [],
   "source": [
    "comentarios = results[0] + results[1] + results[2] + results[3]"
   ]
  },
  {
   "cell_type": "code",
   "execution_count": 248,
   "metadata": {
    "scrolled": true
   },
   "outputs": [],
   "source": [
    "import pandas as pd\n",
    "pd.DataFrame(comentarios).to_csv('./data/comments_infobae_10_notas.csv')"
   ]
  },
  {
   "cell_type": "code",
   "execution_count": 60,
   "metadata": {
    "collapsed": true
   },
   "outputs": [],
   "source": [
    "#driver.quit()"
   ]
  },
  {
   "cell_type": "code",
   "execution_count": 48,
   "metadata": {
    "collapsed": true
   },
   "outputs": [],
   "source": [
    "#SOBRAS\n",
    "#creo que hay un tema con el tiempoq ue tarda en renderear la pagina\n",
    "#element = driver.find_element_by_tag_name('button')\n",
    "#element.location_once_scrolled_into_view\n",
    "#driver.find_element_by_xpath(\"//button\").click()\n",
    "#driver.find_element_by_xpath(\"//*[contains(text(), 'Cargar')]\").click()\n",
    "#driver.find_element_by_xpath(\"//button\").click()\n",
    "#button = True\n",
    "#ver que pasa que no lo hace de corrido?\n",
    "#todos los comentarios con me gusta, horario y autores,etc\n",
    "#todo = driver.find_elements_by_class_name('_3-8y')\n",
    "\n",
    "#solo el texto\n",
    "#todo = driver.find_elements_by_class_name('_3-8m')\n",
    "#texto\n",
    "#todo[2].find_element_by_class_name('_5mdd').text\n",
    "#autor\n",
    "#todo[2].find_element_by_class_name('UFICommentActorName').text\n",
    "#me gusta _2vq9 fsm fwn fcg\n",
    "#for x in todo[1].find_element_by_class_name('_2vq9').find_elements_by_tag_name('span'):\n",
    "#    print (x.text)\n",
    "#fecha\n",
    "#todo[1].find_element_by_class_name('_2vq9').find_elements_by_tag_name('span')[-1].text\n",
    "#me gusta (si es . no hay me gusta)\n",
    "#todo[2].find_element_by_class_name('_2vq9').find_elements_by_tag_name('span')[-3].text"
   ]
  }
 ],
 "metadata": {
  "colab": {
   "collapsed_sections": [],
   "name": "Copia de Comentarios La Nacion-Scraping2.ipynb",
   "provenance": [
    {
     "file_id": "0B2ZIrvgohCxRYWlqUGg1aWM2SHlURy1RN3FpNGZoMlRjLWRn",
     "timestamp": 1536682879067
    }
   ],
   "version": "0.3.2"
  },
  "kernelspec": {
   "display_name": "Python 3",
   "language": "python",
   "name": "python3"
  },
  "language_info": {
   "codemirror_mode": {
    "name": "ipython",
    "version": 3
   },
   "file_extension": ".py",
   "mimetype": "text/x-python",
   "name": "python",
   "nbconvert_exporter": "python",
   "pygments_lexer": "ipython3",
   "version": "3.6.3"
  }
 },
 "nbformat": 4,
 "nbformat_minor": 1
}
