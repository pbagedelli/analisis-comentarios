{
 "cells": [
  {
   "cell_type": "code",
   "execution_count": 1,
   "metadata": {
    "colab": {},
    "colab_type": "code",
    "collapsed": true,
    "id": "VYXJILLapNy9"
   },
   "outputs": [],
   "source": [
    "import requests\n",
    "import json\n",
    "from bs4 import BeautifulSoup\n",
    "import config\n",
    "import datetime\n",
    "from datetime import timedelta"
   ]
  },
  {
   "cell_type": "markdown",
   "metadata": {},
   "source": [
    "# Urls con api news y categorías con Beautiful Soup\n",
    "El resultado es una lista \"seleccionadas\" con 5 notas por categoría"
   ]
  },
  {
   "cell_type": "code",
   "execution_count": 27,
   "metadata": {},
   "outputs": [
    {
     "data": {
      "text/plain": [
       "{'User-Agent': 'Mozilla/5.0 (Macintosh; Intel Mac OS X 10_11_6) AppleWebKit/537.36 (KHTML, like Gecko) Chrome/54.0.2840.98 Safari/537.36'}"
      ]
     },
     "execution_count": 27,
     "metadata": {},
     "output_type": "execute_result"
    }
   ],
   "source": [
    "desktop_agents = ['Mozilla/5.0 (Windows NT 6.1; WOW64) AppleWebKit/537.36 (KHTML, like Gecko) Chrome/54.0.2840.99 Safari/537.36',\n",
    "                 'Mozilla/5.0 (Windows NT 10.0; WOW64) AppleWebKit/537.36 (KHTML, like Gecko) Chrome/54.0.2840.99 Safari/537.36',\n",
    "                 'Mozilla/5.0 (Windows NT 10.0; Win64; x64) AppleWebKit/537.36 (KHTML, like Gecko) Chrome/54.0.2840.99 Safari/537.36',\n",
    "                 'Mozilla/5.0 (Macintosh; Intel Mac OS X 10_12_1) AppleWebKit/602.2.14 (KHTML, like Gecko) Version/10.0.1 Safari/602.2.14',\n",
    "                 'Mozilla/5.0 (Windows NT 10.0; WOW64) AppleWebKit/537.36 (KHTML, like Gecko) Chrome/54.0.2840.71 Safari/537.36',\n",
    "                 'Mozilla/5.0 (Macintosh; Intel Mac OS X 10_12_1) AppleWebKit/537.36 (KHTML, like Gecko) Chrome/54.0.2840.98 Safari/537.36',\n",
    "                 'Mozilla/5.0 (Macintosh; Intel Mac OS X 10_11_6) AppleWebKit/537.36 (KHTML, like Gecko) Chrome/54.0.2840.98 Safari/537.36',\n",
    "                 'Mozilla/5.0 (Windows NT 6.1; WOW64) AppleWebKit/537.36 (KHTML, like Gecko) Chrome/54.0.2840.71 Safari/537.36',\n",
    "                 'Mozilla/5.0 (Windows NT 6.1; Win64; x64) AppleWebKit/537.36 (KHTML, like Gecko) Chrome/54.0.2840.99 Safari/537.36',\n",
    "                 'Mozilla/5.0 (Windows NT 10.0; WOW64; rv:50.0) Gecko/20100101 Firefox/50.0']\n",
    "from random import choice\n",
    "headers = {'User-Agent':choice(desktop_agents)}\n",
    "headers"
   ]
  },
  {
   "cell_type": "code",
   "execution_count": null,
   "metadata": {},
   "outputs": [],
   "source": [
    "mydate = datetime.date(2018,9, 23) \n",
    "fecha = mydate.strftime(\"%Y-%m-%d\")\n",
    "fecha"
   ]
  },
  {
   "cell_type": "code",
   "execution_count": null,
   "metadata": {
    "collapsed": true
   },
   "outputs": [],
   "source": [
    "newsapi_key = config.newsAPI_KEY"
   ]
  },
  {
   "cell_type": "code",
   "execution_count": null,
   "metadata": {
    "colab": {},
    "colab_type": "code",
    "collapsed": true,
    "id": "NIKoBmcVXr_J"
   },
   "outputs": [],
   "source": [
    "def obtener_urls(fecha):\n",
    "    seleccionadas = []\n",
    "    política, economía, elmundo, deportes, espectáculos, sociedad = 0,0,0,0,0,0\n",
    "    desde= fecha\n",
    "    hasta= fecha\n",
    "    #print(fecha)\n",
    "    fuente= 'la-nacion'\n",
    "    pagina = 1\n",
    "    print('Buscando notas')\n",
    "    #while hasta que se completen los contadores\n",
    "    while (política < 5) | (economía < 5) | (elmundo < 5) | (deportes < 5) | (espectáculos < 5) | (sociedad < 5):\n",
    "        url = 'https://newsapi.org/v2/everything?sources=' + fuente + '&from=' + desde + '&to=' + hasta + '&page=' + str(pagina) +'&apiKey=' + newsapi_key\n",
    "        pagina +=1\n",
    "\n",
    "        try: \n",
    "            response = requests.get(url)\n",
    "        except:\n",
    "            print('no anduvo la api')\n",
    "            break\n",
    "        data = json.loads(response.text)\n",
    "        if data['articles'] == []:\n",
    "            print('no hay más')\n",
    "            break\n",
    "\n",
    "        #for todas la noticias de la pagina\n",
    "        for i, nota in enumerate(data['articles']):\n",
    "            response = requests.get(nota['url'])\n",
    "            html_soup = BeautifulSoup(response.text, 'html.parser')\n",
    "            for x in html_soup.find_all(\"strong\", {\"class\": \"categoria\"}):\n",
    "                categoria = x.find_all('a')[0].text.replace('\\r\\n', '').strip()\n",
    "\n",
    "            #print(categoria, end = ', ')\n",
    "\n",
    "            if (categoria == 'Política') & (política < 5):\n",
    "                política +=1\n",
    "                data['articles'][i]['categoria'] = categoria\n",
    "                seleccionadas.append(data['articles'][i])\n",
    "            elif (categoria == 'Economía') & (economía <5):\n",
    "                economía +=1\n",
    "                data['articles'][i]['categoria'] = categoria\n",
    "                seleccionadas.append(data['articles'][i])\n",
    "            elif (categoria == 'El Mundo') & (elmundo <5):\n",
    "                elmundo +=1\n",
    "                data['articles'][i]['categoria'] = categoria\n",
    "                seleccionadas.append(data['articles'][i])\n",
    "            elif (categoria == 'Deportes') & (deportes <5):\n",
    "                deportes +=1\n",
    "                data['articles'][i]['categoria'] = categoria\n",
    "                seleccionadas.append(data['articles'][i])\n",
    "            elif (categoria == 'Espectáculos') & (espectáculos <5):\n",
    "                espectáculos +=1\n",
    "                data['articles'][i]['categoria'] = categoria\n",
    "                seleccionadas.append(data['articles'][i])\n",
    "            elif (categoria == 'Sociedad') & (sociedad <5):\n",
    "                sociedad +=1\n",
    "                data['articles'][i]['categoria'] = categoria\n",
    "                seleccionadas.append(data['articles'][i])\n",
    "\n",
    "    print('Cantidad de notas encontradas por categoría:', end = ' ' )\n",
    "    print(política, economía, elmundo, deportes, espectáculos, sociedad)\n",
    "    return seleccionadas\n",
    "#que pasa si con todas las paginas que se recuperan de la api no se llega a llenar la cuota? puede pasar?\n"
   ]
  },
  {
   "cell_type": "code",
   "execution_count": null,
   "metadata": {
    "collapsed": true
   },
   "outputs": [],
   "source": [
    "def obtener_notas(seleccionadas):\n",
    "    notas = []\n",
    "    for nota in seleccionadas:\n",
    "        print ('.', end ='')\n",
    "        response = requests.get(nota['url'])\n",
    "        soup = BeautifulSoup(response.text, 'html.parser')\n",
    "        titular = soup.find('h1', {'class': 'titulo'}).text\n",
    "        try:\n",
    "            autor = soup.find('section', {'class': 'autor'}).find('a').text\n",
    "        except:\n",
    "            autor = \"\"\n",
    "        fecha = nota['publishedAt'][8:10] + '/' + nota['publishedAt'][5:7] + '/' +nota['publishedAt'][:4]\n",
    "        cuerpo = ''\n",
    "        for x in soup.find('section', {'id': 'cuerpo'}).find_all('p'):\n",
    "            cuerpo += x.text\n",
    "        cuerpo = cuerpo.replace('\\n','').replace('\\r','')\n",
    "        comentarios = not bool([True for x in soup.find_all('b') if \"Debido a la sensibilidad\" in x.text])\n",
    "        #comentarios = bool(soup.find('div', {'class': 'ver-comentarios'}))\n",
    "        \n",
    "        notas.append({'titulo': titular,\n",
    "                       'autor':autor,\n",
    "                       'cuerpo':cuerpo,\n",
    "                       'url': nota['url'],\n",
    "                       'fecha':fecha,\n",
    "                       'seccion': nota['categoria'],\n",
    "                       'abierta_comentarios': comentarios})\n",
    "    return notas\n"
   ]
  },
  {
   "cell_type": "code",
   "execution_count": null,
   "metadata": {
    "colab": {},
    "colab_type": "code",
    "collapsed": true,
    "id": "L_y_GRVeYNl8"
   },
   "outputs": [],
   "source": [
    "%%time\n",
    "notas = []\n",
    "for dia in range(31):\n",
    "    fecha = mydate.strftime(\"%Y-%m-%d\")\n",
    "    print('\\n' + fecha)\n",
    "    seleccionadas = obtener_urls(fecha)\n",
    "    notas.extend(obtener_notas(seleccionadas))\n",
    "    mydate += timedelta(days=1)"
   ]
  },
  {
   "cell_type": "code",
   "execution_count": null,
   "metadata": {
    "collapsed": true
   },
   "outputs": [],
   "source": [
    "import pandas as pd\n",
    "df = pd.DataFrame(notas)"
   ]
  },
  {
   "cell_type": "code",
   "execution_count": null,
   "metadata": {
    "collapsed": true
   },
   "outputs": [],
   "source": [
    "df.fecha= pd.to_datetime(df[\"fecha\"], dayfirst=True)"
   ]
  },
  {
   "cell_type": "code",
   "execution_count": null,
   "metadata": {
    "collapsed": true
   },
   "outputs": [],
   "source": [
    "df.sort_values(by = ['fecha', 'seccion']).reset_index(drop= True).to_csv('./data/notas_lanacion.csv')"
   ]
  },
  {
   "cell_type": "code",
   "execution_count": null,
   "metadata": {
    "collapsed": true
   },
   "outputs": [],
   "source": [
    "df.shape"
   ]
  },
  {
   "cell_type": "markdown",
   "metadata": {
    "colab_type": "text",
    "id": "aCftWwMlpNzQ"
   },
   "source": [
    "# Selenium para conseguir comments"
   ]
  },
  {
   "cell_type": "code",
   "execution_count": 21,
   "metadata": {
    "collapsed": true
   },
   "outputs": [],
   "source": [
    "import pandas as pd\n",
    "df = pd.read_csv('./data/lanacion_notas.csv', index_col=0)"
   ]
  },
  {
   "cell_type": "code",
   "execution_count": 22,
   "metadata": {
    "colab": {},
    "colab_type": "code",
    "collapsed": true,
    "id": "ksg1Gf9ipNzT"
   },
   "outputs": [],
   "source": [
    "import time\n",
    "from selenium import webdriver\n",
    "from selenium.webdriver.support.ui import WebDriverWait\n",
    "from selenium.webdriver.support import expected_conditions as EC\n",
    "from selenium.webdriver.common.by import By\n",
    "from selenium.common.exceptions import TimeoutException\n",
    "from selenium.webdriver.chrome.options import Options\n",
    "\n",
    "\n",
    "path_to_extension = r'C:\\Users\\p_bag\\OneDrive\\Documentos\\1.17.0_0'\n",
    "path_to_extension_linux = r'/home/pablo/Documentos/1.17.0_0'\n",
    "windows = '/Users/p_bag/Downloads/chromedriver_win32/chromedriver.exe'\n",
    "linux = '/home/pablo/Descargas/chromedriver'\n",
    "\n",
    "chrome_options = Options()\n",
    "#chrome_options.add_argument('load-extension=' + path_to_extension)\n",
    "chrome_options.add_argument(\"--incognito\")\n",
    "\n",
    " \n"
   ]
  },
  {
   "cell_type": "code",
   "execution_count": 23,
   "metadata": {
    "collapsed": true
   },
   "outputs": [],
   "source": [
    "def scrapear(urls):\n",
    "    comentarios= []\n",
    "    #contador = 0\n",
    "    #primera = True\n",
    "    #chrome_options.add_argument('User-Agent :' + choice(desktop_agents))\n",
    "    #driver = webdriver.Chrome(windows, chrome_options=chrome_options)\n",
    "    #driver.create_options()\n",
    "    for nota_id, url in zip(urls.index, urls.values):\n",
    "        #que solo reabra el driver en divisores de 10?\n",
    "        #if contador % 4 == 0:\n",
    "        #    if not primera:\n",
    "        #        driver.quit()\n",
    "        #    driver = webdriver.Chrome(windows, chrome_options=chrome_options)\n",
    "        #    driver.create_options()\n",
    "        #    primera = False\n",
    "        #contador+=1\n",
    "        driver = webdriver.Chrome(windows, chrome_options=chrome_options)\n",
    "        driver.create_options()\n",
    "        driver.get(url)\n",
    "\n",
    "        driver.execute_script(\"window.scrollTo(0, document.body.scrollHeight);\")\n",
    "\n",
    "        try:\n",
    "            myElem = WebDriverWait(driver, 5).until(EC.presence_of_element_located((By.CLASS_NAME, 'fyre-stream-more-container')))\n",
    "            #print (\"Hay boton\")\n",
    "            button = True\n",
    "        except TimeoutException:\n",
    "            #print (\"No hay boton\")\n",
    "            button = False\n",
    "        #Que pasa si la nota esta cerrada a comentarios\n",
    "        while button:\n",
    "            try:\n",
    "                driver.find_element_by_class_name('fyre-stream-more-container').click()\n",
    "            except: \n",
    "                button = False\n",
    "        #todos los comentarios con me gusta, horario y autores,etc\n",
    "        try:\n",
    "            todo = driver.find_element_by_class_name('fyre-stream-content')\n",
    "            a= todo.find_elements_by_class_name('fyre-comment-article')\n",
    "            for item in a:\n",
    "                try:\n",
    "                    comentarios.append({'texto': item.find_elements_by_class_name(\"fyre-comment\")[0].text,\n",
    "                                        'usuario' : item.find_elements_by_class_name(\"fyre-comment-username\")[0].text,\n",
    "                                        'likes' : item.find_elements_by_class_name(\"fyre-comment-like-count\")[0].text,\n",
    "                                        'fecha' : item.find_elements_by_class_name(\"fyre-comment-date\")[0].text,\n",
    "                                        'respuestas' : len(item.find_elements_by_class_name('fyre-comment')) -1,\n",
    "                                        'es_respuesta': ('fyre-comment-replies' in item.find_element_by_xpath('..').get_attribute('class')),\n",
    "                                        'nota_id': nota_id,\n",
    "                                        'url': url\n",
    "                                       })\n",
    "                    print('.', end = '')\n",
    "                except:\n",
    "                    pass\n",
    "        except:\n",
    "            comentarios.append({'texto': \"NOTA SIN COMENTARIOS\",\n",
    "                                        'usuario' : \"\",\n",
    "                                        'likes' : \"\",\n",
    "                                        'fecha' : \"\",\n",
    "                                        'respuestas' : \"\",\n",
    "                                        'es_respuesta': \"\",\n",
    "                                        'nota_id': nota_id,\n",
    "                                        'url': url\n",
    "                                       })\n",
    "        driver.quit()\n",
    "    return comentarios"
   ]
  },
  {
   "cell_type": "code",
   "execution_count": 24,
   "metadata": {
    "collapsed": true
   },
   "outputs": [],
   "source": [
    "#from tqdm import tqdm,tqdm_notebook"
   ]
  },
  {
   "cell_type": "code",
   "execution_count": 25,
   "metadata": {},
   "outputs": [],
   "source": [
    "#resultado = scrapear(df.url[:1])\n",
    "#pd.DataFrame(resultado)"
   ]
  },
  {
   "cell_type": "code",
   "execution_count": 26,
   "metadata": {
    "collapsed": true
   },
   "outputs": [],
   "source": [
    "#df = df[:10]"
   ]
  },
  {
   "cell_type": "code",
   "execution_count": 14,
   "metadata": {
    "collapsed": true
   },
   "outputs": [],
   "source": [
    "corte = df.url.shape[0]//4\n",
    "lista_urls = []\n",
    "lista_urls.append(df.url[:corte])\n",
    "lista_urls.append(df.url[corte:corte*2])\n",
    "lista_urls.append(df.url[corte*2:corte*3])\n",
    "lista_urls.append(df.url[corte*3:df.shape[0]])"
   ]
  },
  {
   "cell_type": "code",
   "execution_count": 15,
   "metadata": {},
   "outputs": [
    {
     "name": "stdout",
     "output_type": "stream",
     "text": [
      "Wall time: 1min 40s\n"
     ]
    }
   ],
   "source": [
    "%%time\n",
    "from joblib import Parallel, delayed\n",
    "results = Parallel(n_jobs=-1)(delayed(scrapear)(urls) for urls in lista_urls)"
   ]
  },
  {
   "cell_type": "code",
   "execution_count": null,
   "metadata": {
    "collapsed": true
   },
   "outputs": [],
   "source": [
    "comentarios = results[0] + results[1] + results[2] + results[3]"
   ]
  },
  {
   "cell_type": "code",
   "execution_count": null,
   "metadata": {},
   "outputs": [],
   "source": [
    "import pandas as pd\n",
    "df_comentarios = pd.DataFrame(comentarios)\n",
    "df_comentarios"
   ]
  },
  {
   "cell_type": "code",
   "execution_count": null,
   "metadata": {
    "collapsed": true
   },
   "outputs": [],
   "source": [
    "#df_comentarios.to_csv('./data/commentarios_lanacion.csv')"
   ]
  },
  {
   "cell_type": "markdown",
   "metadata": {
    "colab": {},
    "colab_type": "code",
    "id": "rEWvlGdXpNzd"
   },
   "source": [
    "#versión sin conteo de respuestas\n",
    "%%time\n",
    "textos = todo.find_elements_by_class_name('fyre-comment')\n",
    "users = todo.find_elements_by_class_name(\"fyre-comment-username\")\n",
    "fechas = todo.find_elements_by_class_name(\"fyre-comment-date\")\n",
    "likes = todo.find_elements_by_class_name(\"fyre-comment-like-count\")\n",
    "usuarios =[x.text for x in users]\n",
    "textos = [x.text for x in textos]\n",
    "fechas = [x.text for x in fechas]\n",
    "likes = [x.text for x in likes]\n",
    "import pandas  as pd\n",
    "df = pd.DataFrame({'usuario': usuarios,\n",
    "                     'comment': textos,\n",
    "                   'fecha': fechas,\n",
    "                   'likes': likes\n",
    "                  })"
   ]
  },
  {
   "cell_type": "markdown",
   "metadata": {
    "collapsed": true
   },
   "source": [
    "https://www.lanacion.com.ar/2183896-hora-cambios-relacion-estado-iglesia, esta nota no abre automatico los comentarios\n",
    "El boton qeu abre lo comentarios es el ver comentarios\n",
    "<div class=\"ver-comentarios ver-comentarios\">\n",
    "    <a href=\"#comentarios\">Ver comentarios <span class=\"ds-none livefyre-commentcount\" data-lf-site-id=\"356483\" data-lf-article-id=\"1353322\">218</span></a>\n",
    "</div>\n",
    "en algunas aparece el boton y te lleva a los comentarios que estan abajo,\n",
    " en esa el boton dice 218 comments pero te lleva a la cartel de nota cerrada a comentarios\n",
    "hay notas cerradas a comentarios que te los muestra y otras que no te lo muestra?\n",
    "\n",
    "ejemplo de nota cerrada a comentarios:\n",
    "https://www.lanacion.com.ar/688808-cambios-en-un-area-sensible\n",
    "hay notas cerradas que tiene comentarios"
   ]
  },
  {
   "cell_type": "code",
   "execution_count": null,
   "metadata": {
    "collapsed": true
   },
   "outputs": [],
   "source": []
  }
 ],
 "metadata": {
  "colab": {
   "collapsed_sections": [],
   "name": "Copia de Comentarios La Nacion-Scraping2.ipynb",
   "provenance": [
    {
     "file_id": "0B2ZIrvgohCxRYWlqUGg1aWM2SHlURy1RN3FpNGZoMlRjLWRn",
     "timestamp": 1536682879067
    }
   ],
   "version": "0.3.2"
  },
  "kernelspec": {
   "display_name": "Python 3",
   "language": "python",
   "name": "python3"
  },
  "language_info": {
   "codemirror_mode": {
    "name": "ipython",
    "version": 3
   },
   "file_extension": ".py",
   "mimetype": "text/x-python",
   "name": "python",
   "nbconvert_exporter": "python",
   "pygments_lexer": "ipython3",
   "version": "3.6.3"
  }
 },
 "nbformat": 4,
 "nbformat_minor": 1
}
