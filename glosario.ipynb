{
 "cells": [
  {
   "cell_type": "code",
   "execution_count": 1,
   "metadata": {
    "collapsed": true
   },
   "outputs": [],
   "source": [
    "import pandas as pd"
   ]
  },
  {
   "cell_type": "code",
   "execution_count": 11,
   "metadata": {},
   "outputs": [],
   "source": [
    "misoginos = pd.read_excel('Biblioteca Términos.xlsx', sheet_name = 0, header = None)"
   ]
  },
  {
   "cell_type": "code",
   "execution_count": 12,
   "metadata": {},
   "outputs": [],
   "source": [
    "racistas = pd.read_excel('Biblioteca Términos.xlsx', sheet_name = 1, header = None)"
   ]
  },
  {
   "cell_type": "code",
   "execution_count": 14,
   "metadata": {},
   "outputs": [],
   "source": [
    "ideologicos = pd.read_excel('Biblioteca Términos.xlsx', sheet_name = 2, header = None)"
   ]
  },
  {
   "cell_type": "code",
   "execution_count": 16,
   "metadata": {},
   "outputs": [],
   "source": [
    "violentos = pd.read_excel('Biblioteca Términos.xlsx', sheet_name = 3, header = None)"
   ]
  },
  {
   "cell_type": "code",
   "execution_count": 17,
   "metadata": {
    "collapsed": true
   },
   "outputs": [],
   "source": [
    "homofobicos= pd.read_excel('Biblioteca Términos.xlsx', sheet_name = 4, header = None)"
   ]
  },
  {
   "cell_type": "code",
   "execution_count": 18,
   "metadata": {
    "collapsed": true
   },
   "outputs": [],
   "source": [
    "xenofobos = pd.read_excel('Biblioteca Términos.xlsx', sheet_name = 5, header = None)"
   ]
  },
  {
   "cell_type": "code",
   "execution_count": 72,
   "metadata": {
    "collapsed": true
   },
   "outputs": [],
   "source": [
    "glosarios = [misoginos, racistas, ideologicos, violentos, homofobicos, xenofobos]\n",
    "nombres = ['misoginos', 'racistas', 'ideologicos', 'violentos', 'homofobicos', 'xenofobos']"
   ]
  },
  {
   "cell_type": "code",
   "execution_count": 90,
   "metadata": {},
   "outputs": [],
   "source": [
    "import codecs\n",
    "for glosario,nombre in zip(glosarios,nombres):\n",
    "    cadena = \"','\".join(glosario[0].values)\n",
    "    cadena = str(nombre) +\" = ['\" + cadena + \"']\"\n",
    "    with codecs.open(\"glosarios.py\", \"a\", \"utf-8\") as text_file:\n",
    "        text_file.write(cadena + \"\\n\")"
   ]
  },
  {
   "cell_type": "code",
   "execution_count": 91,
   "metadata": {},
   "outputs": [],
   "source": [
    "import glosarios"
   ]
  },
  {
   "cell_type": "code",
   "execution_count": 94,
   "metadata": {},
   "outputs": [
    {
     "data": {
      "text/plain": [
       "['tortilleras',\n",
       " 'tortiyeras',\n",
       " 'trasvestidos',\n",
       " 'aberracion homosexual',\n",
       " 'travas',\n",
       " 'homo abortista',\n",
       " 'homosexualidad + enfermedad',\n",
       " 'Rompan el OGT']"
      ]
     },
     "execution_count": 94,
     "metadata": {},
     "output_type": "execute_result"
    }
   ],
   "source": [
    "glosarios.homofobicos"
   ]
  },
  {
   "cell_type": "code",
   "execution_count": null,
   "metadata": {
    "collapsed": true
   },
   "outputs": [],
   "source": []
  }
 ],
 "metadata": {
  "kernelspec": {
   "display_name": "Python 3",
   "language": "python",
   "name": "python3"
  },
  "language_info": {
   "codemirror_mode": {
    "name": "ipython",
    "version": 3
   },
   "file_extension": ".py",
   "mimetype": "text/x-python",
   "name": "python",
   "nbconvert_exporter": "python",
   "pygments_lexer": "ipython3",
   "version": "3.6.3"
  }
 },
 "nbformat": 4,
 "nbformat_minor": 2
}
