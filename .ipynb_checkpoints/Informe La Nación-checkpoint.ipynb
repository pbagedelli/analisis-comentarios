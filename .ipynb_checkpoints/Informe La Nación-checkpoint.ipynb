{
 "cells": [
  {
   "cell_type": "code",
   "execution_count": 15,
   "metadata": {
    "collapsed": true
   },
   "outputs": [],
   "source": [
    "import pandas as pd\n",
    "import matplotlib.pyplot as plt\n",
    "import seaborn as sns\n",
    "%matplotlib inline"
   ]
  },
  {
   "cell_type": "code",
   "execution_count": 16,
   "metadata": {
    "collapsed": true
   },
   "outputs": [],
   "source": [
    "df_notas = pd.read_csv('./data/lanacion_notas.csv', index_col = 0)\n",
    "df = pd.read_csv('./data/commentarios_lanacion.csv', index_col = 0)"
   ]
  },
  {
   "cell_type": "code",
   "execution_count": 17,
   "metadata": {},
   "outputs": [
    {
     "data": {
      "text/plain": [
       "(897, 65470)"
      ]
     },
     "execution_count": 17,
     "metadata": {},
     "output_type": "execute_result"
    }
   ],
   "source": [
    "#Cantidad de notas recopiladas y cantidad de comments totales\n",
    "df_notas.shape[0], df.shape[0]"
   ]
  },
  {
   "cell_type": "code",
   "execution_count": 18,
   "metadata": {},
   "outputs": [
    {
     "data": {
      "text/html": [
       "<div>\n",
       "<style scoped>\n",
       "    .dataframe tbody tr th:only-of-type {\n",
       "        vertical-align: middle;\n",
       "    }\n",
       "\n",
       "    .dataframe tbody tr th {\n",
       "        vertical-align: top;\n",
       "    }\n",
       "\n",
       "    .dataframe thead th {\n",
       "        text-align: right;\n",
       "    }\n",
       "</style>\n",
       "<table border=\"1\" class=\"dataframe\">\n",
       "  <thead>\n",
       "    <tr style=\"text-align: right;\">\n",
       "      <th></th>\n",
       "      <th>abierta_comentarios</th>\n",
       "      <th>autor</th>\n",
       "      <th>cuerpo</th>\n",
       "      <th>fecha</th>\n",
       "      <th>titulo</th>\n",
       "      <th>url</th>\n",
       "      <th>keywords</th>\n",
       "    </tr>\n",
       "    <tr>\n",
       "      <th>seccion</th>\n",
       "      <th></th>\n",
       "      <th></th>\n",
       "      <th></th>\n",
       "      <th></th>\n",
       "      <th></th>\n",
       "      <th></th>\n",
       "      <th></th>\n",
       "    </tr>\n",
       "  </thead>\n",
       "  <tbody>\n",
       "    <tr>\n",
       "      <th>Deportes</th>\n",
       "      <td>151</td>\n",
       "      <td>75</td>\n",
       "      <td>151</td>\n",
       "      <td>151</td>\n",
       "      <td>151</td>\n",
       "      <td>151</td>\n",
       "      <td>151</td>\n",
       "    </tr>\n",
       "    <tr>\n",
       "      <th>Economía</th>\n",
       "      <td>146</td>\n",
       "      <td>84</td>\n",
       "      <td>146</td>\n",
       "      <td>146</td>\n",
       "      <td>146</td>\n",
       "      <td>146</td>\n",
       "      <td>146</td>\n",
       "    </tr>\n",
       "    <tr>\n",
       "      <th>El Mundo</th>\n",
       "      <td>150</td>\n",
       "      <td>34</td>\n",
       "      <td>150</td>\n",
       "      <td>150</td>\n",
       "      <td>150</td>\n",
       "      <td>150</td>\n",
       "      <td>150</td>\n",
       "    </tr>\n",
       "    <tr>\n",
       "      <th>Espectáculos</th>\n",
       "      <td>150</td>\n",
       "      <td>51</td>\n",
       "      <td>150</td>\n",
       "      <td>150</td>\n",
       "      <td>150</td>\n",
       "      <td>150</td>\n",
       "      <td>150</td>\n",
       "    </tr>\n",
       "    <tr>\n",
       "      <th>Política</th>\n",
       "      <td>150</td>\n",
       "      <td>70</td>\n",
       "      <td>150</td>\n",
       "      <td>150</td>\n",
       "      <td>150</td>\n",
       "      <td>150</td>\n",
       "      <td>150</td>\n",
       "    </tr>\n",
       "    <tr>\n",
       "      <th>Sociedad</th>\n",
       "      <td>150</td>\n",
       "      <td>57</td>\n",
       "      <td>150</td>\n",
       "      <td>150</td>\n",
       "      <td>150</td>\n",
       "      <td>150</td>\n",
       "      <td>150</td>\n",
       "    </tr>\n",
       "  </tbody>\n",
       "</table>\n",
       "</div>"
      ],
      "text/plain": [
       "              abierta_comentarios  autor  cuerpo  fecha  titulo  url  keywords\n",
       "seccion                                                                       \n",
       "Deportes                      151     75     151    151     151  151       151\n",
       "Economía                      146     84     146    146     146  146       146\n",
       "El Mundo                      150     34     150    150     150  150       150\n",
       "Espectáculos                  150     51     150    150     150  150       150\n",
       "Política                      150     70     150    150     150  150       150\n",
       "Sociedad                      150     57     150    150     150  150       150"
      ]
     },
     "execution_count": 18,
     "metadata": {},
     "output_type": "execute_result"
    }
   ],
   "source": [
    "#cantidad de recopiladas por sección\n",
    "df_notas.groupby('seccion').count()"
   ]
  },
  {
   "cell_type": "code",
   "execution_count": 19,
   "metadata": {},
   "outputs": [
    {
     "data": {
      "text/plain": [
       "Index(['abierta_comentarios', 'autor', 'cuerpo', 'fecha', 'seccion', 'titulo',\n",
       "       'url', 'keywords'],\n",
       "      dtype='object')"
      ]
     },
     "execution_count": 19,
     "metadata": {},
     "output_type": "execute_result"
    }
   ],
   "source": [
    "#dimensiones de cada dataset\n",
    "df_notas.columns"
   ]
  },
  {
   "cell_type": "code",
   "execution_count": 20,
   "metadata": {},
   "outputs": [
    {
     "data": {
      "text/plain": [
       "Index(['es_respuesta', 'fecha', 'likes', 'nota_id', 'respuestas', 'texto',\n",
       "       'url', 'usuario', 'autor', 'seccion', 'titulo', 'severe_toxicity',\n",
       "       'toxicity'],\n",
       "      dtype='object')"
      ]
     },
     "execution_count": 20,
     "metadata": {},
     "output_type": "execute_result"
    }
   ],
   "source": [
    "df.columns"
   ]
  },
  {
   "cell_type": "code",
   "execution_count": 21,
   "metadata": {},
   "outputs": [
    {
     "data": {
      "text/plain": [
       "array(['Andrés Eliceche', nan, 'Franco Tossi', 'Claudio Mauri',\n",
       "       'Javier Blanco', 'Sofía Diamante', 'Silvia Stang',\n",
       "       'Alberto Armendáriz', 'Silvia Pisani', 'Julia Montesoro',\n",
       "       'Rafael Mathus Ruiz', 'Gabriela Origlia ', 'Fabiola Czubaj',\n",
       "       'Daniela Chueke Perles', 'Nora Bär', 'Juan Patricio Balbi Vignolo',\n",
       "       'Sebastián Torok', 'Fernando Vergara', 'Paula Urien',\n",
       "       'Elisabetta Piqué', 'Natalia Trzenko', 'Hernán Cappiello',\n",
       "       'Darío Palavecino', 'Víctor Pombinho Soares', 'Pablo Mannino',\n",
       "       '\\r\\r\\r\\n\\r\\r\\r\\n', 'Alejandro Casar González',\n",
       "       'María Julieta Rumi', 'Andrés Krom', 'Marcelo Stiletano',\n",
       "       'Cecilia Martínez', 'Laura Chertkoff', 'Santiago Dapelo',\n",
       "       'Iván Ruiz', 'Gabriel Di Nicola', 'Pablo Ricardi',\n",
       "       \"Julia D'Arrisso\", 'Francisco Jueguen', 'Mariana Reinke',\n",
       "       'Charlotte Graham-McLay', 'Joaquín Vismara',\n",
       "       'Virginia Chacon Dorr', 'Rocío García', 'Silvina Ajmat',\n",
       "       'Leonardo Scannone', 'Román Iucht', 'Agustín Monguillot',\n",
       "       'Pablo Montagna', 'Mariano Obarrio', 'Nicolás Rotnitzky',\n",
       "       'Patricio Insua', 'José María Costa', 'Hugo Alconada Mon',\n",
       "       'Nicolás Balinotti', 'Juan Carlos de Pablo', 'Stephen Kalin',\n",
       "       'Paula Vázquez Prieto', 'Sebastián Chaves', 'Carlos Pacheco',\n",
       "       'Javier Fuego Simondet', 'Fernando J. de Aróstegui',\n",
       "       'Hernán Ferreirós', 'Paz Rodríguez Niell', 'Sofía Terrile',\n",
       "       'María Ayzaguer', 'Martín Artigas', 'Laura Serra',\n",
       "       'Federico Acosta Rainis', 'Nicolás Cassese', 'Germán Leza',\n",
       "       'Santiago Bulat', 'Carlos Manzoni', 'Diego Batlle',\n",
       "       'Natalia Laube', 'Gustavo Carabajal', 'Carlos Delfino',\n",
       "       'Sol Amaya', 'Xavier Prieto Astigarraga', 'Sebastián Fest',\n",
       "       'Jorge Búsico', 'Matías Baldo', 'Diego Mancusi', 'Daniel Gallo',\n",
       "       'Daniel Lozano', 'Jaime Rosemberg', 'Silvina Premat',\n",
       "       'Germán de los Santos', 'Alfredo Sainz', 'Gastón Saiz',\n",
       "       'Leandro Vesco', 'Sofía Orsay', 'Gabriel Sued',\n",
       "       'Mauricio Giambartolomei', 'Pablo Fernández Blanco',\n",
       "       'Sebastián Ramos', 'Marcelo Veneranda', 'Romina Colman',\n",
       "       'Pilar Tapia', 'Mariana Israel', 'Silvina Marino',\n",
       "       'Fernanda Iglesias', 'María José Lucesole', 'Ana Tronfi',\n",
       "       'Paloma Suárez Echeverría', 'Luis Eduardo Meglioli',\n",
       "       'Nelson Fernández', 'Martín Fernández Cruz', 'Gabriel Plaza',\n",
       "       'Claudio Jacquelin', 'Rodolfo Chisleanschi', 'Gonzalo Capozzolo',\n",
       "       'Diego Morini', 'José Del Rio', 'Agustín Reynal', 'Bassem Mroue ',\n",
       "       'Tomás Balmaceda', 'María Fernanda Mugica', 'Claudia Guzmán',\n",
       "       'Luisa Corradini', 'Diego Cabot', 'Alan Soria Guadalupe',\n",
       "       'Gustavo S. González', 'Daniel Santa Cruz ', 'David Kirkpatrick',\n",
       "       'Maia Jastreblansky', 'Rosario Marina', 'Claudio Cerviño',\n",
       "       'Ignacio Federico', 'Alejandro Lingenti', 'Brenda Struminger',\n",
       "       'Jesica Rizzo', 'Yamila Trautman', 'María Pettinelli',\n",
       "       'Ariel Ruya', 'Pablo Casazza', 'Ariel Barraud', 'Mariela Arias',\n",
       "       'Ricardo Salton', 'José E. Bordón', 'Damián Di Pace',\n",
       "       'Tamara Talesnik', 'Dolores Graña', 'Rubén Guillemí',\n",
       "       'Vanesa Listek', 'Pablo Lisotto', 'Esteban Lafuente',\n",
       "       'Sebastián Espósito', 'Irene Crespo'], dtype=object)"
      ]
     },
     "execution_count": 21,
     "metadata": {},
     "output_type": "execute_result"
    }
   ],
   "source": [
    "df_notas.autor.unique()"
   ]
  },
  {
   "cell_type": "code",
   "execution_count": 22,
   "metadata": {},
   "outputs": [
    {
     "data": {
      "text/plain": [
       "371"
      ]
     },
     "execution_count": 22,
     "metadata": {},
     "output_type": "execute_result"
    }
   ],
   "source": [
    "#Cantidad de notas firmadas\n",
    "df_notas.autor.notnull().sum()"
   ]
  },
  {
   "cell_type": "code",
   "execution_count": 23,
   "metadata": {},
   "outputs": [
    {
     "data": {
      "text/plain": [
       "firmada\n",
       "False    0.259407\n",
       "True     0.247381\n",
       "Name: toxicity, dtype: float64"
      ]
     },
     "execution_count": 23,
     "metadata": {},
     "output_type": "execute_result"
    }
   ],
   "source": [
    "#promedio toxicity notas firmadas contra anonimas.\n",
    "\n",
    "#df = df.merge(df_notas[['autor_y','titulo']], how ='left', on = 'titulo')\n",
    "df['firmada'] = df.autor.notnull()\n",
    "df.groupby('firmada').mean().toxicity"
   ]
  },
  {
   "cell_type": "code",
   "execution_count": 29,
   "metadata": {},
   "outputs": [
    {
     "data": {
      "text/html": [
       "<div>\n",
       "<style scoped>\n",
       "    .dataframe tbody tr th:only-of-type {\n",
       "        vertical-align: middle;\n",
       "    }\n",
       "\n",
       "    .dataframe tbody tr th {\n",
       "        vertical-align: top;\n",
       "    }\n",
       "\n",
       "    .dataframe thead th {\n",
       "        text-align: right;\n",
       "    }\n",
       "</style>\n",
       "<table border=\"1\" class=\"dataframe\">\n",
       "  <thead>\n",
       "    <tr style=\"text-align: right;\">\n",
       "      <th></th>\n",
       "      <th>es_respuesta</th>\n",
       "      <th>likes</th>\n",
       "      <th>nota_id</th>\n",
       "      <th>respuestas</th>\n",
       "      <th>severe_toxicity</th>\n",
       "      <th>toxicity</th>\n",
       "      <th>firmada</th>\n",
       "    </tr>\n",
       "    <tr>\n",
       "      <th>genero</th>\n",
       "      <th></th>\n",
       "      <th></th>\n",
       "      <th></th>\n",
       "      <th></th>\n",
       "      <th></th>\n",
       "      <th></th>\n",
       "      <th></th>\n",
       "    </tr>\n",
       "  </thead>\n",
       "  <tbody>\n",
       "    <tr>\n",
       "      <th>female</th>\n",
       "      <td>0.579140</td>\n",
       "      <td>3.093028</td>\n",
       "      <td>559.219426</td>\n",
       "      <td>0.896780</td>\n",
       "      <td>0.197297</td>\n",
       "      <td>0.242742</td>\n",
       "      <td>1.0</td>\n",
       "    </tr>\n",
       "    <tr>\n",
       "      <th>male</th>\n",
       "      <td>0.601004</td>\n",
       "      <td>2.636702</td>\n",
       "      <td>454.244927</td>\n",
       "      <td>0.922745</td>\n",
       "      <td>0.196715</td>\n",
       "      <td>0.248794</td>\n",
       "      <td>1.0</td>\n",
       "    </tr>\n",
       "  </tbody>\n",
       "</table>\n",
       "</div>"
      ],
      "text/plain": [
       "        es_respuesta     likes     nota_id  respuestas  severe_toxicity  \\\n",
       "genero                                                                    \n",
       "female      0.579140  3.093028  559.219426    0.896780         0.197297   \n",
       "male        0.601004  2.636702  454.244927    0.922745         0.196715   \n",
       "\n",
       "        toxicity  firmada  \n",
       "genero                     \n",
       "female  0.242742      1.0  \n",
       "male    0.248794      1.0  "
      ]
     },
     "execution_count": 29,
     "metadata": {},
     "output_type": "execute_result"
    }
   ],
   "source": [
    "#promedio toxicity por genero de autor\n",
    "autores = pd.read_csv('./data/autores_lanacion.csv', index_col = 0)\n",
    "df.merge(autores, how ='left', on = 'autor').groupby('genero').mean()"
   ]
  },
  {
   "cell_type": "code",
   "execution_count": 7,
   "metadata": {},
   "outputs": [
    {
     "data": {
      "text/plain": [
       "seccion\n",
       "Deportes         3154\n",
       "Economía        13804\n",
       "El Mundo         6144\n",
       "Espectáculos      707\n",
       "Política        33372\n",
       "Sociedad         8289\n",
       "Name: texto, dtype: int64"
      ]
     },
     "execution_count": 7,
     "metadata": {},
     "output_type": "execute_result"
    }
   ],
   "source": [
    "#cantidad de comentarios por sección (y cantidad de notas firmadas)\n",
    "df.groupby('seccion').count()['texto']"
   ]
  },
  {
   "cell_type": "code",
   "execution_count": 8,
   "metadata": {},
   "outputs": [
    {
     "data": {
      "text/plain": [
       "<matplotlib.axes._subplots.AxesSubplot at 0x7fda5473b8d0>"
      ]
     },
     "execution_count": 8,
     "metadata": {},
     "output_type": "execute_result"
    },
    {
     "data": {
      "image/png": "[encoded data removed]",
      "text/plain": [
       "<Figure size 432x288 with 1 Axes>"
      ]
     },
     "metadata": {},
     "output_type": "display_data"
    }
   ],
   "source": [
    "sns.barplot(df.groupby('seccion').count().index, df.groupby('seccion').count().texto)"
   ]
  },
  {
   "cell_type": "code",
   "execution_count": 9,
   "metadata": {
    "scrolled": false
   },
   "outputs": [
    {
     "data": {
      "text/plain": [
       "seccion_y\n",
       "Deportes         25.823529\n",
       "Economía        118.806723\n",
       "El Mundo         50.377049\n",
       "Espectáculos      8.416667\n",
       "Política        245.544118\n",
       "Sociedad         81.301724\n",
       "Name: texto, dtype: float64"
      ]
     },
     "execution_count": 9,
     "metadata": {},
     "output_type": "execute_result"
    }
   ],
   "source": [
    "#promedio de comentarios por sección\n",
    "df.groupby('titulo').count().merge(df_notas, how = 'left', on = 'titulo').groupby('seccion_y').mean().texto"
   ]
  },
  {
   "cell_type": "code",
   "execution_count": 10,
   "metadata": {},
   "outputs": [
    {
     "data": {
      "text/plain": [
       "seccion\n",
       "Deportes        0.216971\n",
       "Economía        0.235532\n",
       "El Mundo        0.275944\n",
       "Espectáculos    0.217524\n",
       "Política        0.261806\n",
       "Sociedad        0.255870\n",
       "Name: toxicity, dtype: float64"
      ]
     },
     "execution_count": 10,
     "metadata": {},
     "output_type": "execute_result"
    }
   ],
   "source": [
    "#promedio de toxicidad por sección\n",
    "df.groupby('seccion').mean().toxicity"
   ]
  },
  {
   "cell_type": "code",
   "execution_count": 11,
   "metadata": {},
   "outputs": [
    {
     "data": {
      "text/plain": [
       "seccion\n",
       "Deportes        0.169038\n",
       "Economía        0.185474\n",
       "El Mundo        0.248397\n",
       "Espectáculos    0.170498\n",
       "Política        0.208101\n",
       "Sociedad        0.217044\n",
       "Name: severe_toxicity, dtype: float64"
      ]
     },
     "execution_count": 11,
     "metadata": {},
     "output_type": "execute_result"
    }
   ],
   "source": [
    "#promedio de toxicidad severa por sección\n",
    "df.groupby('seccion').mean().severe_toxicity"
   ]
  },
  {
   "cell_type": "code",
   "execution_count": 12,
   "metadata": {},
   "outputs": [
    {
     "data": {
      "text/plain": [
       "1246"
      ]
     },
     "execution_count": 12,
     "metadata": {},
     "output_type": "execute_result"
    }
   ],
   "source": [
    "#cantidad comentarios con más de 500 caracteres\n",
    "df.texto = df.texto.apply(lambda x : x.replace('\\r','').replace('\\n',''))\n",
    "df['caracteres'] = df.texto.apply(len)\n",
    "df.loc[df.caracteres > 500].shape[0]"
   ]
  },
  {
   "cell_type": "code",
   "execution_count": 13,
   "metadata": {},
   "outputs": [
    {
     "data": {
      "text/plain": [
       "773"
      ]
     },
     "execution_count": 13,
     "metadata": {},
     "output_type": "execute_result"
    }
   ],
   "source": [
    "#cantidad de comentarios 500 caracteres sin espacio\n",
    "df['caracteresSE'] = df.texto.apply(lambda x: len(x) - x.count(' '))\n",
    "df.loc[df.caracteresSE > 500].shape[0]"
   ]
  },
  {
   "cell_type": "code",
   "execution_count": 14,
   "metadata": {},
   "outputs": [
    {
     "data": {
      "text/plain": [
       "seccion\n",
       "Deportes        45.561192\n",
       "Economía        61.873370\n",
       "El Mundo        58.707682\n",
       "Espectáculos    21.499293\n",
       "Política        55.375764\n",
       "Sociedad        56.593075\n",
       "Name: es_respuesta, dtype: float64"
      ]
     },
     "execution_count": 14,
     "metadata": {},
     "output_type": "execute_result"
    }
   ],
   "source": [
    "#porcentaje de comentarios \"es_respuesta\" por sección\n",
    "df.groupby('seccion').mean().es_respuesta *100"
   ]
  },
  {
   "cell_type": "code",
   "execution_count": 15,
   "metadata": {
    "collapsed": true
   },
   "outputs": [],
   "source": [
    "#porcentaje de categorias\n",
    "import glosariosRe"
   ]
  },
  {
   "cell_type": "code",
   "execution_count": 16,
   "metadata": {},
   "outputs": [
    {
     "name": "stderr",
     "output_type": "stream",
     "text": [
      "/home/pablo/anaconda3/lib/python3.6/site-packages/ipykernel_launcher.py:2: UserWarning: This pattern has match groups. To actually get the groups, use str.extract.\n",
      "  \n",
      "/home/pablo/anaconda3/lib/python3.6/site-packages/ipykernel_launcher.py:3: UserWarning: This pattern has match groups. To actually get the groups, use str.extract.\n",
      "  This is separate from the ipykernel package so we can avoid doing imports until\n",
      "/home/pablo/anaconda3/lib/python3.6/site-packages/ipykernel_launcher.py:4: UserWarning: This pattern has match groups. To actually get the groups, use str.extract.\n",
      "  after removing the cwd from sys.path.\n",
      "/home/pablo/anaconda3/lib/python3.6/site-packages/ipykernel_launcher.py:5: UserWarning: This pattern has match groups. To actually get the groups, use str.extract.\n",
      "  \"\"\"\n",
      "/home/pablo/anaconda3/lib/python3.6/site-packages/ipykernel_launcher.py:6: UserWarning: This pattern has match groups. To actually get the groups, use str.extract.\n",
      "  \n",
      "/home/pablo/anaconda3/lib/python3.6/site-packages/ipykernel_launcher.py:7: UserWarning: This pattern has match groups. To actually get the groups, use str.extract.\n",
      "  import sys\n",
      "/home/pablo/anaconda3/lib/python3.6/site-packages/ipykernel_launcher.py:8: UserWarning: This pattern has match groups. To actually get the groups, use str.extract.\n",
      "  \n"
     ]
    }
   ],
   "source": [
    "import re\n",
    "misoginos = df.loc[df.texto.str.contains(glosariosRe.misoginos, flags = re.IGNORECASE, na = False)]\n",
    "racistas = df.loc[df.texto.str.contains(glosariosRe.racistas, flags = re.IGNORECASE, na = False)]\n",
    "xenofobos = df.loc[df.texto.str.contains(glosariosRe.xenofobos, flags = re.IGNORECASE, na = False)]\n",
    "ideologicos = df.loc[df.texto.str.contains(glosariosRe.ideologicos, flags = re.IGNORECASE, na = False)]\n",
    "violentos = df.loc[df.texto.str.contains(glosariosRe.violentos, flags = re.IGNORECASE, na = False)]\n",
    "homofobicos = df.loc[df.texto.str.contains(glosariosRe.homofobicos, flags = re.IGNORECASE, na = False)]\n",
    "periodistas = df.loc[df.texto.str.contains(glosariosRe.periodistas, flags = re.IGNORECASE, na = False)]"
   ]
  },
  {
   "cell_type": "code",
   "execution_count": 17,
   "metadata": {
    "collapsed": true
   },
   "outputs": [],
   "source": [
    "import numpy as np\n",
    "def porcentajes(df):\n",
    "    return (df.seccion.value_counts()/df.seccion.value_counts().sum()*100).astype(int)\n",
    "def graficar(df):\n",
    "    plt.ylim(0, 62)\n",
    "    sns.barplot(porcentajes(df).index, porcentajes(df).values)"
   ]
  },
  {
   "cell_type": "code",
   "execution_count": 18,
   "metadata": {},
   "outputs": [
    {
     "data": {
      "image/png": "[encoded data removed]",
      "text/plain": [
       "<Figure size 1296x720 with 7 Axes>"
      ]
     },
     "metadata": {},
     "output_type": "display_data"
    }
   ],
   "source": [
    "plt.figure(figsize=(18,10))\n",
    "plt.subplot(331)\n",
    "plt.title('Ataque a periodistas')\n",
    "graficar(periodistas)\n",
    "plt.subplot(332)\n",
    "plt.title('Ideológicos')\n",
    "graficar(ideologicos)\n",
    "plt.subplot(333)\n",
    "plt.title('Misóginos')\n",
    "graficar(misoginos)\n",
    "plt.subplot(334)\n",
    "plt.title('Racistas')\n",
    "graficar(racistas);\n",
    "plt.subplot(335)\n",
    "plt.title('Violentos')\n",
    "graficar(violentos);\n",
    "plt.subplot(336)\n",
    "plt.title('Homofóbicos')\n",
    "graficar(homofobicos);\n",
    "plt.subplot(337)\n",
    "plt.title('Xenofobos')\n",
    "graficar(xenofobos);"
   ]
  },
  {
   "cell_type": "code",
   "execution_count": 19,
   "metadata": {},
   "outputs": [
    {
     "data": {
      "text/plain": [
       "Política        55\n",
       "Economía        16\n",
       "El Mundo        10\n",
       "Sociedad        10\n",
       "Espectáculos     6\n",
       "Deportes         2\n",
       "Name: seccion, dtype: int64"
      ]
     },
     "execution_count": 19,
     "metadata": {},
     "output_type": "execute_result"
    }
   ],
   "source": [
    "porcentajes(misoginos)"
   ]
  },
  {
   "cell_type": "code",
   "execution_count": 20,
   "metadata": {},
   "outputs": [
    {
     "data": {
      "text/plain": [
       "0.07484343974339393"
      ]
     },
     "execution_count": 20,
     "metadata": {},
     "output_type": "execute_result"
    }
   ],
   "source": [
    "misoginos.shape[0]/df.shape[0]*100"
   ]
  },
  {
   "cell_type": "code",
   "execution_count": 21,
   "metadata": {},
   "outputs": [
    {
     "data": {
      "text/plain": [
       "0.145104628073927"
      ]
     },
     "execution_count": 21,
     "metadata": {},
     "output_type": "execute_result"
    }
   ],
   "source": [
    "racistas.shape[0]/df.shape[0] *100"
   ]
  },
  {
   "cell_type": "code",
   "execution_count": 22,
   "metadata": {},
   "outputs": [
    {
     "data": {
      "text/plain": [
       "0.134412708110585"
      ]
     },
     "execution_count": 22,
     "metadata": {},
     "output_type": "execute_result"
    }
   ],
   "source": [
    "violentos.shape[0]/df.shape[0] *100"
   ]
  },
  {
   "cell_type": "code",
   "execution_count": 23,
   "metadata": {},
   "outputs": [
    {
     "data": {
      "text/plain": [
       "0.01985642278906369"
      ]
     },
     "execution_count": 23,
     "metadata": {},
     "output_type": "execute_result"
    }
   ],
   "source": [
    "homofobicos.shape[0]/df.shape[0] *100"
   ]
  },
  {
   "cell_type": "code",
   "execution_count": 24,
   "metadata": {},
   "outputs": [
    {
     "data": {
      "text/plain": [
       "0.2016190621658775"
      ]
     },
     "execution_count": 24,
     "metadata": {},
     "output_type": "execute_result"
    }
   ],
   "source": [
    "xenofobos.shape[0]/df.shape[0] *100"
   ]
  },
  {
   "cell_type": "code",
   "execution_count": 25,
   "metadata": {},
   "outputs": [
    {
     "data": {
      "text/plain": [
       "1.2708110585000763"
      ]
     },
     "execution_count": 25,
     "metadata": {},
     "output_type": "execute_result"
    }
   ],
   "source": [
    "ideologicos.shape[0]/df.shape[0] *100"
   ]
  },
  {
   "cell_type": "code",
   "execution_count": 26,
   "metadata": {},
   "outputs": [
    {
     "data": {
      "text/plain": [
       "0.6812280433786467"
      ]
     },
     "execution_count": 26,
     "metadata": {},
     "output_type": "execute_result"
    }
   ],
   "source": [
    "periodistas.shape[0]/df.shape[0] *100"
   ]
  },
  {
   "cell_type": "code",
   "execution_count": 27,
   "metadata": {
    "collapsed": true
   },
   "outputs": [],
   "source": [
    "#misoginos.sort_values(by = 'toxicity', ascending= False).to_csv('./data/misoginos_lanacion.csv')\n",
    "#racistas.sort_values(by = 'toxicity', ascending= False).to_csv('./data/racistas_lanacion.csv')\n",
    "#xenofobos.sort_values(by = 'toxicity', ascending= False).to_csv('./data/xenofobos_lanacion.csv')\n",
    "#ideologicos.sort_values(by = 'toxicity', ascending= False).to_csv('./data/ideologicos_lanacion.csv')\n",
    "#violentos.sort_values(by = 'toxicity', ascending= False).to_csv('./data/violentos_lanacion.csv')\n",
    "#homofobicos.sort_values(by = 'toxicity', ascending= False).to_csv('./data/homofobicos_lanacion.csv')\n",
    "#periodistas.sort_values(by = 'toxicity', ascending= False).to_csv('./data/periodistas_lanacion.csv')"
   ]
  },
  {
   "cell_type": "markdown",
   "metadata": {},
   "source": [
    "Quedaría: \n",
    "-Temas con mayor cantidad de comentarios? Cómo se agruparía por temas"
   ]
  },
  {
   "cell_type": "code",
   "execution_count": null,
   "metadata": {
    "collapsed": true
   },
   "outputs": [],
   "source": []
  }
 ],
 "metadata": {
  "kernelspec": {
   "display_name": "Python 3",
   "language": "python",
   "name": "python3"
  },
  "language_info": {
   "codemirror_mode": {
    "name": "ipython",
    "version": 3
   },
   "file_extension": ".py",
   "mimetype": "text/x-python",
   "name": "python",
   "nbconvert_exporter": "python",
   "pygments_lexer": "ipython3",
   "version": "3.6.3"
  }
 },
 "nbformat": 4,
 "nbformat_minor": 2
}
