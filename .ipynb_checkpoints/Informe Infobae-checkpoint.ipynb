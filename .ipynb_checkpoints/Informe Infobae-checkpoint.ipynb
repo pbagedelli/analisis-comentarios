{
 "cells": [
  {
   "cell_type": "code",
   "execution_count": 2,
   "metadata": {
    "collapsed": true
   },
   "outputs": [],
   "source": [
    "import pandas as pd\n",
    "import matplotlib.pyplot as plt\n",
    "import seaborn as sns\n",
    "%matplotlib inline"
   ]
  },
  {
   "cell_type": "code",
   "execution_count": 3,
   "metadata": {},
   "outputs": [],
   "source": [
    "df_notas = pd.read_csv('./data/infobae_notas.csv', index_col = 0)\n",
    "df = pd.read_csv('./data/commentarios_infobae.csv', index_col = 0)\n",
    "#infobae = pd.read_csv('./data/commentarios_infobae.csv', index_col = 0)"
   ]
  },
  {
   "cell_type": "code",
   "execution_count": 4,
   "metadata": {},
   "outputs": [
    {
     "data": {
      "text/plain": [
       "(862, 46191)"
      ]
     },
     "execution_count": 4,
     "metadata": {},
     "output_type": "execute_result"
    }
   ],
   "source": [
    "#Cantidad de notas recopiladas y cantidad de comments totales\n",
    "df_notas.shape[0], df.shape[0]"
   ]
  },
  {
   "cell_type": "code",
   "execution_count": 5,
   "metadata": {},
   "outputs": [
    {
     "data": {
      "text/html": [
       "<div>\n",
       "<style scoped>\n",
       "    .dataframe tbody tr th:only-of-type {\n",
       "        vertical-align: middle;\n",
       "    }\n",
       "\n",
       "    .dataframe tbody tr th {\n",
       "        vertical-align: top;\n",
       "    }\n",
       "\n",
       "    .dataframe thead th {\n",
       "        text-align: right;\n",
       "    }\n",
       "</style>\n",
       "<table border=\"1\" class=\"dataframe\">\n",
       "  <thead>\n",
       "    <tr style=\"text-align: right;\">\n",
       "      <th></th>\n",
       "      <th>abierta_comentarios</th>\n",
       "      <th>autor</th>\n",
       "      <th>cuerpo</th>\n",
       "      <th>fecha</th>\n",
       "      <th>titulo</th>\n",
       "      <th>url</th>\n",
       "      <th>keywords</th>\n",
       "    </tr>\n",
       "    <tr>\n",
       "      <th>seccion</th>\n",
       "      <th></th>\n",
       "      <th></th>\n",
       "      <th></th>\n",
       "      <th></th>\n",
       "      <th></th>\n",
       "      <th></th>\n",
       "      <th></th>\n",
       "    </tr>\n",
       "  </thead>\n",
       "  <tbody>\n",
       "    <tr>\n",
       "      <th>america/mundo</th>\n",
       "      <td>145</td>\n",
       "      <td>4</td>\n",
       "      <td>145</td>\n",
       "      <td>145</td>\n",
       "      <td>145</td>\n",
       "      <td>145</td>\n",
       "      <td>145</td>\n",
       "    </tr>\n",
       "    <tr>\n",
       "      <th>deportes-2</th>\n",
       "      <td>145</td>\n",
       "      <td>17</td>\n",
       "      <td>139</td>\n",
       "      <td>145</td>\n",
       "      <td>145</td>\n",
       "      <td>145</td>\n",
       "      <td>145</td>\n",
       "    </tr>\n",
       "    <tr>\n",
       "      <th>economia</th>\n",
       "      <td>138</td>\n",
       "      <td>72</td>\n",
       "      <td>138</td>\n",
       "      <td>138</td>\n",
       "      <td>138</td>\n",
       "      <td>138</td>\n",
       "      <td>138</td>\n",
       "    </tr>\n",
       "    <tr>\n",
       "      <th>politica</th>\n",
       "      <td>145</td>\n",
       "      <td>43</td>\n",
       "      <td>145</td>\n",
       "      <td>145</td>\n",
       "      <td>145</td>\n",
       "      <td>145</td>\n",
       "      <td>145</td>\n",
       "    </tr>\n",
       "    <tr>\n",
       "      <th>sociedad</th>\n",
       "      <td>144</td>\n",
       "      <td>29</td>\n",
       "      <td>142</td>\n",
       "      <td>144</td>\n",
       "      <td>144</td>\n",
       "      <td>144</td>\n",
       "      <td>144</td>\n",
       "    </tr>\n",
       "    <tr>\n",
       "      <th>teleshow/infoshow</th>\n",
       "      <td>145</td>\n",
       "      <td>20</td>\n",
       "      <td>144</td>\n",
       "      <td>145</td>\n",
       "      <td>145</td>\n",
       "      <td>145</td>\n",
       "      <td>145</td>\n",
       "    </tr>\n",
       "  </tbody>\n",
       "</table>\n",
       "</div>"
      ],
      "text/plain": [
       "                   abierta_comentarios  autor  cuerpo  fecha  titulo  url  \\\n",
       "seccion                                                                     \n",
       "america/mundo                      145      4     145    145     145  145   \n",
       "deportes-2                         145     17     139    145     145  145   \n",
       "economia                           138     72     138    138     138  138   \n",
       "politica                           145     43     145    145     145  145   \n",
       "sociedad                           144     29     142    144     144  144   \n",
       "teleshow/infoshow                  145     20     144    145     145  145   \n",
       "\n",
       "                   keywords  \n",
       "seccion                      \n",
       "america/mundo           145  \n",
       "deportes-2              145  \n",
       "economia                138  \n",
       "politica                145  \n",
       "sociedad                144  \n",
       "teleshow/infoshow       145  "
      ]
     },
     "execution_count": 5,
     "metadata": {},
     "output_type": "execute_result"
    }
   ],
   "source": [
    "#cantidad de recopiladas por sección\n",
    "df_notas.groupby('seccion').count()"
   ]
  },
  {
   "cell_type": "code",
   "execution_count": 6,
   "metadata": {},
   "outputs": [
    {
     "data": {
      "text/plain": [
       "Index(['abierta_comentarios', 'autor', 'cuerpo', 'fecha', 'seccion', 'titulo',\n",
       "       'url', 'keywords'],\n",
       "      dtype='object')"
      ]
     },
     "execution_count": 6,
     "metadata": {},
     "output_type": "execute_result"
    }
   ],
   "source": [
    "#dimensiones de cada dataset\n",
    "df_notas.columns"
   ]
  },
  {
   "cell_type": "code",
   "execution_count": 7,
   "metadata": {},
   "outputs": [
    {
     "data": {
      "text/plain": [
       "Index(['es_respuesta', 'fecha', 'likes', 'respuestas', 'texto', 'usuario',\n",
       "       'seccion', 'titulo', 'url', 'severe_toxicity', 'toxicity'],\n",
       "      dtype='object')"
      ]
     },
     "execution_count": 7,
     "metadata": {},
     "output_type": "execute_result"
    }
   ],
   "source": [
    "df.columns"
   ]
  },
  {
   "cell_type": "code",
   "execution_count": 11,
   "metadata": {},
   "outputs": [
    {
     "data": {
      "text/plain": [
       "seccion\n",
       "america/mundo         2181\n",
       "deportes-2            4188\n",
       "economia              9036\n",
       "politica             15926\n",
       "sociedad             10016\n",
       "teleshow/infoshow     4844\n",
       "Name: texto, dtype: int64"
      ]
     },
     "execution_count": 11,
     "metadata": {},
     "output_type": "execute_result"
    }
   ],
   "source": [
    "#cantidad de comentarios por sección (y cantidad de notas firmadas)\n",
    "df.groupby('seccion').count()['texto']"
   ]
  },
  {
   "cell_type": "code",
   "execution_count": 12,
   "metadata": {},
   "outputs": [
    {
     "name": "stderr",
     "output_type": "stream",
     "text": [
      "C:\\Users\\p_bag\\Anaconda3\\lib\\site-packages\\seaborn\\categorical.py:1460: FutureWarning: remove_na is deprecated and is a private function. Do not use.\n",
      "  stat_data = remove_na(group_data)\n"
     ]
    },
    {
     "data": {
      "text/plain": [
       "<matplotlib.axes._subplots.AxesSubplot at 0x1b0f7a35a58>"
      ]
     },
     "execution_count": 12,
     "metadata": {},
     "output_type": "execute_result"
    },
    {
     "data": {
      "image/png": "[encoded data removed]",
      "text/plain": [
       "<matplotlib.figure.Figure at 0x1b0f7a27d68>"
      ]
     },
     "metadata": {},
     "output_type": "display_data"
    }
   ],
   "source": [
    "sns.barplot(df.groupby('seccion').count().index, df.groupby('seccion').count().texto)"
   ]
  },
  {
   "cell_type": "code",
   "execution_count": 13,
   "metadata": {
    "scrolled": false
   },
   "outputs": [
    {
     "data": {
      "text/plain": [
       "seccion_y\n",
       "america/mundo         21.174757\n",
       "deportes-2            33.504000\n",
       "economia              77.896552\n",
       "politica             119.914894\n",
       "sociedad              76.083333\n",
       "teleshow/infoshow     36.977099\n",
       "Name: texto, dtype: float64"
      ]
     },
     "execution_count": 13,
     "metadata": {},
     "output_type": "execute_result"
    }
   ],
   "source": [
    "#promedio de comentarios por sección\n",
    "df.groupby('titulo').count().merge(df_notas, how = 'left', on = 'titulo').groupby('seccion_y').mean().texto"
   ]
  },
  {
   "cell_type": "code",
   "execution_count": 14,
   "metadata": {},
   "outputs": [
    {
     "data": {
      "text/plain": [
       "seccion\n",
       "america/mundo        0.311975\n",
       "deportes-2           0.262892\n",
       "economia             0.228657\n",
       "politica             0.297190\n",
       "sociedad             0.301334\n",
       "teleshow/infoshow    0.295221\n",
       "Name: toxicity, dtype: float64"
      ]
     },
     "execution_count": 14,
     "metadata": {},
     "output_type": "execute_result"
    }
   ],
   "source": [
    "#promedio de toxicidad por sección\n",
    "df.groupby('seccion').mean().toxicity"
   ]
  },
  {
   "cell_type": "code",
   "execution_count": 15,
   "metadata": {},
   "outputs": [
    {
     "data": {
      "text/plain": [
       "seccion\n",
       "america/mundo        0.312666\n",
       "deportes-2           0.204083\n",
       "economia             0.179382\n",
       "politica             0.250614\n",
       "sociedad             0.272141\n",
       "teleshow/infoshow    0.234767\n",
       "Name: severe_toxicity, dtype: float64"
      ]
     },
     "execution_count": 15,
     "metadata": {},
     "output_type": "execute_result"
    }
   ],
   "source": [
    "#promedio de toxicidad severa por sección\n",
    "df.groupby('seccion').mean().severe_toxicity"
   ]
  },
  {
   "cell_type": "code",
   "execution_count": 16,
   "metadata": {},
   "outputs": [
    {
     "data": {
      "text/plain": [
       "1485"
      ]
     },
     "execution_count": 16,
     "metadata": {},
     "output_type": "execute_result"
    }
   ],
   "source": [
    "#cantidad comentarios con más de 500 caracteres\n",
    "df.texto = df.texto.apply(lambda x : x.replace('\\r','').replace('\\n',''))\n",
    "df['caracteres'] = df.texto.apply(len)\n",
    "df.loc[df.caracteres > 500].shape[0]"
   ]
  },
  {
   "cell_type": "code",
   "execution_count": 17,
   "metadata": {},
   "outputs": [
    {
     "data": {
      "text/plain": [
       "850"
      ]
     },
     "execution_count": 17,
     "metadata": {},
     "output_type": "execute_result"
    }
   ],
   "source": [
    "#cantidad de 500 caracteres sin espacio\n",
    "df['caracteresSE'] = df.texto.apply(lambda x: len(x) - x.count(' '))\n",
    "df.loc[df.caracteresSE > 500].shape[0]"
   ]
  },
  {
   "cell_type": "code",
   "execution_count": 18,
   "metadata": {},
   "outputs": [
    {
     "data": {
      "text/plain": [
       "seccion\n",
       "america/mundo        47.455296\n",
       "deportes-2           39.374403\n",
       "economia             44.477645\n",
       "politica             37.969358\n",
       "sociedad             49.990016\n",
       "teleshow/infoshow    27.167630\n",
       "Name: es_respuesta, dtype: float64"
      ]
     },
     "execution_count": 18,
     "metadata": {},
     "output_type": "execute_result"
    }
   ],
   "source": [
    "#porcentaje de comentarios \"es_respuesta\" por sección\n",
    "df.groupby('seccion').mean().es_respuesta *100"
   ]
  },
  {
   "cell_type": "code",
   "execution_count": 19,
   "metadata": {
    "collapsed": true
   },
   "outputs": [],
   "source": [
    "#porcentaje de categorias\n",
    "import glosariosRe"
   ]
  },
  {
   "cell_type": "code",
   "execution_count": 20,
   "metadata": {},
   "outputs": [
    {
     "name": "stderr",
     "output_type": "stream",
     "text": [
      "C:\\Users\\p_bag\\Anaconda3\\lib\\site-packages\\ipykernel_launcher.py:2: UserWarning: This pattern has match groups. To actually get the groups, use str.extract.\n",
      "  \n",
      "C:\\Users\\p_bag\\Anaconda3\\lib\\site-packages\\ipykernel_launcher.py:3: UserWarning: This pattern has match groups. To actually get the groups, use str.extract.\n",
      "  This is separate from the ipykernel package so we can avoid doing imports until\n",
      "C:\\Users\\p_bag\\Anaconda3\\lib\\site-packages\\ipykernel_launcher.py:4: UserWarning: This pattern has match groups. To actually get the groups, use str.extract.\n",
      "  after removing the cwd from sys.path.\n",
      "C:\\Users\\p_bag\\Anaconda3\\lib\\site-packages\\ipykernel_launcher.py:5: UserWarning: This pattern has match groups. To actually get the groups, use str.extract.\n",
      "  \"\"\"\n",
      "C:\\Users\\p_bag\\Anaconda3\\lib\\site-packages\\ipykernel_launcher.py:6: UserWarning: This pattern has match groups. To actually get the groups, use str.extract.\n",
      "  \n",
      "C:\\Users\\p_bag\\Anaconda3\\lib\\site-packages\\ipykernel_launcher.py:7: UserWarning: This pattern has match groups. To actually get the groups, use str.extract.\n",
      "  import sys\n",
      "C:\\Users\\p_bag\\Anaconda3\\lib\\site-packages\\ipykernel_launcher.py:8: UserWarning: This pattern has match groups. To actually get the groups, use str.extract.\n",
      "  \n"
     ]
    }
   ],
   "source": [
    "import re\n",
    "misoginos = df.loc[df.texto.str.contains(glosariosRe.misoginos, flags = re.IGNORECASE, na = False)]\n",
    "racistas = df.loc[df.texto.str.contains(glosariosRe.racistas, flags = re.IGNORECASE, na = False)]\n",
    "xenofobos = df.loc[df.texto.str.contains(glosariosRe.xenofobos, flags = re.IGNORECASE, na = False)]\n",
    "ideologicos = df.loc[df.texto.str.contains(glosariosRe.ideologicos, flags = re.IGNORECASE, na = False)]\n",
    "violentos = df.loc[df.texto.str.contains(glosariosRe.violentos, flags = re.IGNORECASE, na = False)]\n",
    "homofobicos = df.loc[df.texto.str.contains(glosariosRe.homofobicos, flags = re.IGNORECASE, na = False)]\n",
    "periodistas = df.loc[df.texto.str.contains(glosariosRe.periodistas, flags = re.IGNORECASE, na = False)]"
   ]
  },
  {
   "cell_type": "code",
   "execution_count": 21,
   "metadata": {
    "collapsed": true
   },
   "outputs": [],
   "source": [
    "import numpy as np\n",
    "def porcentajes(df):\n",
    "    return (df.seccion.value_counts()/df.seccion.value_counts().sum()*100).astype(int)\n",
    "def graficar(df):\n",
    "    plt.ylim(0, 62)\n",
    "    sns.barplot(porcentajes(df).index, porcentajes(df).values)"
   ]
  },
  {
   "cell_type": "code",
   "execution_count": 22,
   "metadata": {},
   "outputs": [
    {
     "name": "stderr",
     "output_type": "stream",
     "text": [
      "C:\\Users\\p_bag\\Anaconda3\\lib\\site-packages\\seaborn\\categorical.py:1460: FutureWarning: remove_na is deprecated and is a private function. Do not use.\n",
      "  stat_data = remove_na(group_data)\n"
     ]
    },
    {
     "data": {
      "image/png": "[encoded data removed]",
      "text/plain": [
       "<matplotlib.figure.Figure at 0x1b0f7e5b400>"
      ]
     },
     "metadata": {},
     "output_type": "display_data"
    }
   ],
   "source": [
    "plt.figure(figsize=(18,10))\n",
    "plt.subplot(331)\n",
    "plt.title('Ataque a periodistas')\n",
    "graficar(periodistas)\n",
    "plt.subplot(332)\n",
    "plt.title('Ideológicos')\n",
    "graficar(ideologicos)\n",
    "plt.subplot(333)\n",
    "plt.title('Misóginos')\n",
    "graficar(misoginos)\n",
    "plt.subplot(334)\n",
    "plt.title('Racistas')\n",
    "graficar(racistas);\n",
    "plt.subplot(335)\n",
    "plt.title('Violentos')\n",
    "graficar(violentos);\n",
    "plt.subplot(336)\n",
    "plt.title('Homofóbicos')\n",
    "graficar(homofobicos);\n",
    "plt.subplot(337)\n",
    "plt.title('Xenofobos')\n",
    "graficar(xenofobos);"
   ]
  },
  {
   "cell_type": "code",
   "execution_count": 23,
   "metadata": {},
   "outputs": [
    {
     "data": {
      "text/plain": [
       "sociedad             53\n",
       "teleshow/infoshow    19\n",
       "politica             12\n",
       "america/mundo        10\n",
       "deportes-2            2\n",
       "economia              1\n",
       "Name: seccion, dtype: int32"
      ]
     },
     "execution_count": 23,
     "metadata": {},
     "output_type": "execute_result"
    }
   ],
   "source": [
    "porcentajes(misoginos)"
   ]
  },
  {
   "cell_type": "markdown",
   "metadata": {},
   "source": [
    "Quedaría: \n",
    "-Temas con mayor cantidad de comentarios? Cómo se agruparía por temas"
   ]
  },
  {
   "cell_type": "code",
   "execution_count": null,
   "metadata": {
    "collapsed": true
   },
   "outputs": [],
   "source": []
  },
  {
   "cell_type": "code",
   "execution_count": null,
   "metadata": {
    "collapsed": true
   },
   "outputs": [],
   "source": []
  }
 ],
 "metadata": {
  "kernelspec": {
   "display_name": "Python 3",
   "language": "python",
   "name": "python3"
  },
  "language_info": {
   "codemirror_mode": {
    "name": "ipython",
    "version": 3
   },
   "file_extension": ".py",
   "mimetype": "text/x-python",
   "name": "python",
   "nbconvert_exporter": "python",
   "pygments_lexer": "ipython3",
   "version": "3.6.3"
  }
 },
 "nbformat": 4,
 "nbformat_minor": 2
}
