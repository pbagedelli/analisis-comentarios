{
 "cells": [
  {
   "cell_type": "code",
   "execution_count": 247,
   "metadata": {
    "collapsed": true
   },
   "outputs": [],
   "source": [
    "import pandas as pd\n",
    "df = pd.read_csv('./temp/misoginos Revisados.csv', index_col = 0)"
   ]
  },
  {
   "cell_type": "code",
   "execution_count": 248,
   "metadata": {},
   "outputs": [
    {
     "data": {
      "text/plain": [
       "(223, 14)"
      ]
     },
     "execution_count": 248,
     "metadata": {},
     "output_type": "execute_result"
    }
   ],
   "source": [
    "df.shape"
   ]
  },
  {
   "cell_type": "code",
   "execution_count": 249,
   "metadata": {
    "collapsed": true
   },
   "outputs": [],
   "source": [
    "df = df.dropna(subset = ['texto', 'label'])"
   ]
  },
  {
   "cell_type": "code",
   "execution_count": 250,
   "metadata": {},
   "outputs": [
    {
     "data": {
      "text/plain": [
       "0.0    117\n",
       "1.0    104\n",
       "Name: label, dtype: int64"
      ]
     },
     "execution_count": 250,
     "metadata": {},
     "output_type": "execute_result"
    }
   ],
   "source": [
    "df.label.value_counts()"
   ]
  },
  {
   "cell_type": "code",
   "execution_count": 251,
   "metadata": {
    "collapsed": true
   },
   "outputs": [],
   "source": [
    "from sklearn.utils import shuffle\n",
    "df = shuffle(df)"
   ]
  },
  {
   "cell_type": "code",
   "execution_count": 252,
   "metadata": {
    "collapsed": true
   },
   "outputs": [],
   "source": [
    "X = df.texto\n",
    "y = df.label"
   ]
  },
  {
   "cell_type": "code",
   "execution_count": 7,
   "metadata": {
    "collapsed": true
   },
   "outputs": [],
   "source": [
    "import numpy as np\n",
    "from sklearn.model_selection import train_test_split\n",
    "X_train, X_test, y_train, y_test = train_test_split(X, y, test_size=0.33, random_state=42)"
   ]
  },
  {
   "cell_type": "code",
   "execution_count": 8,
   "metadata": {
    "collapsed": true
   },
   "outputs": [],
   "source": [
    "from nltk.stem.snowball import SnowballStemmer\n",
    "stemmer = SnowballStemmer(language = 'spanish')"
   ]
  },
  {
   "cell_type": "code",
   "execution_count": 9,
   "metadata": {
    "collapsed": true
   },
   "outputs": [],
   "source": [
    "from nltk.corpus import stopwords"
   ]
  },
  {
   "cell_type": "code",
   "execution_count": 10,
   "metadata": {
    "collapsed": true
   },
   "outputs": [],
   "source": [
    "from sklearn.feature_extraction.text import CountVectorizer\n",
    "vec = CountVectorizer(max_df=0.6, min_df=1, stop_words=stopwords.words('spanish'), lowercase=True, ngram_range=(1, 3)) \n",
    "                      #strip_accents='unicode', preprocessor= stemmer.stem)"
   ]
  },
  {
   "cell_type": "code",
   "execution_count": 11,
   "metadata": {
    "collapsed": true
   },
   "outputs": [],
   "source": [
    "x = vec.fit_transform(X)"
   ]
  },
  {
   "cell_type": "code",
   "execution_count": 12,
   "metadata": {
    "collapsed": true
   },
   "outputs": [],
   "source": [
    "from sklearn.naive_bayes import MultinomialNB"
   ]
  },
  {
   "cell_type": "code",
   "execution_count": 13,
   "metadata": {
    "collapsed": true
   },
   "outputs": [],
   "source": [
    "clf = MultinomialNB()"
   ]
  },
  {
   "cell_type": "code",
   "execution_count": 14,
   "metadata": {
    "collapsed": true
   },
   "outputs": [],
   "source": [
    "from sklearn.model_selection import cross_validate"
   ]
  },
  {
   "cell_type": "code",
   "execution_count": 15,
   "metadata": {
    "collapsed": true
   },
   "outputs": [],
   "source": [
    "resultado = cross_validate(clf, x,y, cv= 5)"
   ]
  },
  {
   "cell_type": "code",
   "execution_count": 16,
   "metadata": {},
   "outputs": [
    {
     "data": {
      "text/plain": [
       "0.5572022551092319"
      ]
     },
     "execution_count": 16,
     "metadata": {},
     "output_type": "execute_result"
    }
   ],
   "source": [
    "resultado['test_score'].mean()"
   ]
  },
  {
   "cell_type": "code",
   "execution_count": 17,
   "metadata": {},
   "outputs": [
    {
     "data": {
      "text/plain": [
       "MultinomialNB(alpha=1.0, class_prior=None, fit_prior=True)"
      ]
     },
     "execution_count": 17,
     "metadata": {},
     "output_type": "execute_result"
    }
   ],
   "source": [
    "clf.fit(x,y)"
   ]
  },
  {
   "cell_type": "code",
   "execution_count": 18,
   "metadata": {},
   "outputs": [
    {
     "data": {
      "text/plain": [
       "array([1.])"
      ]
     },
     "execution_count": 18,
     "metadata": {},
     "output_type": "execute_result"
    }
   ],
   "source": [
    "texto = 'verde'\n",
    "clf.predict(vec.transform([texto]))"
   ]
  },
  {
   "cell_type": "code",
   "execution_count": 19,
   "metadata": {
    "collapsed": true
   },
   "outputs": [],
   "source": [
    "from sklearn.linear_model import LogisticRegression\n",
    "\n",
    "clf_log = LogisticRegression()"
   ]
  },
  {
   "cell_type": "code",
   "execution_count": 20,
   "metadata": {},
   "outputs": [
    {
     "data": {
      "text/plain": [
       "0.6524829692271553"
      ]
     },
     "execution_count": 20,
     "metadata": {},
     "output_type": "execute_result"
    }
   ],
   "source": [
    "cross_validate(clf_log, x,y, cv= 5)['test_score'].mean()"
   ]
  },
  {
   "cell_type": "code",
   "execution_count": 21,
   "metadata": {
    "collapsed": true
   },
   "outputs": [],
   "source": [
    "from sklearn.metrics import accuracy_score"
   ]
  },
  {
   "cell_type": "code",
   "execution_count": 22,
   "metadata": {
    "collapsed": true
   },
   "outputs": [],
   "source": [
    "from sklearn.svm import SVC\n",
    "from sklearn.model_selection import GridSearchCV"
   ]
  },
  {
   "cell_type": "code",
   "execution_count": 23,
   "metadata": {},
   "outputs": [
    {
     "data": {
      "text/plain": [
       "GridSearchCV(cv=5, error_score='raise',\n",
       "       estimator=SVC(C=1.0, cache_size=200, class_weight=None, coef0=0.0,\n",
       "  decision_function_shape='ovr', degree=3, gamma='auto', kernel='rbf',\n",
       "  max_iter=-1, probability=False, random_state=None, shrinking=True,\n",
       "  tol=0.001, verbose=False),\n",
       "       fit_params=None, iid=True, n_jobs=1,\n",
       "       param_grid={'kernel': ('linear', 'rbf'), 'C': [0.01, 0.1, 1, 10]},\n",
       "       pre_dispatch='2*n_jobs', refit=True, return_train_score='warn',\n",
       "       scoring=None, verbose=0)"
      ]
     },
     "execution_count": 23,
     "metadata": {},
     "output_type": "execute_result"
    }
   ],
   "source": [
    "parameters = {'kernel':('linear', 'rbf'), 'C':[.01, 0.1, 1, 10]}\n",
    "svc = SVC()\n",
    "clf = GridSearchCV(svc, parameters, cv=5)\n",
    "clf.fit(x, y)"
   ]
  },
  {
   "cell_type": "code",
   "execution_count": 24,
   "metadata": {},
   "outputs": [
    {
     "data": {
      "text/plain": [
       "SVC(C=0.1, cache_size=200, class_weight=None, coef0=0.0,\n",
       "  decision_function_shape='ovr', degree=3, gamma='auto', kernel='linear',\n",
       "  max_iter=-1, probability=False, random_state=None, shrinking=True,\n",
       "  tol=0.001, verbose=False)"
      ]
     },
     "execution_count": 24,
     "metadata": {},
     "output_type": "execute_result"
    }
   ],
   "source": [
    "clf.best_estimator_"
   ]
  },
  {
   "cell_type": "code",
   "execution_count": 25,
   "metadata": {},
   "outputs": [
    {
     "data": {
      "text/plain": [
       "0.6561085972850679"
      ]
     },
     "execution_count": 25,
     "metadata": {},
     "output_type": "execute_result"
    }
   ],
   "source": [
    "clf.best_score_    "
   ]
  },
  {
   "cell_type": "code",
   "execution_count": 26,
   "metadata": {},
   "outputs": [
    {
     "data": {
      "text/plain": [
       "array([1.])"
      ]
     },
     "execution_count": 26,
     "metadata": {},
     "output_type": "execute_result"
    }
   ],
   "source": [
    "texto = 'el pasto es verde'\n",
    "clf.best_estimator_.predict(vec.transform([texto]))"
   ]
  },
  {
   "cell_type": "markdown",
   "metadata": {},
   "source": [
    "# deep learning"
   ]
  },
  {
   "cell_type": "code",
   "execution_count": 156,
   "metadata": {
    "collapsed": true
   },
   "outputs": [],
   "source": [
    "from sklearn.feature_extraction.text import CountVectorizer\n",
    "from sklearn.model_selection import train_test_split\n",
    "sentences_train, sentences_test, y_train, y_test = train_test_split(X, y, test_size=0.25, random_state=1000)\n",
    "\n",
    "vectorizer = CountVectorizer()\n",
    "vectorizer.fit(sentences_train)\n",
    "X_train = vectorizer.transform(sentences_train)\n",
    "X_test  = vectorizer.transform(sentences_test)"
   ]
  },
  {
   "cell_type": "code",
   "execution_count": 157,
   "metadata": {},
   "outputs": [],
   "source": [
    "from keras.models import Sequential\n",
    "from keras import layers\n",
    "\n",
    "input_dim = X_train.shape[1]  # Number of features\n"
   ]
  },
  {
   "cell_type": "code",
   "execution_count": 158,
   "metadata": {
    "collapsed": true
   },
   "outputs": [],
   "source": [
    "model = Sequential()\n",
    "model.add(layers.Dense(10, input_dim=input_dim, activation='relu'))\n",
    "model.add(layers.Dense(1, activation='sigmoid'))"
   ]
  },
  {
   "cell_type": "code",
   "execution_count": 159,
   "metadata": {},
   "outputs": [
    {
     "name": "stdout",
     "output_type": "stream",
     "text": [
      "_________________________________________________________________\n",
      "Layer (type)                 Output Shape              Param #   \n",
      "=================================================================\n",
      "dense_63 (Dense)             (None, 10)                11930     \n",
      "_________________________________________________________________\n",
      "dense_64 (Dense)             (None, 1)                 11        \n",
      "=================================================================\n",
      "Total params: 11,941\n",
      "Trainable params: 11,941\n",
      "Non-trainable params: 0\n",
      "_________________________________________________________________\n"
     ]
    }
   ],
   "source": [
    "model.compile(loss='binary_crossentropy', \n",
    "               optimizer='adam', \n",
    "               metrics=['accuracy'])\n",
    "model.summary()"
   ]
  },
  {
   "cell_type": "code",
   "execution_count": 160,
   "metadata": {},
   "outputs": [],
   "source": [
    "history = model.fit(X_train, y_train,\n",
    "                     epochs=100,\n",
    "                     verbose=False,\n",
    "                     validation_data=(X_test, y_test),\n",
    "                     batch_size=10)"
   ]
  },
  {
   "cell_type": "code",
   "execution_count": 161,
   "metadata": {},
   "outputs": [
    {
     "name": "stdout",
     "output_type": "stream",
     "text": [
      "Training Accuracy: 1.0000\n",
      "Testing Accuracy:  0.5714\n"
     ]
    }
   ],
   "source": [
    "loss, accuracy = model.evaluate(X_train, y_train, verbose=False)\n",
    "print(\"Training Accuracy: {:.4f}\".format(accuracy))\n",
    "loss, accuracy = model.evaluate(X_test, y_test, verbose=False)\n",
    "print(\"Testing Accuracy:  {:.4f}\".format(accuracy))"
   ]
  },
  {
   "cell_type": "code",
   "execution_count": 162,
   "metadata": {
    "collapsed": true
   },
   "outputs": [],
   "source": [
    "import matplotlib.pyplot as plt\n",
    "%matplotlib inline\n",
    "plt.style.use('ggplot')\n",
    "\n",
    "def plot_history(history):\n",
    "    acc = history.history['acc']\n",
    "    val_acc = history.history['val_acc']\n",
    "    loss = history.history['loss']\n",
    "    val_loss = history.history['val_loss']\n",
    "    x = range(1, len(acc) + 1)\n",
    "\n",
    "    plt.figure(figsize=(12, 5))\n",
    "    plt.subplot(1, 2, 1)\n",
    "    plt.plot(x, acc, 'b', label='Training acc')\n",
    "    plt.plot(x, val_acc, 'r', label='Validation acc')\n",
    "    plt.title('Training and validation accuracy')\n",
    "    plt.legend()\n",
    "    plt.subplot(1, 2, 2)\n",
    "    plt.plot(x, loss, 'b', label='Training loss')\n",
    "    plt.plot(x, val_loss, 'r', label='Validation loss')\n",
    "    plt.title('Training and validation loss')\n",
    "    plt.legend()"
   ]
  },
  {
   "cell_type": "code",
   "execution_count": 163,
   "metadata": {},
   "outputs": [
    {
     "data": {
      "image/png": "[encoded data removed]",
      "text/plain": [
       "<matplotlib.figure.Figure at 0x22b7cab1978>"
      ]
     },
     "metadata": {},
     "output_type": "display_data"
    }
   ],
   "source": [
    "plot_history(history)"
   ]
  },
  {
   "cell_type": "code",
   "execution_count": 439,
   "metadata": {},
   "outputs": [
    {
     "name": "stdout",
     "output_type": "stream",
     "text": [
      "Parece George Bush, que no paraba de tirar frases ridículas.\n",
      "[186, 339, 340, 3, 13, 341, 2, 342, 343, 40]\n"
     ]
    }
   ],
   "source": [
    "from keras.preprocessing.text import Tokenizer\n",
    "\n",
    "tokenizer = Tokenizer(num_words=5000)\n",
    "tokenizer.fit_on_texts(sentences_train)\n",
    "\n",
    "X_train = tokenizer.texts_to_sequences(sentences_train)\n",
    "X_test = tokenizer.texts_to_sequences(sentences_test)\n",
    "\n",
    "vocab_size = len(tokenizer.word_index) + 1  # Adding 1 because of reserved 0 index\n",
    "\n",
    "print(sentences_train.iloc[2])\n",
    "print(X_train[2])"
   ]
  },
  {
   "cell_type": "code",
   "execution_count": 440,
   "metadata": {},
   "outputs": [
    {
     "name": "stdout",
     "output_type": "stream",
     "text": [
      "gorda: 5\n",
      "funcion: 482\n",
      "joda: 484\n"
     ]
    }
   ],
   "source": [
    "for word in ['gorda', 'funcion', 'joda']:\n",
    "    print('{}: {}'.format(word, tokenizer.word_index[word]))"
   ]
  },
  {
   "cell_type": "code",
   "execution_count": 441,
   "metadata": {},
   "outputs": [
    {
     "data": {
      "text/plain": [
       "126.82424242424243"
      ]
     },
     "execution_count": 441,
     "metadata": {},
     "output_type": "execute_result"
    }
   ],
   "source": [
    "sentences_train.apply(len).mean()"
   ]
  },
  {
   "cell_type": "code",
   "execution_count": 442,
   "metadata": {},
   "outputs": [
    {
     "data": {
      "text/plain": [
       "115.8909259855772"
      ]
     },
     "execution_count": 442,
     "metadata": {},
     "output_type": "execute_result"
    }
   ],
   "source": [
    "sentences_train.apply(len).std()"
   ]
  },
  {
   "cell_type": "code",
   "execution_count": 443,
   "metadata": {},
   "outputs": [],
   "source": [
    "from keras.preprocessing.sequence import pad_sequences\n",
    "\n",
    "maxlen = 100\n",
    "\n",
    "X_train = pad_sequences(X_train, padding='post', maxlen=maxlen)\n",
    "X_test = pad_sequences(X_test, padding='post', maxlen=maxlen)\n",
    "\n"
   ]
  },
  {
   "cell_type": "code",
   "execution_count": 180,
   "metadata": {},
   "outputs": [
    {
     "name": "stdout",
     "output_type": "stream",
     "text": [
      "_________________________________________________________________\n",
      "Layer (type)                 Output Shape              Param #   \n",
      "=================================================================\n",
      "embedding_35 (Embedding)     (None, 20, 50)            61150     \n",
      "_________________________________________________________________\n",
      "flatten_3 (Flatten)          (None, 1000)              0         \n",
      "_________________________________________________________________\n",
      "dense_69 (Dense)             (None, 10)                10010     \n",
      "_________________________________________________________________\n",
      "dense_70 (Dense)             (None, 1)                 11        \n",
      "=================================================================\n",
      "Total params: 71,171\n",
      "Trainable params: 71,171\n",
      "Non-trainable params: 0\n",
      "_________________________________________________________________\n"
     ]
    }
   ],
   "source": [
    "from keras.models import Sequential\n",
    "from keras import layers\n",
    "\n",
    "embedding_dim = 50\n",
    "\n",
    "model = Sequential()\n",
    "model.add(layers.Embedding(input_dim=vocab_size, \n",
    "                           output_dim=embedding_dim, \n",
    "                           input_length=maxlen))\n",
    "model.add(layers.Flatten())\n",
    "model.add(layers.Dense(10, activation='relu'))\n",
    "model.add(layers.Dense(1, activation='sigmoid'))\n",
    "model.compile(optimizer='adam',\n",
    "              loss='binary_crossentropy',\n",
    "              metrics=['accuracy'])\n",
    "model.summary()"
   ]
  },
  {
   "cell_type": "code",
   "execution_count": 181,
   "metadata": {},
   "outputs": [
    {
     "name": "stdout",
     "output_type": "stream",
     "text": [
      "Train on 165 samples, validate on 56 samples\n",
      "Epoch 1/20\n",
      "165/165 [==============================] - 2s 10ms/step - loss: 0.6859 - acc: 0.5697 - val_loss: 0.6933 - val_acc: 0.4821\n",
      "Epoch 2/20\n",
      "165/165 [==============================] - 0s 512us/step - loss: 0.6486 - acc: 0.8121 - val_loss: 0.6942 - val_acc: 0.5357\n",
      "Epoch 3/20\n",
      "165/165 [==============================] - 0s 469us/step - loss: 0.6049 - acc: 0.8667 - val_loss: 0.6956 - val_acc: 0.5179\n",
      "Epoch 4/20\n",
      "165/165 [==============================] - 0s 368us/step - loss: 0.5380 - acc: 0.9030 - val_loss: 0.7006 - val_acc: 0.5179\n",
      "Epoch 5/20\n",
      "165/165 [==============================] - 0s 527us/step - loss: 0.4468 - acc: 0.9455 - val_loss: 0.7216 - val_acc: 0.5714\n",
      "Epoch 6/20\n",
      "165/165 [==============================] - 0s 380us/step - loss: 0.3531 - acc: 0.9758 - val_loss: 0.7436 - val_acc: 0.5179\n",
      "Epoch 7/20\n",
      "165/165 [==============================] - 0s 528us/step - loss: 0.2536 - acc: 0.9576 - val_loss: 0.7717 - val_acc: 0.5179\n",
      "Epoch 8/20\n",
      "165/165 [==============================] - 0s 472us/step - loss: 0.1816 - acc: 0.9939 - val_loss: 0.8037 - val_acc: 0.5357\n",
      "Epoch 9/20\n",
      "165/165 [==============================] - 0s 399us/step - loss: 0.1220 - acc: 0.9818 - val_loss: 0.8252 - val_acc: 0.5179\n",
      "Epoch 10/20\n",
      "165/165 [==============================] - 0s 525us/step - loss: 0.0779 - acc: 1.0000 - val_loss: 0.8451 - val_acc: 0.5179\n",
      "Epoch 11/20\n",
      "165/165 [==============================] - 0s 485us/step - loss: 0.0576 - acc: 1.0000 - val_loss: 0.8785 - val_acc: 0.5000\n",
      "Epoch 12/20\n",
      "165/165 [==============================] - 0s 393us/step - loss: 0.0388 - acc: 1.0000 - val_loss: 0.8896 - val_acc: 0.5179\n",
      "Epoch 13/20\n",
      "165/165 [==============================] - 0s 504us/step - loss: 0.0299 - acc: 1.0000 - val_loss: 0.9106 - val_acc: 0.5179\n",
      "Epoch 14/20\n",
      "165/165 [==============================] - 0s 393us/step - loss: 0.0227 - acc: 1.0000 - val_loss: 0.9328 - val_acc: 0.4821\n",
      "Epoch 15/20\n",
      "165/165 [==============================] - 0s 499us/step - loss: 0.0181 - acc: 1.0000 - val_loss: 0.9473 - val_acc: 0.5000\n",
      "Epoch 16/20\n",
      "165/165 [==============================] - 0s 460us/step - loss: 0.0150 - acc: 1.0000 - val_loss: 0.9667 - val_acc: 0.5000\n",
      "Epoch 17/20\n",
      "165/165 [==============================] - 0s 462us/step - loss: 0.0122 - acc: 1.0000 - val_loss: 0.9775 - val_acc: 0.4821\n",
      "Epoch 18/20\n",
      "165/165 [==============================] - 0s 454us/step - loss: 0.0102 - acc: 1.0000 - val_loss: 0.9920 - val_acc: 0.4821\n",
      "Epoch 19/20\n",
      "165/165 [==============================] - 0s 412us/step - loss: 0.0090 - acc: 1.0000 - val_loss: 1.0150 - val_acc: 0.4821\n",
      "Epoch 20/20\n",
      "165/165 [==============================] - 0s 492us/step - loss: 0.0076 - acc: 1.0000 - val_loss: 1.0258 - val_acc: 0.5000\n",
      "Training Accuracy: 1.0000\n",
      "Testing Accuracy:  0.5000\n"
     ]
    },
    {
     "data": {
      "image/png": "[encoded data removed]",
      "text/plain": [
       "<matplotlib.figure.Figure at 0x22c5fa378d0>"
      ]
     },
     "metadata": {},
     "output_type": "display_data"
    }
   ],
   "source": [
    "history = model.fit(X_train, y_train,\n",
    "                    epochs=20,\n",
    "                    verbose=1,\n",
    "                    validation_data=(X_test, y_test),\n",
    "                    batch_size=10)\n",
    "loss, accuracy = model.evaluate(X_train, y_train, verbose=False)\n",
    "print(\"Training Accuracy: {:.4f}\".format(accuracy))\n",
    "loss, accuracy = model.evaluate(X_test, y_test, verbose=False)\n",
    "print(\"Testing Accuracy:  {:.4f}\".format(accuracy))\n",
    "plot_history(history)"
   ]
  },
  {
   "cell_type": "code",
   "execution_count": 182,
   "metadata": {},
   "outputs": [
    {
     "name": "stdout",
     "output_type": "stream",
     "text": [
      "_________________________________________________________________\n",
      "Layer (type)                 Output Shape              Param #   \n",
      "=================================================================\n",
      "embedding_36 (Embedding)     (None, 20, 50)            61150     \n",
      "_________________________________________________________________\n",
      "global_max_pooling1d_30 (Glo (None, 50)                0         \n",
      "_________________________________________________________________\n",
      "dense_71 (Dense)             (None, 10)                510       \n",
      "_________________________________________________________________\n",
      "dense_72 (Dense)             (None, 1)                 11        \n",
      "=================================================================\n",
      "Total params: 61,671\n",
      "Trainable params: 61,671\n",
      "Non-trainable params: 0\n",
      "_________________________________________________________________\n"
     ]
    }
   ],
   "source": [
    "from keras.models import Sequential\n",
    "from keras import layers\n",
    "\n",
    "embedding_dim = 50\n",
    "\n",
    "model = Sequential()\n",
    "model.add(layers.Embedding(input_dim=vocab_size, \n",
    "                           output_dim=embedding_dim, \n",
    "                           input_length=maxlen))\n",
    "model.add(layers.GlobalMaxPool1D())\n",
    "model.add(layers.Dense(10, activation='relu'))\n",
    "model.add(layers.Dense(1, activation='sigmoid'))\n",
    "model.compile(optimizer='adam',\n",
    "              loss='binary_crossentropy',\n",
    "              metrics=['accuracy'])\n",
    "model.summary()"
   ]
  },
  {
   "cell_type": "code",
   "execution_count": 183,
   "metadata": {},
   "outputs": [
    {
     "name": "stdout",
     "output_type": "stream",
     "text": [
      "Training Accuracy: 1.0000\n",
      "Testing Accuracy:  0.6071\n"
     ]
    },
    {
     "data": {
      "image/png": "[encoded data removed]",
      "text/plain": [
       "<matplotlib.figure.Figure at 0x22c600aad30>"
      ]
     },
     "metadata": {},
     "output_type": "display_data"
    }
   ],
   "source": [
    "history = model.fit(X_train, y_train,\n",
    "                    epochs=50,\n",
    "                    verbose=False,\n",
    "                    validation_data=(X_test, y_test),\n",
    "                    batch_size=10)\n",
    "loss, accuracy = model.evaluate(X_train, y_train, verbose=False)\n",
    "print(\"Training Accuracy: {:.4f}\".format(accuracy))\n",
    "loss, accuracy = model.evaluate(X_test, y_test, verbose=False)\n",
    "print(\"Testing Accuracy:  {:.4f}\".format(accuracy))\n",
    "plot_history(history)"
   ]
  },
  {
   "cell_type": "code",
   "execution_count": 184,
   "metadata": {
    "collapsed": true
   },
   "outputs": [],
   "source": [
    "#embedding preentrenados"
   ]
  },
  {
   "cell_type": "code",
   "execution_count": 130,
   "metadata": {},
   "outputs": [],
   "source": [
    "from gensim.models import Word2Vec\n",
    "from gensim.models import FastText\n",
    "from gensim.models import KeyedVectors\n",
    "from gensim.test.utils import datapath\n",
    "fast = FastText.load_fasttext_format('C:/Users/p_bag/Jupyter/word2vec/fasttext-sbwc.3.6.e20')"
   ]
  },
  {
   "cell_type": "code",
   "execution_count": 131,
   "metadata": {
    "collapsed": true
   },
   "outputs": [],
   "source": [
    "import gensim"
   ]
  },
  {
   "cell_type": "code",
   "execution_count": 364,
   "metadata": {},
   "outputs": [],
   "source": [
    "embedding_dim = fast.vector_size"
   ]
  },
  {
   "cell_type": "code",
   "execution_count": 365,
   "metadata": {},
   "outputs": [
    {
     "data": {
      "text/plain": [
       "300"
      ]
     },
     "execution_count": 365,
     "metadata": {},
     "output_type": "execute_result"
    }
   ],
   "source": [
    "embedding_dim"
   ]
  },
  {
   "cell_type": "code",
   "execution_count": 366,
   "metadata": {},
   "outputs": [],
   "source": [
    "#keras.preprocessing.text.text_to_word_sequence(sentences_train.iloc[2], filters='!\"#$%&()*+,-./:;<=>?@[\\]^_`{|}~ ', lower=True, split=' ')"
   ]
  },
  {
   "cell_type": "code",
   "execution_count": 367,
   "metadata": {},
   "outputs": [],
   "source": [
    "#model.wv['casa']"
   ]
  },
  {
   "cell_type": "code",
   "execution_count": 368,
   "metadata": {},
   "outputs": [],
   "source": [
    "#tokenizer.word_index"
   ]
  },
  {
   "cell_type": "code",
   "execution_count": 397,
   "metadata": {},
   "outputs": [],
   "source": [
    "embedding_matrix = np.zeros((vocab_size, embedding_dim))\n",
    "for word in tokenizer.word_index:\n",
    "    try:\n",
    "        idx = tokenizer.word_index[word] \n",
    "        embedding_matrix[idx] = fast.wv[word]\n",
    "    except:\n",
    "        pass\n",
    "        #embedding_matrix[idx] = np.zeros(model.vector_size)"
   ]
  },
  {
   "cell_type": "code",
   "execution_count": 398,
   "metadata": {},
   "outputs": [
    {
     "data": {
      "text/plain": [
       "0.998330550918197"
      ]
     },
     "execution_count": 398,
     "metadata": {},
     "output_type": "execute_result"
    }
   ],
   "source": [
    "nonzero_elements = np.count_nonzero(np.count_nonzero(embedding_matrix, axis=1))\n",
    "nonzero_elements / vocab_size"
   ]
  },
  {
   "cell_type": "code",
   "execution_count": 399,
   "metadata": {},
   "outputs": [
    {
     "name": "stdout",
     "output_type": "stream",
     "text": [
      "_________________________________________________________________\n",
      "Layer (type)                 Output Shape              Param #   \n",
      "=================================================================\n",
      "embedding_94 (Embedding)     (None, 100, 300)          359400    \n",
      "_________________________________________________________________\n",
      "global_max_pooling1d_57 (Glo (None, 300)               0         \n",
      "_________________________________________________________________\n",
      "dense_150 (Dense)            (None, 10)                3010      \n",
      "_________________________________________________________________\n",
      "dense_151 (Dense)            (None, 1)                 11        \n",
      "=================================================================\n",
      "Total params: 362,421\n",
      "Trainable params: 362,421\n",
      "Non-trainable params: 0\n",
      "_________________________________________________________________\n"
     ]
    }
   ],
   "source": [
    "model = Sequential()\n",
    "model.add(layers.Embedding(vocab_size, embedding_dim, \n",
    "                           weights=[embedding_matrix], \n",
    "                           input_length=maxlen, \n",
    "                           trainable=True))\n",
    "model.add(layers.GlobalMaxPool1D())\n",
    "model.add(layers.Dense(10, activation='relu'))\n",
    "model.add(layers.Dense(1, activation='sigmoid'))\n",
    "model.compile(optimizer='adam',\n",
    "              loss='binary_crossentropy',\n",
    "              metrics=['accuracy'])\n",
    "model.summary()"
   ]
  },
  {
   "cell_type": "code",
   "execution_count": 400,
   "metadata": {},
   "outputs": [
    {
     "name": "stdout",
     "output_type": "stream",
     "text": [
      "Train on 165 samples, validate on 56 samples\n",
      "Epoch 1/50\n",
      "165/165 [==============================] - 5s 30ms/step - loss: 0.7199 - acc: 0.4545 - val_loss: 0.6789 - val_acc: 0.5357\n",
      "Epoch 2/50\n",
      "165/165 [==============================] - 0s 624us/step - loss: 0.6855 - acc: 0.5273 - val_loss: 0.6713 - val_acc: 0.5536\n",
      "Epoch 3/50\n",
      "165/165 [==============================] - 0s 606us/step - loss: 0.6712 - acc: 0.6061 - val_loss: 0.6744 - val_acc: 0.5893\n",
      "Epoch 4/50\n",
      "165/165 [==============================] - 0s 608us/step - loss: 0.6514 - acc: 0.6485 - val_loss: 0.6738 - val_acc: 0.5893\n",
      "Epoch 5/50\n",
      "165/165 [==============================] - 0s 601us/step - loss: 0.6296 - acc: 0.7091 - val_loss: 0.6691 - val_acc: 0.6607\n",
      "Epoch 6/50\n",
      "165/165 [==============================] - 0s 650us/step - loss: 0.6044 - acc: 0.8545 - val_loss: 0.6564 - val_acc: 0.6786\n",
      "Epoch 7/50\n",
      "165/165 [==============================] - 0s 618us/step - loss: 0.5659 - acc: 0.9030 - val_loss: 0.6616 - val_acc: 0.5714\n",
      "Epoch 8/50\n",
      "165/165 [==============================] - 0s 600us/step - loss: 0.5192 - acc: 0.9333 - val_loss: 0.6381 - val_acc: 0.6429\n",
      "Epoch 9/50\n",
      "165/165 [==============================] - 0s 618us/step - loss: 0.4644 - acc: 0.9576 - val_loss: 0.6472 - val_acc: 0.5893\n",
      "Epoch 10/50\n",
      "165/165 [==============================] - 0s 630us/step - loss: 0.4078 - acc: 0.9636 - val_loss: 0.6202 - val_acc: 0.6250\n",
      "Epoch 11/50\n",
      "165/165 [==============================] - 0s 606us/step - loss: 0.3549 - acc: 0.9758 - val_loss: 0.6043 - val_acc: 0.6607\n",
      "Epoch 12/50\n",
      "165/165 [==============================] - 0s 605us/step - loss: 0.3288 - acc: 0.9697 - val_loss: 0.6305 - val_acc: 0.6429\n",
      "Epoch 13/50\n",
      "165/165 [==============================] - 0s 612us/step - loss: 0.2580 - acc: 0.9939 - val_loss: 0.5931 - val_acc: 0.6786\n",
      "Epoch 14/50\n",
      "165/165 [==============================] - 0s 600us/step - loss: 0.2207 - acc: 0.9939 - val_loss: 0.6095 - val_acc: 0.6250\n",
      "Epoch 15/50\n",
      "165/165 [==============================] - ETA: 0s - loss: 0.1958 - acc: 1.000 - 0s 612us/step - loss: 0.1841 - acc: 0.9939 - val_loss: 0.5932 - val_acc: 0.6786\n",
      "Epoch 16/50\n",
      "165/165 [==============================] - 0s 594us/step - loss: 0.1547 - acc: 0.9939 - val_loss: 0.6040 - val_acc: 0.6429\n",
      "Epoch 17/50\n",
      "165/165 [==============================] - 0s 636us/step - loss: 0.1341 - acc: 0.9939 - val_loss: 0.5877 - val_acc: 0.6786\n",
      "Epoch 18/50\n",
      "165/165 [==============================] - 0s 612us/step - loss: 0.1093 - acc: 1.0000 - val_loss: 0.5941 - val_acc: 0.6786\n",
      "Epoch 19/50\n",
      "165/165 [==============================] - 0s 634us/step - loss: 0.0924 - acc: 1.0000 - val_loss: 0.5922 - val_acc: 0.6786\n",
      "Epoch 20/50\n",
      "165/165 [==============================] - 0s 636us/step - loss: 0.0781 - acc: 1.0000 - val_loss: 0.5992 - val_acc: 0.6429\n",
      "Epoch 21/50\n",
      "165/165 [==============================] - 0s 630us/step - loss: 0.0678 - acc: 1.0000 - val_loss: 0.5896 - val_acc: 0.6786\n",
      "Epoch 22/50\n",
      "165/165 [==============================] - 0s 624us/step - loss: 0.0597 - acc: 1.0000 - val_loss: 0.6038 - val_acc: 0.6429\n",
      "Epoch 23/50\n",
      "165/165 [==============================] - 0s 612us/step - loss: 0.0502 - acc: 1.0000 - val_loss: 0.5969 - val_acc: 0.6786\n",
      "Epoch 24/50\n",
      "165/165 [==============================] - 0s 612us/step - loss: 0.0425 - acc: 1.0000 - val_loss: 0.6025 - val_acc: 0.6607\n",
      "Epoch 25/50\n",
      "165/165 [==============================] - 0s 606us/step - loss: 0.0368 - acc: 1.0000 - val_loss: 0.6038 - val_acc: 0.6607\n",
      "Epoch 26/50\n",
      "165/165 [==============================] - 0s 606us/step - loss: 0.0320 - acc: 1.0000 - val_loss: 0.6031 - val_acc: 0.6607\n",
      "Epoch 27/50\n",
      "165/165 [==============================] - 0s 600us/step - loss: 0.0279 - acc: 1.0000 - val_loss: 0.6054 - val_acc: 0.6607\n",
      "Epoch 28/50\n",
      "165/165 [==============================] - 0s 630us/step - loss: 0.0243 - acc: 1.0000 - val_loss: 0.6124 - val_acc: 0.6429\n",
      "Epoch 29/50\n",
      "165/165 [==============================] - 0s 612us/step - loss: 0.0215 - acc: 1.0000 - val_loss: 0.6083 - val_acc: 0.6607\n",
      "Epoch 30/50\n",
      "165/165 [==============================] - 0s 618us/step - loss: 0.0191 - acc: 1.0000 - val_loss: 0.6150 - val_acc: 0.6429\n",
      "Epoch 31/50\n",
      "165/165 [==============================] - 0s 612us/step - loss: 0.0170 - acc: 1.0000 - val_loss: 0.6152 - val_acc: 0.6607\n",
      "Epoch 32/50\n",
      "165/165 [==============================] - 0s 618us/step - loss: 0.0153 - acc: 1.0000 - val_loss: 0.6195 - val_acc: 0.6607\n",
      "Epoch 33/50\n",
      "165/165 [==============================] - 0s 619us/step - loss: 0.0137 - acc: 1.0000 - val_loss: 0.6208 - val_acc: 0.6607\n",
      "Epoch 34/50\n",
      "165/165 [==============================] - 0s 612us/step - loss: 0.0124 - acc: 1.0000 - val_loss: 0.6244 - val_acc: 0.6607\n",
      "Epoch 35/50\n",
      "165/165 [==============================] - 0s 612us/step - loss: 0.0112 - acc: 1.0000 - val_loss: 0.6305 - val_acc: 0.6607\n",
      "Epoch 36/50\n",
      "165/165 [==============================] - 0s 612us/step - loss: 0.0103 - acc: 1.0000 - val_loss: 0.6305 - val_acc: 0.6607\n",
      "Epoch 37/50\n",
      "165/165 [==============================] - 0s 618us/step - loss: 0.0093 - acc: 1.0000 - val_loss: 0.6340 - val_acc: 0.6607\n",
      "Epoch 38/50\n",
      "165/165 [==============================] - 0s 636us/step - loss: 0.0086 - acc: 1.0000 - val_loss: 0.6350 - val_acc: 0.6607\n",
      "Epoch 39/50\n",
      "165/165 [==============================] - 0s 624us/step - loss: 0.0080 - acc: 1.0000 - val_loss: 0.6374 - val_acc: 0.6607\n",
      "Epoch 40/50\n",
      "165/165 [==============================] - 0s 618us/step - loss: 0.0073 - acc: 1.0000 - val_loss: 0.6426 - val_acc: 0.6607\n",
      "Epoch 41/50\n",
      "165/165 [==============================] - 0s 630us/step - loss: 0.0068 - acc: 1.0000 - val_loss: 0.6439 - val_acc: 0.6607\n",
      "Epoch 42/50\n",
      "165/165 [==============================] - 0s 630us/step - loss: 0.0063 - acc: 1.0000 - val_loss: 0.6474 - val_acc: 0.6607\n",
      "Epoch 43/50\n",
      "165/165 [==============================] - 0s 612us/step - loss: 0.0059 - acc: 1.0000 - val_loss: 0.6489 - val_acc: 0.6607\n",
      "Epoch 44/50\n",
      "165/165 [==============================] - 0s 612us/step - loss: 0.0055 - acc: 1.0000 - val_loss: 0.6514 - val_acc: 0.6607\n",
      "Epoch 45/50\n",
      "165/165 [==============================] - 0s 600us/step - loss: 0.0051 - acc: 1.0000 - val_loss: 0.6540 - val_acc: 0.6607\n",
      "Epoch 46/50\n",
      "165/165 [==============================] - 0s 612us/step - loss: 0.0048 - acc: 1.0000 - val_loss: 0.6556 - val_acc: 0.6607\n",
      "Epoch 47/50\n",
      "165/165 [==============================] - 0s 606us/step - loss: 0.0045 - acc: 1.0000 - val_loss: 0.6584 - val_acc: 0.6607\n",
      "Epoch 48/50\n",
      "165/165 [==============================] - 0s 606us/step - loss: 0.0043 - acc: 1.0000 - val_loss: 0.6600 - val_acc: 0.6607\n",
      "Epoch 49/50\n",
      "165/165 [==============================] - 0s 606us/step - loss: 0.0040 - acc: 1.0000 - val_loss: 0.6626 - val_acc: 0.6607\n",
      "Epoch 50/50\n",
      "165/165 [==============================] - 0s 595us/step - loss: 0.0038 - acc: 1.0000 - val_loss: 0.6645 - val_acc: 0.6607\n"
     ]
    }
   ],
   "source": [
    "history = model.fit(X_train, y_train,\n",
    "                    epochs=50,\n",
    "                    verbose=1,\n",
    "                    validation_data=(X_test, y_test),\n",
    "                    batch_size=10)"
   ]
  },
  {
   "cell_type": "code",
   "execution_count": 401,
   "metadata": {},
   "outputs": [
    {
     "name": "stdout",
     "output_type": "stream",
     "text": [
      "Training Accuracy: 1.0000\n",
      "Testing Accuracy:  0.6607\n"
     ]
    },
    {
     "data": {
      "image/png": "[encoded data removed]",
      "text/plain": [
       "<matplotlib.figure.Figure at 0x22c9d820400>"
      ]
     },
     "metadata": {},
     "output_type": "display_data"
    }
   ],
   "source": [
    "loss, accuracy = model.evaluate(X_train, y_train, verbose=False)\n",
    "print(\"Training Accuracy: {:.4f}\".format(accuracy))\n",
    "loss, accuracy = model.evaluate(X_test, y_test, verbose=False)\n",
    "print(\"Testing Accuracy:  {:.4f}\".format(accuracy))\n",
    "plot_history(history)"
   ]
  },
  {
   "cell_type": "code",
   "execution_count": 417,
   "metadata": {},
   "outputs": [
    {
     "data": {
      "text/plain": [
       "300"
      ]
     },
     "execution_count": 417,
     "metadata": {},
     "output_type": "execute_result"
    }
   ],
   "source": [
    "#LSTM\n",
    "embedding_dim"
   ]
  },
  {
   "cell_type": "code",
   "execution_count": 418,
   "metadata": {},
   "outputs": [
    {
     "name": "stdout",
     "output_type": "stream",
     "text": [
      "_________________________________________________________________\n",
      "Layer (type)                 Output Shape              Param #   \n",
      "=================================================================\n",
      "embedding_99 (Embedding)     (None, 100, 300)          359400    \n",
      "_________________________________________________________________\n",
      "bidirectional_2 (Bidirection (None, 64)                85248     \n",
      "_________________________________________________________________\n",
      "dense_158 (Dense)            (None, 10)                650       \n",
      "_________________________________________________________________\n",
      "dense_159 (Dense)            (None, 1)                 11        \n",
      "=================================================================\n",
      "Total params: 445,309\n",
      "Trainable params: 85,909\n",
      "Non-trainable params: 359,400\n",
      "_________________________________________________________________\n"
     ]
    }
   ],
   "source": [
    "model = Sequential()\n",
    "model.add(Embedding(vocab_size, \n",
    "                    embedding_dim, \n",
    "                    input_length=maxlen, \n",
    "                    weights = [embedding_matrix], \n",
    "                    trainable = False))\n",
    "\n",
    "# Now with recurrent dropout with a 10% chance of removing any element\n",
    "model.add(layers.Bidirectional(layers.LSTM(32)))#, recurrent_dropout=0.1)) \n",
    "model.add(layers.Dense(10, activation='relu'))\n",
    "model.add(Dense(1, activation='sigmoid'))\n",
    "model.summary()"
   ]
  },
  {
   "cell_type": "code",
   "execution_count": 419,
   "metadata": {},
   "outputs": [],
   "source": [
    "model.compile(optimizer='adam',\n",
    "              loss='binary_crossentropy',\n",
    "              metrics=['acc'])"
   ]
  },
  {
   "cell_type": "code",
   "execution_count": 420,
   "metadata": {},
   "outputs": [
    {
     "name": "stdout",
     "output_type": "stream",
     "text": [
      "Train on 165 samples, validate on 56 samples\n",
      "Epoch 1/20\n",
      "165/165 [==============================] - 8s 48ms/step - loss: 0.6963 - acc: 0.5030 - val_loss: 0.6888 - val_acc: 0.5893\n",
      "Epoch 2/20\n",
      "165/165 [==============================] - 2s 10ms/step - loss: 0.6778 - acc: 0.5333 - val_loss: 0.6813 - val_acc: 0.5893\n",
      "Epoch 3/20\n",
      "165/165 [==============================] - 2s 10ms/step - loss: 0.6647 - acc: 0.5455 - val_loss: 0.6780 - val_acc: 0.6071\n",
      "Epoch 4/20\n",
      "165/165 [==============================] - 2s 10ms/step - loss: 0.6487 - acc: 0.5515 - val_loss: 0.6781 - val_acc: 0.6786\n",
      "Epoch 5/20\n",
      "165/165 [==============================] - 2s 10ms/step - loss: 0.6335 - acc: 0.6667 - val_loss: 0.6797 - val_acc: 0.6429\n",
      "Epoch 6/20\n",
      "165/165 [==============================] - 2s 10ms/step - loss: 0.6133 - acc: 0.7576 - val_loss: 0.6698 - val_acc: 0.6964\n",
      "Epoch 7/20\n",
      "165/165 [==============================] - 2s 10ms/step - loss: 0.5913 - acc: 0.7636 - val_loss: 0.6636 - val_acc: 0.6607\n",
      "Epoch 8/20\n",
      "165/165 [==============================] - 2s 10ms/step - loss: 0.5684 - acc: 0.7697 - val_loss: 0.6817 - val_acc: 0.5179\n",
      "Epoch 9/20\n",
      "165/165 [==============================] - 2s 10ms/step - loss: 0.5505 - acc: 0.7939 - val_loss: 0.6597 - val_acc: 0.6786\n",
      "Epoch 10/20\n",
      "165/165 [==============================] - 2s 10ms/step - loss: 0.5059 - acc: 0.8424 - val_loss: 0.6351 - val_acc: 0.6429\n",
      "Epoch 11/20\n",
      "165/165 [==============================] - 2s 10ms/step - loss: 0.4607 - acc: 0.8545 - val_loss: 0.6691 - val_acc: 0.6250\n",
      "Epoch 12/20\n",
      "165/165 [==============================] - 2s 10ms/step - loss: 0.4237 - acc: 0.8364 - val_loss: 0.6744 - val_acc: 0.5893\n",
      "Epoch 13/20\n",
      "165/165 [==============================] - 2s 10ms/step - loss: 0.3570 - acc: 0.8970 - val_loss: 0.5891 - val_acc: 0.7143\n",
      "Epoch 14/20\n",
      "165/165 [==============================] - 2s 10ms/step - loss: 0.3549 - acc: 0.8485 - val_loss: 0.6017 - val_acc: 0.6964\n",
      "Epoch 15/20\n",
      "165/165 [==============================] - 2s 10ms/step - loss: 0.2987 - acc: 0.9091 - val_loss: 0.5807 - val_acc: 0.7321\n",
      "Epoch 16/20\n",
      "165/165 [==============================] - 2s 10ms/step - loss: 0.2688 - acc: 0.9394 - val_loss: 0.6528 - val_acc: 0.6429\n",
      "Epoch 17/20\n",
      "165/165 [==============================] - 2s 10ms/step - loss: 0.2104 - acc: 0.9455 - val_loss: 0.5826 - val_acc: 0.7143\n",
      "Epoch 18/20\n",
      "165/165 [==============================] - 2s 10ms/step - loss: 0.1907 - acc: 0.9515 - val_loss: 0.7400 - val_acc: 0.6071\n",
      "Epoch 19/20\n",
      "165/165 [==============================] - 2s 10ms/step - loss: 0.1725 - acc: 0.9455 - val_loss: 0.6072 - val_acc: 0.7500\n",
      "Epoch 20/20\n",
      "165/165 [==============================] - 2s 10ms/step - loss: 0.1440 - acc: 0.9636 - val_loss: 0.6526 - val_acc: 0.6964\n"
     ]
    }
   ],
   "source": [
    "#model.fit(X_train,y_train,validation_split=0.2,epochs=30)\n",
    "history = model.fit(X_train, y_train,\n",
    "                    epochs=20,\n",
    "                    verbose=1,\n",
    "                    validation_data=(X_test, y_test))"
   ]
  },
  {
   "cell_type": "code",
   "execution_count": 421,
   "metadata": {},
   "outputs": [
    {
     "data": {
      "image/png": "[encoded data removed]",
      "text/plain": [
       "<matplotlib.figure.Figure at 0x22cad183c88>"
      ]
     },
     "metadata": {},
     "output_type": "display_data"
    }
   ],
   "source": [
    "plot_history(history)"
   ]
  },
  {
   "cell_type": "code",
   "execution_count": 646,
   "metadata": {},
   "outputs": [
    {
     "data": {
      "text/plain": [
       "('Seguro la gorda come pizza le gusta', 1.0)"
      ]
     },
     "execution_count": 646,
     "metadata": {},
     "output_type": "execute_result"
    }
   ],
   "source": [
    "i = 27\n",
    "texto = X.iloc[i].split()\n",
    "X.iloc[i], y.iloc[i]"
   ]
  },
  {
   "cell_type": "code",
   "execution_count": 687,
   "metadata": {},
   "outputs": [],
   "source": [
    "texto = 'se subieron a la femimoda para hacer plata'.split()"
   ]
  },
  {
   "cell_type": "code",
   "execution_count": 688,
   "metadata": {},
   "outputs": [],
   "source": [
    "seq = [tokenizer.word_index[word.lower()] for word in texto if word.lower() in tokenizer.word_index]"
   ]
  },
  {
   "cell_type": "code",
   "execution_count": 689,
   "metadata": {},
   "outputs": [],
   "source": [
    "#seq"
   ]
  },
  {
   "cell_type": "code",
   "execution_count": 690,
   "metadata": {},
   "outputs": [],
   "source": [
    "pad = pad_sequences([seq], padding='post', maxlen=maxlen)"
   ]
  },
  {
   "cell_type": "code",
   "execution_count": 691,
   "metadata": {},
   "outputs": [
    {
     "data": {
      "text/plain": [
       "array([[0.4772418]], dtype=float32)"
      ]
     },
     "execution_count": 691,
     "metadata": {},
     "output_type": "execute_result"
    }
   ],
   "source": [
    "model.predict(pad)"
   ]
  },
  {
   "cell_type": "code",
   "execution_count": 685,
   "metadata": {
    "collapsed": true
   },
   "outputs": [],
   "source": [
    "#cnn"
   ]
  },
  {
   "cell_type": "code",
   "execution_count": 675,
   "metadata": {},
   "outputs": [
    {
     "name": "stdout",
     "output_type": "stream",
     "text": [
      "_________________________________________________________________\n",
      "Layer (type)                 Output Shape              Param #   \n",
      "=================================================================\n",
      "embedding_100 (Embedding)    (None, 100, 100)          119800    \n",
      "_________________________________________________________________\n",
      "conv1d_53 (Conv1D)           (None, 96, 128)           64128     \n",
      "_________________________________________________________________\n",
      "global_max_pooling1d_58 (Glo (None, 128)               0         \n",
      "_________________________________________________________________\n",
      "dense_160 (Dense)            (None, 10)                1290      \n",
      "_________________________________________________________________\n",
      "dense_161 (Dense)            (None, 1)                 11        \n",
      "=================================================================\n",
      "Total params: 185,229\n",
      "Trainable params: 185,229\n",
      "Non-trainable params: 0\n",
      "_________________________________________________________________\n"
     ]
    }
   ],
   "source": [
    "embedding_dim = 100\n",
    "\n",
    "model = Sequential()\n",
    "model.add(layers.Embedding(vocab_size, embedding_dim, input_length=maxlen))\n",
    "model.add(layers.Conv1D(128, 5, activation='relu'))\n",
    "model.add(layers.GlobalMaxPooling1D())\n",
    "model.add(layers.Dense(10, activation='relu'))\n",
    "model.add(layers.Dense(1, activation='sigmoid'))\n",
    "model.compile(optimizer='adam',\n",
    "              loss='binary_crossentropy',\n",
    "              metrics=['accuracy'])\n",
    "model.summary()"
   ]
  },
  {
   "cell_type": "code",
   "execution_count": 202,
   "metadata": {},
   "outputs": [
    {
     "name": "stdout",
     "output_type": "stream",
     "text": [
      "Training Accuracy: 1.0000\n",
      "Testing Accuracy:  0.5179\n"
     ]
    },
    {
     "data": {
      "image/png": "[encoded data removed]",
      "text/plain": [
       "<matplotlib.figure.Figure at 0x22c610f0c88>"
      ]
     },
     "metadata": {},
     "output_type": "display_data"
    }
   ],
   "source": [
    "history = model.fit(X_train, y_train,\n",
    "                    epochs=10,\n",
    "                    verbose=False,\n",
    "                    validation_data=(X_test, y_test),\n",
    "                    batch_size=10)\n",
    "loss, accuracy = model.evaluate(X_train, y_train, verbose=False)\n",
    "print(\"Training Accuracy: {:.4f}\".format(accuracy))\n",
    "loss, accuracy = model.evaluate(X_test, y_test, verbose=False)\n",
    "print(\"Testing Accuracy:  {:.4f}\".format(accuracy))\n",
    "plot_history(history)"
   ]
  },
  {
   "cell_type": "code",
   "execution_count": 203,
   "metadata": {
    "collapsed": true
   },
   "outputs": [],
   "source": [
    "def create_model(num_filters, kernel_size, vocab_size, embedding_dim, maxlen):\n",
    "    model = Sequential()\n",
    "    model.add(layers.Embedding(vocab_size, embedding_dim, input_length=maxlen))\n",
    "    model.add(layers.Conv1D(num_filters, kernel_size, activation='relu'))\n",
    "    model.add(layers.GlobalMaxPooling1D())\n",
    "    model.add(layers.Dense(10, activation='relu'))\n",
    "    model.add(layers.Dense(1, activation='sigmoid'))\n",
    "    model.compile(optimizer='adam',\n",
    "                  loss='binary_crossentropy',\n",
    "                  metrics=['accuracy'])\n",
    "    return model"
   ]
  },
  {
   "cell_type": "code",
   "execution_count": 204,
   "metadata": {
    "collapsed": true
   },
   "outputs": [],
   "source": [
    "param_grid = dict(num_filters=[32, 64, 128],\n",
    "                  kernel_size=[3, 5, 7],\n",
    "                  vocab_size=[5000], \n",
    "                  embedding_dim=[50],\n",
    "                  maxlen=[100])"
   ]
  },
  {
   "cell_type": "code",
   "execution_count": 205,
   "metadata": {},
   "outputs": [
    {
     "name": "stdout",
     "output_type": "stream",
     "text": [
      "Fitting 4 folds for each of 5 candidates, totalling 20 fits\n"
     ]
    },
    {
     "name": "stderr",
     "output_type": "stream",
     "text": [
      "[Parallel(n_jobs=1)]: Done  20 out of  20 | elapsed:  1.6min finished\n"
     ]
    },
    {
     "name": "stdout",
     "output_type": "stream",
     "text": [
      "0.6484848484848484\n",
      "{'vocab_size': 1223, 'num_filters': 128, 'maxlen': 100, 'kernel_size': 3, 'embedding_dim': 50}\n",
      "0.6071428560784885\n"
     ]
    }
   ],
   "source": [
    "from keras.wrappers.scikit_learn import KerasClassifier\n",
    "from sklearn.model_selection import RandomizedSearchCV\n",
    "\n",
    "# Main settings\n",
    "epochs = 20\n",
    "embedding_dim = 50\n",
    "maxlen = 100\n",
    "output_file = 'data/output.txt'\n",
    "\n",
    "# Run grid search for each source (yelp, amazon, imdb)\n",
    "\n",
    "    # Train-test split\n",
    "sentences_train, sentences_test, y_train, y_test = train_test_split(X, y, test_size=0.25, random_state=1000)\n",
    "\n",
    "# Tokenize words\n",
    "tokenizer = Tokenizer(num_words=5000)\n",
    "tokenizer.fit_on_texts(sentences_train)\n",
    "X_train = tokenizer.texts_to_sequences(sentences_train)\n",
    "X_test = tokenizer.texts_to_sequences(sentences_test)\n",
    "\n",
    "    # Adding 1 because of reserved 0 index\n",
    "vocab_size = len(tokenizer.word_index) + 1\n",
    "\n",
    "# Pad sequences with zeros\n",
    "X_train = pad_sequences(X_train, padding='post', maxlen=maxlen)\n",
    "X_test = pad_sequences(X_test, padding='post', maxlen=maxlen)\n",
    "\n",
    "# Parameter grid for grid search\n",
    "param_grid = dict(num_filters=[32, 64, 128],\n",
    "                  kernel_size=[3, 5, 7],\n",
    "                  vocab_size=[vocab_size],\n",
    "                  embedding_dim=[embedding_dim],\n",
    "                  maxlen=[maxlen])\n",
    "model = KerasClassifier(build_fn=create_model,\n",
    "                        epochs=epochs, batch_size=10,\n",
    "                        verbose=False)\n",
    "grid = RandomizedSearchCV(estimator=model, param_distributions=param_grid,\n",
    "                          cv=4, verbose=1, n_iter=5)\n",
    "grid_result = grid.fit(X_train, y_train)\n",
    "\n",
    "# Evaluate testing set\n",
    "test_accuracy = grid.score(X_test, y_test)\n",
    "\n",
    "# Save and evaluate results\n",
    "print(grid_result.best_score_)\n",
    "print(grid_result.best_params_)\n",
    "print(test_accuracy)\n",
    "#print(output_string)"
   ]
  },
  {
   "cell_type": "code",
   "execution_count": 206,
   "metadata": {
    "collapsed": true
   },
   "outputs": [],
   "source": [
    "#Del libro de chollet"
   ]
  },
  {
   "cell_type": "code",
   "execution_count": 207,
   "metadata": {},
   "outputs": [
    {
     "name": "stdout",
     "output_type": "stream",
     "text": [
      "Found 9 unique tokens.\n"
     ]
    }
   ],
   "source": [
    "#from keras.preprocessing.text import Tokenizer\n",
    "samples = ['The cat sat on the mat.', 'The dog ate my homework.']\n",
    "tokenizer = Tokenizer(num_words=1000)\n",
    "tokenizer.fit_on_texts(samples)\n",
    "sequences = tokenizer.texts_to_sequences(samples)\n",
    "one_hot_results = tokenizer.texts_to_matrix(samples, mode='binary')\n",
    "word_index = tokenizer.word_index\n",
    "print('Found %s unique tokens.' % len(word_index))"
   ]
  },
  {
   "cell_type": "code",
   "execution_count": 304,
   "metadata": {
    "collapsed": true
   },
   "outputs": [],
   "source": [
    "sentences_train, sentences_test, y_train, y_test = train_test_split(X, y, test_size=0.25, random_state=1000)"
   ]
  },
  {
   "cell_type": "code",
   "execution_count": 310,
   "metadata": {
    "collapsed": true
   },
   "outputs": [],
   "source": [
    "from keras.preprocessing.text import Tokenizer\n",
    "\n",
    "tokenizer = Tokenizer()\n",
    "tokenizer.fit_on_texts(sentences_train)\n",
    "\n",
    "X_train = tokenizer.texts_to_sequences(sentences_train)\n",
    "X_test = tokenizer.texts_to_sequences(sentences_test)\n",
    "\n",
    "vocab_size = len(tokenizer.word_index) + 1  # Adding 1 because of reserved 0 index"
   ]
  },
  {
   "cell_type": "code",
   "execution_count": 311,
   "metadata": {
    "collapsed": true
   },
   "outputs": [],
   "source": [
    "x_train = [x[::-1] for x in X_train]\n",
    "x_test = [x[::-1] for x in X_test]"
   ]
  },
  {
   "cell_type": "code",
   "execution_count": 312,
   "metadata": {
    "collapsed": true
   },
   "outputs": [],
   "source": [
    "from keras.preprocessing.sequence import pad_sequences\n",
    "\n",
    "maxlen = 100\n",
    "X_train = pad_sequences(x_train, padding='post', maxlen=maxlen)\n",
    "X_test = pad_sequences(x_test, padding='post', maxlen=maxlen)"
   ]
  },
  {
   "cell_type": "code",
   "execution_count": 313,
   "metadata": {},
   "outputs": [],
   "source": [
    "from keras.models import Sequential\n",
    "from keras.layers import Embedding, SimpleRNN\n",
    "from keras.layers import Dense\n",
    "model = Sequential()\n",
    "model.add(Embedding(vocab_size, 32))\n",
    "model.add(SimpleRNN(32))\n",
    "model.add(Dense(1, activation='sigmoid'))\n",
    "model.compile(optimizer='rmsprop', loss='binary_crossentropy', metrics=['acc'])\n"
   ]
  },
  {
   "cell_type": "code",
   "execution_count": 314,
   "metadata": {},
   "outputs": [
    {
     "name": "stdout",
     "output_type": "stream",
     "text": [
      "Train on 165 samples, validate on 56 samples\n",
      "Epoch 1/10\n",
      "165/165 [==============================] - 4s 27ms/step - loss: 0.7025 - acc: 0.4970 - val_loss: 0.6789 - val_acc: 0.5714\n",
      "Epoch 2/10\n",
      "165/165 [==============================] - 1s 4ms/step - loss: 0.6853 - acc: 0.5394 - val_loss: 0.7329 - val_acc: 0.5000\n",
      "Epoch 3/10\n",
      "165/165 [==============================] - 1s 4ms/step - loss: 0.6205 - acc: 0.6545 - val_loss: 0.6807 - val_acc: 0.5357\n",
      "Epoch 4/10\n",
      "165/165 [==============================] - 1s 4ms/step - loss: 0.5354 - acc: 0.7818 - val_loss: 0.7702 - val_acc: 0.3929\n",
      "Epoch 5/10\n",
      "165/165 [==============================] - 1s 4ms/step - loss: 0.4558 - acc: 0.8364 - val_loss: 0.8538 - val_acc: 0.4107\n",
      "Epoch 6/10\n",
      "165/165 [==============================] - 1s 4ms/step - loss: 0.3241 - acc: 0.9515 - val_loss: 0.7785 - val_acc: 0.5179\n",
      "Epoch 7/10\n",
      "165/165 [==============================] - 1s 4ms/step - loss: 0.2781 - acc: 0.9394 - val_loss: 0.7586 - val_acc: 0.6429\n",
      "Epoch 8/10\n",
      "165/165 [==============================] - 1s 4ms/step - loss: 0.1549 - acc: 0.9879 - val_loss: 0.7701 - val_acc: 0.6071\n",
      "Epoch 9/10\n",
      "165/165 [==============================] - 1s 4ms/step - loss: 0.0998 - acc: 0.9879 - val_loss: 0.8602 - val_acc: 0.5714\n",
      "Epoch 10/10\n",
      "165/165 [==============================] - 1s 4ms/step - loss: 0.1036 - acc: 0.9939 - val_loss: 0.8707 - val_acc: 0.5357\n"
     ]
    }
   ],
   "source": [
    "history = model.fit(X_train, y_train, epochs=10, batch_size=10, validation_data=(X_test, y_test))"
   ]
  },
  {
   "cell_type": "code",
   "execution_count": 315,
   "metadata": {},
   "outputs": [
    {
     "data": {
      "image/png": "[encoded data removed]",
      "text/plain": [
       "<matplotlib.figure.Figure at 0x22c80331ef0>"
      ]
     },
     "metadata": {},
     "output_type": "display_data"
    }
   ],
   "source": [
    "plot_history(history)"
   ]
  },
  {
   "cell_type": "code",
   "execution_count": 317,
   "metadata": {},
   "outputs": [
    {
     "name": "stdout",
     "output_type": "stream",
     "text": [
      "Train on 165 samples, validate on 56 samples\n",
      "Epoch 1/10\n",
      "165/165 [==============================] - 6s 33ms/step - loss: 0.6952 - acc: 0.4909 - val_loss: 0.6949 - val_acc: 0.4286\n",
      "Epoch 2/10\n",
      "165/165 [==============================] - 1s 8ms/step - loss: 0.6947 - acc: 0.4364 - val_loss: 0.6891 - val_acc: 0.5714\n",
      "Epoch 3/10\n",
      "165/165 [==============================] - 1s 8ms/step - loss: 0.6931 - acc: 0.5152 - val_loss: 0.6907 - val_acc: 0.5714\n",
      "Epoch 4/10\n",
      "165/165 [==============================] - 1s 8ms/step - loss: 0.6939 - acc: 0.5152 - val_loss: 0.6923 - val_acc: 0.5714\n",
      "Epoch 5/10\n",
      "165/165 [==============================] - 1s 8ms/step - loss: 0.6938 - acc: 0.4788 - val_loss: 0.6928 - val_acc: 0.5714\n",
      "Epoch 6/10\n",
      "165/165 [==============================] - 1s 8ms/step - loss: 0.6940 - acc: 0.4909 - val_loss: 0.6948 - val_acc: 0.4286\n",
      "Epoch 7/10\n",
      "165/165 [==============================] - 1s 8ms/step - loss: 0.6942 - acc: 0.4485 - val_loss: 0.6896 - val_acc: 0.5714\n",
      "Epoch 8/10\n",
      "165/165 [==============================] - 1s 8ms/step - loss: 0.6921 - acc: 0.5152 - val_loss: 0.6842 - val_acc: 0.5714\n",
      "Epoch 9/10\n",
      "165/165 [==============================] - 1s 8ms/step - loss: 0.6810 - acc: 0.5152 - val_loss: 0.6882 - val_acc: 0.4286\n",
      "Epoch 10/10\n",
      "165/165 [==============================] - 1s 8ms/step - loss: 0.6884 - acc: 0.5697 - val_loss: 0.6959 - val_acc: 0.4464\n"
     ]
    }
   ],
   "source": [
    "from keras.layers import LSTM\n",
    "model = Sequential()\n",
    "model.add(Embedding(vocab_size, 128))\n",
    "model.add(LSTM(32))\n",
    "model.add(Dense(1, activation='sigmoid'))\n",
    "model.compile(optimizer='rmsprop',\n",
    "loss='binary_crossentropy',\n",
    "metrics=['acc'])\n",
    "history = model.fit(X_train, y_train, epochs=10, batch_size = 20, validation_data=(X_test, y_test))"
   ]
  },
  {
   "cell_type": "code",
   "execution_count": 318,
   "metadata": {},
   "outputs": [
    {
     "data": {
      "text/plain": [
       "1198"
      ]
     },
     "execution_count": 318,
     "metadata": {},
     "output_type": "execute_result"
    }
   ],
   "source": [
    "vocab_size"
   ]
  },
  {
   "cell_type": "code",
   "execution_count": 325,
   "metadata": {},
   "outputs": [
    {
     "data": {
      "text/plain": [
       "1197"
      ]
     },
     "execution_count": 325,
     "metadata": {},
     "output_type": "execute_result"
    }
   ],
   "source": [
    "len(tokenizer.word_counts)"
   ]
  },
  {
   "cell_type": "code",
   "execution_count": 326,
   "metadata": {
    "collapsed": true
   },
   "outputs": [],
   "source": [
    "model = Sequential()\n",
    "model.add(layers.Embedding(vocab_size, 32))\n",
    "model.add(layers.Bidirectional(layers.LSTM(32)))\n",
    "model.add(layers.Dense(1, activation='sigmoid'))"
   ]
  },
  {
   "cell_type": "code",
   "execution_count": 327,
   "metadata": {},
   "outputs": [
    {
     "name": "stdout",
     "output_type": "stream",
     "text": [
      "Train on 165 samples, validate on 56 samples\n",
      "Epoch 1/10\n",
      "165/165 [==============================] - 8s 46ms/step - loss: 0.6940 - acc: 0.4545 - val_loss: 0.6897 - val_acc: 0.5714\n",
      "Epoch 2/10\n",
      "165/165 [==============================] - 3s 16ms/step - loss: 0.6859 - acc: 0.5576 - val_loss: 0.6875 - val_acc: 0.6607\n",
      "Epoch 3/10\n",
      "165/165 [==============================] - 3s 16ms/step - loss: 0.6660 - acc: 0.8424 - val_loss: 0.6757 - val_acc: 0.6071\n",
      "Epoch 4/10\n",
      "165/165 [==============================] - 3s 16ms/step - loss: 0.6927 - acc: 0.7697 - val_loss: 0.6661 - val_acc: 0.6071\n",
      "Epoch 5/10\n",
      "165/165 [==============================] - 3s 16ms/step - loss: 0.5934 - acc: 0.8000 - val_loss: 0.6558 - val_acc: 0.6071\n",
      "Epoch 6/10\n",
      "165/165 [==============================] - 3s 16ms/step - loss: 0.5295 - acc: 0.9030 - val_loss: 0.6360 - val_acc: 0.6964\n",
      "Epoch 7/10\n",
      "165/165 [==============================] - 3s 16ms/step - loss: 0.4958 - acc: 0.8970 - val_loss: 0.6471 - val_acc: 0.5893\n",
      "Epoch 8/10\n",
      "165/165 [==============================] - 3s 16ms/step - loss: 0.4731 - acc: 0.8848 - val_loss: 0.6451 - val_acc: 0.6429\n",
      "Epoch 9/10\n",
      "165/165 [==============================] - 3s 16ms/step - loss: 0.4174 - acc: 0.9152 - val_loss: 1.1351 - val_acc: 0.5714\n",
      "Epoch 10/10\n",
      "165/165 [==============================] - 3s 16ms/step - loss: 0.4615 - acc: 0.9030 - val_loss: 0.6106 - val_acc: 0.6786\n"
     ]
    }
   ],
   "source": [
    "model.compile(optimizer='rmsprop',\n",
    "loss='binary_crossentropy',\n",
    "metrics=['acc'])\n"
   ]
  },
  {
   "cell_type": "code",
   "execution_count": 329,
   "metadata": {},
   "outputs": [
    {
     "name": "stdout",
     "output_type": "stream",
     "text": [
      "Train on 165 samples, validate on 56 samples\n",
      "Epoch 1/10\n",
      "165/165 [==============================] - 3s 16ms/step - loss: 0.3807 - acc: 0.9394 - val_loss: 0.6443 - val_acc: 0.6607\n",
      "Epoch 2/10\n",
      "165/165 [==============================] - 3s 16ms/step - loss: 0.2708 - acc: 0.9515 - val_loss: 0.6343 - val_acc: 0.6964\n",
      "Epoch 3/10\n",
      "165/165 [==============================] - 3s 16ms/step - loss: 0.1615 - acc: 0.9818 - val_loss: 0.8921 - val_acc: 0.5893\n",
      "Epoch 4/10\n",
      "165/165 [==============================] - 3s 16ms/step - loss: 0.2182 - acc: 0.9152 - val_loss: 0.6677 - val_acc: 0.6607\n",
      "Epoch 5/10\n",
      "165/165 [==============================] - 3s 16ms/step - loss: 0.1102 - acc: 0.9697 - val_loss: 0.6773 - val_acc: 0.6071\n",
      "Epoch 6/10\n",
      "165/165 [==============================] - 3s 16ms/step - loss: 0.0881 - acc: 0.9758 - val_loss: 0.6632 - val_acc: 0.6964\n",
      "Epoch 7/10\n",
      "165/165 [==============================] - 3s 16ms/step - loss: 0.0785 - acc: 0.9879 - val_loss: 0.7058 - val_acc: 0.6250\n",
      "Epoch 8/10\n",
      "165/165 [==============================] - 3s 17ms/step - loss: 0.0836 - acc: 0.9697 - val_loss: 0.7172 - val_acc: 0.6071\n",
      "Epoch 9/10\n",
      "165/165 [==============================] - 3s 16ms/step - loss: 0.0691 - acc: 0.9758 - val_loss: 0.8071 - val_acc: 0.6607\n",
      "Epoch 10/10\n",
      "165/165 [==============================] - 3s 16ms/step - loss: 0.0663 - acc: 0.9818 - val_loss: 0.7455 - val_acc: 0.6429\n"
     ]
    }
   ],
   "source": [
    "history = model.fit(X_train, y_train, epochs=10, batch_size = 20, validation_data=(X_test, y_test))"
   ]
  },
  {
   "cell_type": "code",
   "execution_count": 335,
   "metadata": {},
   "outputs": [
    {
     "name": "stdout",
     "output_type": "stream",
     "text": [
      "_________________________________________________________________\n",
      "Layer (type)                 Output Shape              Param #   \n",
      "=================================================================\n",
      "embedding_89 (Embedding)     (None, 100, 128)          153344    \n",
      "_________________________________________________________________\n",
      "conv1d_49 (Conv1D)           (None, 94, 32)            28704     \n",
      "_________________________________________________________________\n",
      "max_pooling1d_3 (MaxPooling1 (None, 18, 32)            0         \n",
      "_________________________________________________________________\n",
      "conv1d_50 (Conv1D)           (None, 12, 32)            7200      \n",
      "_________________________________________________________________\n",
      "global_max_pooling1d_56 (Glo (None, 32)                0         \n",
      "_________________________________________________________________\n",
      "dense_144 (Dense)            (None, 1)                 33        \n",
      "=================================================================\n",
      "Total params: 189,281\n",
      "Trainable params: 189,281\n",
      "Non-trainable params: 0\n",
      "_________________________________________________________________\n"
     ]
    }
   ],
   "source": [
    "from keras.models import Sequential\n",
    "from keras import layers\n",
    "from keras.optimizers import RMSprop\n",
    "model = Sequential()\n",
    "model.add(layers.Embedding(vocab_size, 128, input_length=maxlen))\n",
    "model.add(layers.Conv1D(32, 7, activation='relu'))\n",
    "model.add(layers.MaxPooling1D(5))\n",
    "model.add(layers.Conv1D(32, 7, activation='relu'))\n",
    "model.add(layers.GlobalMaxPooling1D())\n",
    "model.add(layers.Dense(1))\n",
    "model.summary()\n",
    "model.compile(optimizer=RMSprop(lr=1e-4), loss='binary_crossentropy', metrics=['acc'])\n"
   ]
  },
  {
   "cell_type": "code",
   "execution_count": 341,
   "metadata": {},
   "outputs": [
    {
     "name": "stdout",
     "output_type": "stream",
     "text": [
      "Train on 165 samples, validate on 56 samples\n",
      "Epoch 1/10\n",
      "165/165 [==============================] - 0s 267us/step - loss: 0.4035 - acc: 0.9394 - val_loss: 0.6710 - val_acc: 0.5714\n",
      "Epoch 2/10\n",
      "165/165 [==============================] - 0s 260us/step - loss: 0.3961 - acc: 0.9273 - val_loss: 0.6628 - val_acc: 0.5893\n",
      "Epoch 3/10\n",
      "165/165 [==============================] - 0s 279us/step - loss: 0.3932 - acc: 0.9333 - val_loss: 0.6573 - val_acc: 0.6071\n",
      "Epoch 4/10\n",
      "165/165 [==============================] - 0s 260us/step - loss: 0.3857 - acc: 0.9697 - val_loss: 0.6618 - val_acc: 0.5893\n",
      "Epoch 5/10\n",
      "165/165 [==============================] - 0s 267us/step - loss: 0.3768 - acc: 0.9515 - val_loss: 0.6848 - val_acc: 0.5357\n",
      "Epoch 6/10\n",
      "165/165 [==============================] - 0s 260us/step - loss: 0.3680 - acc: 0.9273 - val_loss: 0.6920 - val_acc: 0.4821\n",
      "Epoch 7/10\n",
      "165/165 [==============================] - 0s 260us/step - loss: 0.3615 - acc: 0.9212 - val_loss: 0.6809 - val_acc: 0.5536\n",
      "Epoch 8/10\n",
      "165/165 [==============================] - 0s 260us/step - loss: 0.3524 - acc: 0.9273 - val_loss: 0.6639 - val_acc: 0.5714\n",
      "Epoch 9/10\n",
      "165/165 [==============================] - 0s 260us/step - loss: 0.3439 - acc: 0.9394 - val_loss: 0.6777 - val_acc: 0.5893\n",
      "Epoch 10/10\n",
      "165/165 [==============================] - 0s 267us/step - loss: 0.3353 - acc: 0.9333 - val_loss: 0.6610 - val_acc: 0.5714\n"
     ]
    }
   ],
   "source": [
    "history = model.fit(X_train, y_train, epochs=10,  validation_data=(X_test, y_test))"
   ]
  },
  {
   "cell_type": "code",
   "execution_count": null,
   "metadata": {
    "collapsed": true
   },
   "outputs": [],
   "source": [
    "#ngramas"
   ]
  },
  {
   "cell_type": "code",
   "execution_count": 348,
   "metadata": {
    "collapsed": true
   },
   "outputs": [],
   "source": [
    "# keras module for building LSTM \n",
    "from keras.preprocessing.sequence import pad_sequences\n",
    "from keras.layers import Embedding, LSTM, Dense\n",
    "from keras.preprocessing.text import Tokenizer\n",
    "from keras.callbacks import EarlyStopping\n",
    "from keras.models import Sequential\n",
    "import keras.utils as ku \n",
    "\n",
    "# set seeds for reproducability\n",
    "from tensorflow import set_random_seed\n",
    "from numpy.random import seed\n",
    "set_random_seed(2)\n",
    "seed(1)\n",
    "\n",
    "import pandas as pd\n",
    "import numpy as np\n",
    "import string, os \n",
    "\n",
    "import warnings\n",
    "warnings.filterwarnings(\"ignore\")\n",
    "warnings.simplefilter(action='ignore', category=FutureWarning)"
   ]
  },
  {
   "cell_type": "code",
   "execution_count": 351,
   "metadata": {},
   "outputs": [
    {
     "data": {
      "text/plain": [
       "['solyema hay tanta fea en el foro que tu post pasa a ser tema de la hermenéutica',\n",
       " 'la gorda sabe q si se sube el helicóptero no despega así q está preparando su huida anticipada',\n",
       " 'la gorda alcides con el agua al cuello en san fernando y aplaude a los moyano que paran en el ritz de madrid',\n",
       " 'simplemente se trató de una pedorreta de la gorda',\n",
       " ' ¡¡¡¡¡¡ gorda ',\n",
       " 'y es bien fea',\n",
       " 'pinta de gorda con la bombacha amarronada jajaaa',\n",
       " 'bimai y gorda no se olvide',\n",
       " 'que falta le hacía aparecer así en estas fotos más fea imposible',\n",
       " 'mrce44 en cualquier momento aparece la fea']"
      ]
     },
     "execution_count": 351,
     "metadata": {},
     "output_type": "execute_result"
    }
   ],
   "source": [
    "def clean_text(txt):\n",
    "    txt = \"\".join(v for v in txt if v not in string.punctuation).lower()\n",
    "    #txt = txt.encode(\"utf8\").decode(\"ascii\",'ignore')\n",
    "    return txt \n",
    "\n",
    "corpus = [clean_text(x) for x in X]\n",
    "corpus[:10]"
   ]
  }
 ],
 "metadata": {
  "kernelspec": {
   "display_name": "Python 3",
   "language": "python",
   "name": "python3"
  },
  "language_info": {
   "codemirror_mode": {
    "name": "ipython",
    "version": 3
   },
   "file_extension": ".py",
   "mimetype": "text/x-python",
   "name": "python",
   "nbconvert_exporter": "python",
   "pygments_lexer": "ipython3",
   "version": "3.6.3"
  }
 },
 "nbformat": 4,
 "nbformat_minor": 2
}
