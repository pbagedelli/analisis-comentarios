{
 "cells": [
  {
   "cell_type": "code",
   "execution_count": 1,
   "metadata": {
    "collapsed": true
   },
   "outputs": [],
   "source": [
    "import requests\n",
    "import pandas as pd\n",
    "import json\n",
    "from bs4 import BeautifulSoup\n",
    "import config\n",
    "import datetime\n",
    "from datetime import timedelta\n",
    "import time\n",
    "from selenium import webdriver\n",
    "from selenium.webdriver.support.ui import WebDriverWait\n",
    "from selenium.webdriver.support import expected_conditions as EC\n",
    "from selenium.webdriver.common.by import By\n",
    "from selenium.common.exceptions import TimeoutException"
   ]
  },
  {
   "cell_type": "code",
   "execution_count": 2,
   "metadata": {
    "collapsed": true
   },
   "outputs": [],
   "source": [
    "#mydate = datetime.date(2018,10,2)\n",
    "#fecha = mydate.strftime(\"%Y-%m-%d\")"
   ]
  },
  {
   "cell_type": "code",
   "execution_count": 3,
   "metadata": {
    "collapsed": true
   },
   "outputs": [],
   "source": [
    "#df = pd.read_csv('./clarin_full_notas.csv', index_col=0)"
   ]
  },
  {
   "cell_type": "code",
   "execution_count": 4,
   "metadata": {
    "collapsed": true
   },
   "outputs": [],
   "source": [
    "path_to_extension = r'C:\\Users\\p_bag\\OneDrive\\Documentos\\1.17.0_0'\n",
    "windows = '/Users/p_bag/Downloads/chromedriver_win32/chromedriver.exe'\n",
    "chrome_options = webdriver.ChromeOptions()\n",
    "#chrome_options.add_argument(\"--incognito\")\n",
    "chrome_options.add_argument('load-extension=' + path_to_extension)\n",
    "chrome_options.add_argument(\"--start-maximized\")"
   ]
  },
  {
   "cell_type": "code",
   "execution_count": 12,
   "metadata": {},
   "outputs": [],
   "source": [
    "def scrapear(urls):\n",
    "    comentarios= []\n",
    "    for nota_id, url in zip(urls.index, urls.values):\n",
    "        driver = webdriver.Chrome(windows, chrome_options=chrome_options)\n",
    "        driver.create_options()\n",
    "        driver.get(url)\n",
    "\n",
    "        #Creo que en Clarin no es necesario scrollear para que aparezca el boton\n",
    "        #driver.execute_script(\"window.scrollTo(0, document.body.scrollHeight);\")\n",
    "        try:\n",
    "            WebDriverWait(driver, 10).until(EC.presence_of_element_located((By.CLASS_NAME, 'pull-left')))\n",
    "            print (\"Hay boton\")\n",
    "            button = True\n",
    "        except TimeoutException:\n",
    "            print (\"No hay boton\")\n",
    "            button = False  \n",
    "        \n",
    "        while button:\n",
    "            try:\n",
    "                #print('boton')\n",
    "                element = driver.find_element_by_class_name('content_numb_comment')\n",
    "                element.location_once_scrolled_into_view\n",
    "                #time.sleep(2)\n",
    "                driver.find_element_by_class_name(\"content_numb_comment\").click()\n",
    "                WebDriverWait(driver, 3).until(EC.presence_of_element_located((By.CLASS_NAME, 'gig-comments-more')))\n",
    "                button = False\n",
    "            except: \n",
    "                button = False\n",
    "\n",
    "        button = True\n",
    "        while button:\n",
    "            try:\n",
    "                element = driver.find_element_by_class_name(\"gig-comments-more\")\n",
    "                element.location_once_scrolled_into_view\n",
    "                driver.find_element_by_class_name(\"gig-comments-more\").click()\n",
    "                time.sleep(0.5)\n",
    "                WebDriverWait(driver, 3).until(EC.presence_of_element_located((By.CLASS_NAME, 'gig-comments-more')))\n",
    "\n",
    "            except:\n",
    "                button = False   \n",
    "\n",
    "            try:\n",
    "                todo = driver.find_element_by_class_name(\"gig-comments-comments\")\n",
    "                a= todo.find_elements_by_class_name(\"gig-comment\")\n",
    "                for item in a:\n",
    "                    try:\n",
    "                        comentarios.append({'texto': item.find_elements_by_class_name(\"gig-comment-body\")[0].text,\n",
    "                                            'usuario' : item.find_elements_by_class_name(\"gig-comment-username\")[0].text,\n",
    "                                            'likes' : item.find_elements_by_class_name(\"gig-comment-vote-pos\")[0].text,\n",
    "                                            'unLikes' :item.find_elements_by_class_name(\"gig-comment-vote-neg\")[0].text,\n",
    "                                            'fecha' : item.find_elements_by_class_name(\"gig-comment-time\")[0].text,\n",
    "                                            'respuestas' : len(item.find_elements_by_class_name('gig-comment-replies')) -1,\n",
    "                                            'es_respuesta': 'gig-comment-replies' in item.find_element_by_xpath('..').get_attribute('class'),\n",
    "                                            'nota_id': nota_id,\n",
    "                                            'nota_url': url\n",
    "                                            })\n",
    "                        print('.', end = '')\n",
    "                    except:\n",
    "                        pass\n",
    "            except:\n",
    "                comentarios.append({'texto': \"NOTA SIN COMENTARIOS\",\n",
    "                                            'usuario' : \"\",\n",
    "                                            'likes' : \"\",\n",
    "                                            'unlikes' \"\",\n",
    "                                            'fecha' : \"\",\n",
    "                                            'respuestas' : \"\",\n",
    "                                            'es_respuesta': \"\",\n",
    "                                            'nota_id': nota_id,\n",
    "                                            'nota_url': url\n",
    "                                           })\n",
    "            driver.quit()\n",
    "    return comentarios"
   ]
  },
  {
   "cell_type": "code",
   "execution_count": null,
   "metadata": {
    "collapsed": true
   },
   "outputs": [],
   "source": [
    "corte = df.url.shape[0]//4\n",
    "lista_urls = []\n",
    "lista_urls.append(df.url[:corte])\n",
    "lista_urls.append(df.url[corte:corte*2])\n",
    "lista_urls.append(df.url[corte*2:corte*3])\n",
    "lista_urls.append(df.url[corte*3:df.shape[0]])"
   ]
  },
  {
   "cell_type": "code",
   "execution_count": null,
   "metadata": {
    "collapsed": true
   },
   "outputs": [],
   "source": [
    "%%time\n",
    "from joblib import Parallel, delayed\n",
    "results = Parallel(n_jobs=-1)(delayed(scrapear)(urls) for urls in lista_urls)"
   ]
  },
  {
   "cell_type": "code",
   "execution_count": null,
   "metadata": {
    "collapsed": true
   },
   "outputs": [],
   "source": [
    "comentarios = results[0] + results[1] + results[2] + results[3]"
   ]
  },
  {
   "cell_type": "code",
   "execution_count": null,
   "metadata": {
    "collapsed": true
   },
   "outputs": [],
   "source": [
    "import pandas as pd\n",
    "df_comentarios = pd.DataFrame(comentarios)\n",
    "df_comentarios"
   ]
  },
  {
   "cell_type": "code",
   "execution_count": null,
   "metadata": {
    "collapsed": true
   },
   "outputs": [],
   "source": []
  },
  {
   "cell_type": "code",
   "execution_count": null,
   "metadata": {
    "collapsed": true
   },
   "outputs": [],
   "source": []
  },
  {
   "cell_type": "code",
   "execution_count": null,
   "metadata": {
    "collapsed": true
   },
   "outputs": [],
   "source": []
  },
  {
   "cell_type": "code",
   "execution_count": null,
   "metadata": {
    "collapsed": true
   },
   "outputs": [],
   "source": []
  },
  {
   "cell_type": "code",
   "execution_count": 85,
   "metadata": {
    "collapsed": true
   },
   "outputs": [],
   "source": [
    "#aca dejo los elementos sueltos\n",
    "\n",
    "driver = webdriver.Chrome(windows,chrome_options=chrome_options)\n",
    "# for nota_id, url in zip(urls.index, urls.values):\n",
    "url = 'https://www.clarin.com/sociedad/incidentes-puerta-legislatura-portena-gases-lacrimogenos-unicaba_0_PbVycsb-3.html'\n",
    "nota_id = '1'\n",
    "#url = df.url[0]\n",
    "driver.get(url)"
   ]
  },
  {
   "cell_type": "code",
   "execution_count": 86,
   "metadata": {},
   "outputs": [
    {
     "name": "stdout",
     "output_type": "stream",
     "text": [
      "Hay boton\n"
     ]
    }
   ],
   "source": [
    "try:\n",
    "    WebDriverWait(driver, 10).until(EC.presence_of_element_located((By.CLASS_NAME, 'pull-left')))\n",
    "    print (\"Hay boton\")\n",
    "    button = True\n",
    "except TimeoutException:\n",
    "    print (\"No hay boton\")\n",
    "    button = False"
   ]
  },
  {
   "cell_type": "code",
   "execution_count": 87,
   "metadata": {
    "collapsed": true
   },
   "outputs": [],
   "source": [
    "while button:\n",
    "    try:\n",
    "        #print('boton')\n",
    "        element = driver.find_element_by_class_name('content_numb_comment')\n",
    "        element.location_once_scrolled_into_view\n",
    "        #time.sleep(2)\n",
    "        driver.find_element_by_class_name(\"content_numb_comment\").click()\n",
    "        WebDriverWait(driver, 3).until(EC.presence_of_element_located((By.CLASS_NAME, 'gig-comments-more')))\n",
    "        button = False\n",
    "\n",
    "    except: \n",
    "        button = False"
   ]
  },
  {
   "cell_type": "code",
   "execution_count": 88,
   "metadata": {
    "collapsed": true
   },
   "outputs": [],
   "source": [
    "button = True\n",
    "while button:\n",
    "    try:\n",
    "        element = driver.find_element_by_class_name(\"gig-comments-more\")\n",
    "        element.location_once_scrolled_into_view\n",
    "        driver.find_element_by_class_name(\"gig-comments-more\").click()\n",
    "        time.sleep(0.5)\n",
    "        WebDriverWait(driver, 3).until(EC.presence_of_element_located((By.CLASS_NAME, 'gig-comments-more')))\n",
    "\n",
    "    except:\n",
    "        button = False"
   ]
  },
  {
   "cell_type": "code",
   "execution_count": 105,
   "metadata": {
    "collapsed": true
   },
   "outputs": [],
   "source": [
    "comentarios = []\n",
    "todo = driver.find_element_by_class_name(\"gig-comments-comments\")\n",
    "a= todo.find_elements_by_class_name(\"gig-comment\")\n",
    "for item in a:\n",
    "    comentarios.append({'texto': item.find_elements_by_class_name(\"gig-comment-body\")[0].text,\n",
    "    'usuario' : item.find_elements_by_class_name(\"gig-comment-username\")[0].text,\n",
    "    'likes' : item.find_elements_by_class_name(\"gig-comment-vote-pos\")[0].text,\n",
    "    'unLikes' :item.find_elements_by_class_name(\"gig-comment-vote-neg\")[0].text,\n",
    "    'fecha' : item.find_elements_by_class_name(\"gig-comment-time\")[0].text,\n",
    "    'respuestas' : len(item.find_elements_by_class_name('gig-comment-replies')) -1,\n",
    "    'es_respuesta': 'gig-comment-replies' in item.find_element_by_xpath('..').get_attribute('class'),\n",
    "    'nota_id': nota_id,\n",
    "    'nota_url': url\n",
    "    })"
   ]
  },
  {
   "cell_type": "code",
   "execution_count": null,
   "metadata": {
    "collapsed": true
   },
   "outputs": [],
   "source": []
  }
 ],
 "metadata": {
  "kernelspec": {
   "display_name": "Python 3",
   "language": "python",
   "name": "python3"
  },
  "language_info": {
   "codemirror_mode": {
    "name": "ipython",
    "version": 3
   },
   "file_extension": ".py",
   "mimetype": "text/x-python",
   "name": "python",
   "nbconvert_exporter": "python",
   "pygments_lexer": "ipython3",
   "version": "3.6.3"
  }
 },
 "nbformat": 4,
 "nbformat_minor": 2
}
