{
 "cells": [
  {
   "cell_type": "code",
   "execution_count": 63,
   "metadata": {},
   "outputs": [],
   "source": [
    "#Podría ser una tecnica de data aumentación traducir ida y vuelta"
   ]
  },
  {
   "cell_type": "code",
   "execution_count": 64,
   "metadata": {
    "collapsed": true
   },
   "outputs": [],
   "source": [
    "from googletrans import Translator\n",
    "translator = Translator()"
   ]
  },
  {
   "cell_type": "code",
   "execution_count": 65,
   "metadata": {
    "collapsed": true
   },
   "outputs": [],
   "source": [
    "import pandas as pd\n",
    "df = pd.read_csv('./data/commentarios_lanacion.csv', index_col = 0)"
   ]
  },
  {
   "cell_type": "code",
   "execution_count": 82,
   "metadata": {},
   "outputs": [
    {
     "data": {
      "text/plain": [
       "'Macri 2019/2023 - Vidal 2023/2031 No vuelven màs - Se afanaron todo '"
      ]
     },
     "execution_count": 82,
     "metadata": {},
     "output_type": "execute_result"
    }
   ],
   "source": [
    "texto =df.texto[10000]\n",
    "texto"
   ]
  },
  {
   "cell_type": "code",
   "execution_count": 83,
   "metadata": {},
   "outputs": [
    {
     "name": "stdout",
     "output_type": "stream",
     "text": [
      "Macri 2019/2023 - Vidal 2023/2031 Sie kommen nicht mehr zurück - Sie haben alles versucht\n",
      "Macri 2019/2023 - Vidal 2023/2031 No volverás, lo has intentado todo\n"
     ]
    }
   ],
   "source": [
    "traduccion = translator.translate(texto, dest='de').text\n",
    "print(traduccion)\n",
    "español = translator.translate(traduccion, dest='es').text\n",
    "print(español)"
   ]
  },
  {
   "cell_type": "code",
   "execution_count": 84,
   "metadata": {},
   "outputs": [
    {
     "name": "stdout",
     "output_type": "stream",
     "text": [
      "Macri 2019/2023 - Vidal 2023/2031 Eles não voltam mais - Eles tentaram de tudo\n",
      "Macri 2019/2023 - Vidal 2023/2031 No vuelven más - Trató de todo\n"
     ]
    }
   ],
   "source": [
    "traduccion = translator.translate(texto, dest='pt').text\n",
    "print(traduccion)\n",
    "español = translator.translate(traduccion, dest='es').text\n",
    "print(español)"
   ]
  },
  {
   "cell_type": "code",
   "execution_count": null,
   "metadata": {
    "collapsed": true
   },
   "outputs": [],
   "source": []
  },
  {
   "cell_type": "code",
   "execution_count": 21,
   "metadata": {},
   "outputs": [
    {
     "data": {
      "text/plain": [
       "'es'"
      ]
     },
     "execution_count": 21,
     "metadata": {},
     "output_type": "execute_result"
    }
   ],
   "source": [
    "translator.detect('hola').lang"
   ]
  }
 ],
 "metadata": {
  "kernelspec": {
   "display_name": "Python 3",
   "language": "python",
   "name": "python3"
  },
  "language_info": {
   "codemirror_mode": {
    "name": "ipython",
    "version": 3
   },
   "file_extension": ".py",
   "mimetype": "text/x-python",
   "name": "python",
   "nbconvert_exporter": "python",
   "pygments_lexer": "ipython3",
   "version": "3.6.3"
  }
 },
 "nbformat": 4,
 "nbformat_minor": 2
}
