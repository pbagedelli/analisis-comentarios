{
 "cells": [
  {
   "cell_type": "code",
   "execution_count": 1,
   "metadata": {
    "collapsed": true
   },
   "outputs": [],
   "source": [
    "#bajar un noticia y sus comentarios para hacer pruebas"
   ]
  },
  {
   "cell_type": "code",
   "execution_count": 2,
   "metadata": {
    "collapsed": true
   },
   "outputs": [],
   "source": [
    "#noticia"
   ]
  },
  {
   "cell_type": "code",
   "execution_count": 3,
   "metadata": {
    "collapsed": true
   },
   "outputs": [],
   "source": [
    "import requests\n",
    "import json\n",
    "from bs4 import BeautifulSoup"
   ]
  },
  {
   "cell_type": "code",
   "execution_count": 4,
   "metadata": {
    "collapsed": true
   },
   "outputs": [],
   "source": [
    "#url = 'https://www.lanacion.com.ar/2181393-la-relacion-entre-macri-y-vidal-un-vinculo-desgastado-por-la-crisis'\n",
    "url = 'https://www.lanacion.com.ar/2181492-hugo-moyano-pedido-detencion-hijo'"
   ]
  },
  {
   "cell_type": "code",
   "execution_count": 5,
   "metadata": {
    "collapsed": true
   },
   "outputs": [],
   "source": [
    "response =  requests.get(url)"
   ]
  },
  {
   "cell_type": "code",
   "execution_count": 6,
   "metadata": {
    "collapsed": true
   },
   "outputs": [],
   "source": [
    "html_soup = BeautifulSoup(response.text, 'html.parser')\n"
   ]
  },
  {
   "cell_type": "code",
   "execution_count": 7,
   "metadata": {
    "collapsed": true
   },
   "outputs": [],
   "source": [
    "titulo = html_soup.find_all('h1')[0].text"
   ]
  },
  {
   "cell_type": "code",
   "execution_count": 8,
   "metadata": {
    "collapsed": true
   },
   "outputs": [],
   "source": [
    "texto = \"\"\n",
    "for parrafo in html_soup.find_all(\"article\", {\"id\": \"nota\"})[0].find_all('p'):\n",
    "    texto +=  parrafo.text.replace('\\r\\n', '').strip().replace('\\n', '')"
   ]
  },
  {
   "cell_type": "code",
   "execution_count": 9,
   "metadata": {
    "collapsed": true
   },
   "outputs": [],
   "source": [
    "#import nltk\n",
    "#nltk.download('punkt')"
   ]
  },
  {
   "cell_type": "code",
   "execution_count": 10,
   "metadata": {},
   "outputs": [
    {
     "data": {
      "text/plain": [
       "14"
      ]
     },
     "execution_count": 10,
     "metadata": {},
     "output_type": "execute_result"
    }
   ],
   "source": [
    "from nltk.tokenize import sent_tokenize\n",
    "sent_tokenize_list = sent_tokenize(texto, language='spanish')\n",
    "len(sent_tokenize_list)"
   ]
  },
  {
   "cell_type": "code",
   "execution_count": 11,
   "metadata": {
    "collapsed": true
   },
   "outputs": [],
   "source": [
    "from sklearn.decomposition import NMF, LatentDirichletAllocation, TruncatedSVD\n",
    "from sklearn.feature_extraction.text import CountVectorizer"
   ]
  },
  {
   "cell_type": "code",
   "execution_count": 12,
   "metadata": {
    "collapsed": true
   },
   "outputs": [],
   "source": [
    "#nltk.download('stopwords')"
   ]
  },
  {
   "cell_type": "code",
   "execution_count": 13,
   "metadata": {
    "collapsed": true
   },
   "outputs": [],
   "source": [
    "from nltk.corpus import stopwords"
   ]
  },
  {
   "cell_type": "code",
   "execution_count": 14,
   "metadata": {
    "collapsed": true
   },
   "outputs": [],
   "source": [
    "from nltk.stem.snowball import SnowballStemmer\n",
    "stemmer = SnowballStemmer(language = 'spanish')"
   ]
  },
  {
   "cell_type": "code",
   "execution_count": 15,
   "metadata": {
    "collapsed": true
   },
   "outputs": [],
   "source": [
    "vectorizer = CountVectorizer(min_df=2, max_df=0.9, \n",
    "                             stop_words=stopwords.words('spanish'), lowercase=True, strip_accents='unicode', \n",
    "                             preprocessor= stemmer.stem)\n",
    "data_vectorized = vectorizer.fit_transform(sent_tokenize_list)"
   ]
  },
  {
   "cell_type": "code",
   "execution_count": 16,
   "metadata": {},
   "outputs": [
    {
     "data": {
      "text/plain": [
       "{'adelante': 0,\n",
       " 'ahora': 1,\n",
       " 'asociacion': 2,\n",
       " 'atencion': 3,\n",
       " 'barrabravas': 4,\n",
       " 'camioneros': 5,\n",
       " 'club': 6,\n",
       " 'contesto': 7,\n",
       " 'cosas': 8,\n",
       " 'detencion': 9,\n",
       " 'dialogo': 10,\n",
       " 'dijo': 11,\n",
       " 'dirigentes': 12,\n",
       " 'disparatado': 13,\n",
       " 'disparate': 14,\n",
       " 'distraer': 15,\n",
       " 'entienden': 16,\n",
       " 'fiscal': 17,\n",
       " 'frigerio': 18,\n",
       " 'general': 19,\n",
       " 'gente': 20,\n",
       " 'gobierno': 21,\n",
       " 'hoy': 22,\n",
       " 'hugo': 23,\n",
       " 'iguales': 24,\n",
       " 'ilicita': 25,\n",
       " 'imputado': 26,\n",
       " 'independiente': 27,\n",
       " 'insistio': 28,\n",
       " 'integrar': 29,\n",
       " 'interior': 30,\n",
       " 'junto': 31,\n",
       " 'justicia': 32,\n",
       " 'ley': 33,\n",
       " 'lleva': 34,\n",
       " 'lomas': 35,\n",
       " 'ministro': 36,\n",
       " 'mitre': 37,\n",
       " 'moyano': 38,\n",
       " 'pablo': 39,\n",
       " 'pedido': 40,\n",
       " 'radio': 41,\n",
       " 'rogelio': 42,\n",
       " 'secretario': 43,\n",
       " 'si': 44,\n",
       " 'sindicato': 45,\n",
       " 'tambien': 46,\n",
       " 'tan': 47,\n",
       " 'todas': 48,\n",
       " 'todavia': 49,\n",
       " 'zamora': 50}"
      ]
     },
     "execution_count": 16,
     "metadata": {},
     "output_type": "execute_result"
    }
   ],
   "source": [
    "vectorizer.vocabulary_"
   ]
  },
  {
   "cell_type": "code",
   "execution_count": 17,
   "metadata": {
    "collapsed": true
   },
   "outputs": [],
   "source": [
    "lda_model = LatentDirichletAllocation(n_components=3, max_iter=10, learning_method='online')\n",
    "lda_Z = lda_model.fit_transform(data_vectorized)"
   ]
  },
  {
   "cell_type": "code",
   "execution_count": 18,
   "metadata": {},
   "outputs": [
    {
     "name": "stderr",
     "output_type": "stream",
     "text": [
      "C:\\Users\\p_bag\\Anaconda3\\lib\\site-packages\\pyLDAvis\\_prepare.py:257: FutureWarning: Sorting because non-concatenation axis is not aligned. A future version\n",
      "of pandas will change to not sort by default.\n",
      "\n",
      "To accept the future behavior, pass 'sort=False'.\n",
      "\n",
      "To retain the current behavior and silence the warning, pass 'sort=True'.\n",
      "\n",
      "  return pd.concat([default_term_info] + list(topic_dfs))\n"
     ]
    },
    {
     "data": {
      "text/html": [
       "\n",
       "<link rel=\"stylesheet\" type=\"text/css\" href=\"https://cdn.rawgit.com/bmabey/pyLDAvis/files/ldavis.v1.0.0.css\">\n",
       "\n",
       "\n",
       "<div id=\"ldavis_el867220248836803846199279086\"></div>\n",
       "<script type=\"text/javascript\">\n",
       "\n",
       "var ldavis_el867220248836803846199279086_data = {\"mdsDat\": {\"x\": [-372.1424560546875, -437.7695617675781, -620.1272583007812], \"y\": [-195.24327087402344, -443.70355224609375, -262.63836669921875], \"topics\": [1, 2, 3], \"cluster\": [1, 1, 1], \"Freq\": [44.627857910211844, 44.32927499269884, 11.042867097089312]}, \"tinfo\": {\"Category\": [\"Default\", \"Default\", \"Default\", \"Default\", \"Default\", \"Default\", \"Default\", \"Default\", \"Default\", \"Default\", \"Default\", \"Default\", \"Default\", \"Default\", \"Default\", \"Default\", \"Default\", \"Default\", \"Default\", \"Default\", \"Default\", \"Default\", \"Default\", \"Default\", \"Default\", \"Default\", \"Default\", \"Default\", \"Default\", \"Default\", \"Topic1\", \"Topic1\", \"Topic1\", \"Topic1\", \"Topic1\", \"Topic1\", \"Topic1\", \"Topic1\", \"Topic1\", \"Topic1\", \"Topic1\", \"Topic1\", \"Topic1\", \"Topic1\", \"Topic1\", \"Topic1\", \"Topic1\", \"Topic1\", \"Topic1\", \"Topic1\", \"Topic1\", \"Topic1\", \"Topic1\", \"Topic1\", \"Topic1\", \"Topic1\", \"Topic1\", \"Topic1\", \"Topic1\", \"Topic1\", \"Topic2\", \"Topic2\", \"Topic2\", \"Topic2\", \"Topic2\", \"Topic2\", \"Topic2\", \"Topic2\", \"Topic2\", \"Topic2\", \"Topic2\", \"Topic2\", \"Topic2\", \"Topic2\", \"Topic2\", \"Topic2\", \"Topic2\", \"Topic2\", \"Topic2\", \"Topic2\", \"Topic2\", \"Topic2\", \"Topic2\", \"Topic2\", \"Topic2\", \"Topic2\", \"Topic2\", \"Topic2\", \"Topic2\", \"Topic2\", \"Topic2\", \"Topic3\", \"Topic3\", \"Topic3\", \"Topic3\", \"Topic3\", \"Topic3\", \"Topic3\", \"Topic3\", \"Topic3\", \"Topic3\", \"Topic3\", \"Topic3\", \"Topic3\", \"Topic3\", \"Topic3\", \"Topic3\", \"Topic3\", \"Topic3\", \"Topic3\", \"Topic3\", \"Topic3\", \"Topic3\", \"Topic3\", \"Topic3\", \"Topic3\", \"Topic3\", \"Topic3\", \"Topic3\", \"Topic3\", \"Topic3\", \"Topic3\", \"Topic3\", \"Topic3\", \"Topic3\", \"Topic3\", \"Topic3\", \"Topic3\", \"Topic3\", \"Topic3\"], \"Freq\": [2.0, 1.0, 2.0, 1.0, 1.0, 1.0, 1.0, 1.0, 1.0, 4.0, 3.0, 4.0, 2.0, 2.0, 2.0, 2.0, 2.0, 2.0, 2.0, 2.0, 2.0, 2.0, 2.0, 2.0, 2.0, 2.0, 2.0, 2.0, 2.0, 2.0, 2.3377940502229926, 2.2930534340472266, 2.3134763443863084, 1.7263779890359146, 1.7164409880096436, 1.731220106580638, 1.7068621185770654, 1.740225014812211, 1.7211086395757422, 1.7273405944185036, 1.7221051398248857, 2.110831701385281, 1.632187749446631, 1.7478836802372744, 1.7601921395908957, 1.7583284213716628, 1.7296276029027953, 1.7089618983087518, 1.0684096787526722, 1.0655313046253052, 1.0462527179860532, 1.040780954150377, 1.0403175806472906, 3.7438042359587103, 2.3364825566155694, 1.7373805865093623, 1.070545859049748, 1.07122108320334, 1.0272029684679225, 1.6915843725311503, 3.4815734611890847, 2.3221349033677923, 2.3109313275066907, 1.6748962116972712, 1.6530235265774953, 1.6828702614934732, 1.6717802777400135, 1.6671929122849616, 1.7230147864151009, 1.6713330086760847, 1.6776959443200397, 1.6348368773756963, 1.6430913775726848, 1.6222881067986095, 1.6918039766090973, 1.666883164008354, 1.6485521093519084, 1.6430878604610275, 1.0289560045126132, 1.0531864325918456, 1.0054420695204571, 1.6461700351840474, 1.0309233350140794, 1.0234443925117018, 1.0153657029839303, 1.6760072430262585, 2.968624476915934, 1.7654529427323522, 1.002898736876139, 0.995291099703274, 0.9978053104641624, 0.5789813034350946, 0.5639494822836552, 0.5721577598358933, 0.5746101416590621, 0.5576947424320465, 0.5494879085062478, 0.5533379411216788, 0.5520781863561331, 0.5566817624061827, 0.5596275496180727, 0.5594497501530175, 0.22071894152726584, 0.2158536864771147, 0.21493100355897377, 0.2147285475865433, 0.20517567849087726, 0.21435112698885153, 0.20277000410421292, 0.20845646283907315, 0.2119934877028988, 0.20493536072897564, 0.2027076529576914, 0.20568784241077384, 0.19758175875611714, 0.2022537648614764, 0.20771698796989485, 0.1998907396321071, 0.19987026463198682, 0.19786241739983498, 0.19961796797058032, 0.5536521066991282, 0.20117494580802875, 0.2164663454442506, 0.21685552708806657, 0.21144833582750558, 0.20911499120931681, 0.20862436089972516, 0.20391321454626687, 0.20432761492211798], \"Term\": [\"pedido\", \"imputado\", \"dialogo\", \"tambien\", \"radio\", \"mitre\", \"detencion\", \"lomas\", \"zamora\", \"justicia\", \"hugo\", \"gobierno\", \"ley\", \"iguales\", \"si\", \"gente\", \"distraer\", \"junto\", \"tan\", \"club\", \"todas\", \"ahora\", \"secretario\", \"dirigentes\", \"cosas\", \"general\", \"lleva\", \"insistio\", \"sindicato\", \"ministro\", \"si\", \"gente\", \"distraer\", \"sindicato\", \"general\", \"dirigentes\", \"club\", \"junto\", \"integrar\", \"secretario\", \"barrabravas\", \"disparate\", \"atencion\", \"pedido\", \"camioneros\", \"asociacion\", \"ilicita\", \"independiente\", \"detencion\", \"lomas\", \"zamora\", \"imputado\", \"tambien\", \"moyano\", \"gobierno\", \"pablo\", \"hoy\", \"contesto\", \"fiscal\", \"hugo\", \"justicia\", \"ley\", \"iguales\", \"ministro\", \"lleva\", \"insistio\", \"cosas\", \"interior\", \"tan\", \"todavia\", \"adelante\", \"disparatado\", \"rogelio\", \"entienden\", \"frigerio\", \"ahora\", \"todas\", \"dijo\", \"mitre\", \"dialogo\", \"radio\", \"pablo\", \"fiscal\", \"hoy\", \"contesto\", \"hugo\", \"moyano\", \"gobierno\", \"independiente\", \"ilicita\", \"asociacion\", \"imputado\", \"radio\", \"tambien\", \"dialogo\", \"mitre\", \"zamora\", \"detencion\", \"lomas\", \"pedido\", \"hugo\", \"gobierno\", \"todas\", \"ahora\", \"contesto\", \"tan\", \"disparatado\", \"junto\", \"entienden\", \"club\", \"secretario\", \"dijo\", \"cosas\", \"hoy\", \"lleva\", \"adelante\", \"atencion\", \"fiscal\", \"todavia\", \"rogelio\", \"insistio\", \"moyano\", \"dirigentes\", \"independiente\", \"disparate\", \"gente\", \"camioneros\", \"si\", \"ilicita\", \"pablo\"], \"Total\": [2.0, 1.0, 2.0, 1.0, 1.0, 1.0, 1.0, 1.0, 1.0, 4.0, 3.0, 4.0, 2.0, 2.0, 2.0, 2.0, 2.0, 2.0, 2.0, 2.0, 2.0, 2.0, 2.0, 2.0, 2.0, 2.0, 2.0, 2.0, 2.0, 2.0, 2.987720070566706, 2.94238664590303, 2.9714906776771164, 2.2632212612020255, 2.2725483335190195, 2.3063831013935396, 2.2779480108260968, 2.332974354580878, 2.3170095700584685, 2.3378372980941595, 2.336060773575669, 2.9754878595206047, 2.340104271155297, 2.667130891519712, 2.9092422679518264, 2.960042642979391, 2.928831917152336, 2.9283269806291417, 1.9806644767076222, 1.9770983778352398, 1.9658895025471217, 1.9888261299044054, 1.995446971978761, 7.266080819573772, 4.661385249500939, 3.5878782366155275, 2.2996780939722234, 2.301517789746244, 2.258017043114109, 3.9272191651754813, 4.166209128339189, 2.9040772199552616, 2.9073910684219744, 2.2384174969881814, 2.213959528907966, 2.263104670330321, 2.248255104568828, 2.2445900993174233, 2.3261677290895793, 2.2578283431436432, 2.2685750441331267, 2.2262942772134946, 2.2390056136040006, 2.2113280661532277, 2.3062427212448244, 2.2738894132095164, 2.264716059727684, 2.271152798821317, 1.960336257443176, 2.006551174791131, 1.9374593996196925, 3.5878782366155275, 2.258017043114109, 2.2996780939722234, 2.301517789746244, 3.9272191651754813, 7.266080819573772, 4.661385249500939, 2.9283269806291417, 2.928831917152336, 2.960042642979391, 1.9888261299044054, 1.9374593996196925, 1.995446971978761, 2.006551174791131, 1.960336257443176, 1.9658895025471217, 1.9806644767076222, 1.9770983778352398, 2.667130891519712, 3.9272191651754813, 4.661385249500939, 2.264716059727684, 2.2738894132095164, 2.301517789746244, 2.3261677290895793, 2.2262942772134946, 2.332974354580878, 2.2113280661532277, 2.2779480108260968, 2.3378372980941595, 2.271152798821317, 2.248255104568828, 2.2996780939722234, 2.213959528907966, 2.2685750441331267, 2.340104271155297, 2.258017043114109, 2.2578283431436432, 2.2390056136040006, 2.263104670330321, 7.266080819573772, 2.3063831013935396, 2.9283269806291417, 2.9754878595206047, 2.94238664590303, 2.9092422679518264, 2.987720070566706, 2.928831917152336, 3.5878782366155275], \"loglift\": [30.0, 29.0, 28.0, 27.0, 26.0, 25.0, 24.0, 23.0, 22.0, 21.0, 20.0, 19.0, 18.0, 17.0, 16.0, 15.0, 14.0, 13.0, 12.0, 11.0, 10.0, 9.0, 8.0, 7.0, 6.0, 5.0, 4.0, 3.0, 2.0, 1.0, 0.5615, 0.5575, 0.5565, 0.536, 0.5262, 0.52, 0.5182, 0.5137, 0.5095, 0.5042, 0.5019, 0.4635, 0.4465, 0.3842, 0.3043, 0.286, 0.2801, 0.2683, 0.1896, 0.1887, 0.1761, 0.1592, 0.1555, 0.1437, 0.1161, 0.0816, 0.0422, 0.042, 0.0192, -0.0355, 0.634, 0.5899, 0.5839, 0.5235, 0.5213, 0.5173, 0.5173, 0.5161, 0.5134, 0.5127, 0.5118, 0.5047, 0.5041, 0.5038, 0.5037, 0.503, 0.496, 0.4898, 0.169, 0.1689, 0.1576, 0.0344, 0.0295, 0.0039, -0.0048, -0.038, -0.0816, -0.1574, -0.258, -0.2658, -0.2739, 0.9694, 0.9692, 0.9542, 0.9529, 0.9463, 0.9287, 0.9282, 0.9277, 0.6366, 0.255, 0.0833, -0.1249, -0.1513, -0.1676, -0.1792, -0.1808, -0.1839, -0.1859, -0.1879, -0.197, -0.202, -0.2028, -0.2108, -0.213, -0.214, -0.2184, -0.2211, -0.2211, -0.2228, -0.2247, -0.3711, -0.2359, -0.4014, -0.4155, -0.4296, -0.4294, -0.4583, -0.4613, -0.6622], \"logprob\": [30.0, 29.0, 28.0, 27.0, 26.0, 25.0, 24.0, 23.0, 22.0, 21.0, 20.0, 19.0, 18.0, 17.0, 16.0, 15.0, 14.0, 13.0, 12.0, 11.0, 10.0, 9.0, 8.0, 7.0, 6.0, 5.0, 4.0, 3.0, 2.0, 1.0, -3.2343, -3.2537, -3.2448, -3.5375, -3.5433, -3.5347, -3.5489, -3.5295, -3.5406, -3.537, -3.54, -3.3365, -3.5936, -3.5251, -3.5181, -3.5192, -3.5356, -3.5477, -4.0174, -4.0201, -4.0383, -4.0436, -4.044, -2.7634, -3.2349, -3.5312, -4.0154, -4.0147, -4.0567, -3.5579, -2.8293, -3.2343, -3.2392, -3.5611, -3.5742, -3.5563, -3.5629, -3.5657, -3.5327, -3.5632, -3.5594, -3.5853, -3.5802, -3.593, -3.551, -3.5659, -3.5769, -3.5802, -4.0483, -4.025, -4.0714, -3.5784, -4.0464, -4.0537, -4.0616, -3.5604, -2.9887, -3.5084, -4.0739, -4.0815, -4.079, -3.2334, -3.2598, -3.2453, -3.241, -3.2709, -3.2857, -3.2788, -3.281, -3.2727, -3.2674, -3.2678, -4.1978, -4.2201, -4.2244, -4.2253, -4.2709, -4.2271, -4.2826, -4.255, -4.2382, -4.272, -4.283, -4.2684, -4.3086, -4.2852, -4.2585, -4.2969, -4.2971, -4.3071, -4.2983, -3.2782, -4.2905, -4.2173, -4.2155, -4.2407, -4.2518, -4.2542, -4.277, -4.275]}, \"token.table\": {\"Topic\": [2, 2, 1, 2, 1, 2, 1, 1, 2, 1, 1, 2, 2, 1, 3, 2, 3, 2, 1, 2, 1, 2, 1, 2, 1, 2, 2, 1, 1, 1, 2, 3, 1, 2, 1, 2, 3, 2, 1, 2, 1, 3, 1, 2, 2, 1, 2, 1, 2, 2, 2, 1, 3, 2, 2, 3, 1, 2, 3, 1, 2, 1, 3, 2, 3, 2, 1, 1, 1, 1, 3, 2, 2, 2, 1, 3], \"Freq\": [0.8816106856029727, 0.8795502491816737, 0.6756659417537738, 0.3378329708768869, 0.8546627706519294, 0.4273313853259647, 0.856142110095329, 0.6874642315052181, 0.34373211575260904, 0.877983163134044, 0.43449588113340454, 0.43449588113340454, 0.889578765299217, 0.5048810698429141, 0.5048810698429141, 0.49836755352332024, 0.49836755352332024, 0.8806100589260045, 0.8671586254649456, 0.8983538342034764, 0.672158682684805, 0.3360793413424025, 0.6730628552950557, 0.9044338696786638, 0.44286645357683646, 0.44286645357683646, 0.8672114090924801, 0.8800692907169191, 0.6797203225431959, 0.42905700622237253, 0.42905700622237253, 0.21452850311118626, 0.4348434690147022, 0.4348434690147022, 0.5092662048848586, 0.5092662048848586, 0.2546331024424293, 0.6879019550285428, 0.6828660901594426, 0.3414330450797213, 0.5028091621302592, 0.5028091621302592, 0.6829838379491031, 0.34149191897455156, 0.883741713858989, 0.8631815879593157, 0.8910312847803246, 0.8572747471796802, 0.7200790713057448, 0.6886869213590714, 0.9033588798194964, 0.5057917254956821, 0.5057917254956821, 0.8934883696589331, 0.5101165660753928, 0.5101165660753928, 0.5505030977944227, 0.4128773233458171, 0.1376257744486057, 0.5574325180797147, 0.5574325180797147, 0.7498694594851377, 0.37493472974256886, 0.5161398479866427, 0.5161398479866427, 0.8932536782615356, 0.8554915269896799, 0.6694067559082411, 0.8836961875030171, 0.5011408541758251, 0.5011408541758251, 0.8597832284358808, 0.8831129144906958, 0.8858069330529083, 0.5086755886861094, 0.5086755886861094], \"Term\": [\"adelante\", \"ahora\", \"asociacion\", \"asociacion\", \"atencion\", \"atencion\", \"barrabravas\", \"camioneros\", \"camioneros\", \"club\", \"contesto\", \"contesto\", \"cosas\", \"detencion\", \"detencion\", \"dialogo\", \"dialogo\", \"dijo\", \"dirigentes\", \"disparatado\", \"disparate\", \"disparate\", \"distraer\", \"entienden\", \"fiscal\", \"fiscal\", \"frigerio\", \"general\", \"gente\", \"gobierno\", \"gobierno\", \"gobierno\", \"hoy\", \"hoy\", \"hugo\", \"hugo\", \"hugo\", \"iguales\", \"ilicita\", \"ilicita\", \"imputado\", \"imputado\", \"independiente\", \"independiente\", \"insistio\", \"integrar\", \"interior\", \"junto\", \"justicia\", \"ley\", \"lleva\", \"lomas\", \"lomas\", \"ministro\", \"mitre\", \"mitre\", \"moyano\", \"moyano\", \"moyano\", \"pablo\", \"pablo\", \"pedido\", \"pedido\", \"radio\", \"radio\", \"rogelio\", \"secretario\", \"si\", \"sindicato\", \"tambien\", \"tambien\", \"tan\", \"todas\", \"todavia\", \"zamora\", \"zamora\"]}, \"R\": 30, \"lambda.step\": 0.01, \"plot.opts\": {\"xlab\": \"PC1\", \"ylab\": \"PC2\"}, \"topic.order\": [3, 2, 1]};\n",
       "\n",
       "function LDAvis_load_lib(url, callback){\n",
       "  var s = document.createElement('script');\n",
       "  s.src = url;\n",
       "  s.async = true;\n",
       "  s.onreadystatechange = s.onload = callback;\n",
       "  s.onerror = function(){console.warn(\"failed to load library \" + url);};\n",
       "  document.getElementsByTagName(\"head\")[0].appendChild(s);\n",
       "}\n",
       "\n",
       "if(typeof(LDAvis) !== \"undefined\"){\n",
       "   // already loaded: just create the visualization\n",
       "   !function(LDAvis){\n",
       "       new LDAvis(\"#\" + \"ldavis_el867220248836803846199279086\", ldavis_el867220248836803846199279086_data);\n",
       "   }(LDAvis);\n",
       "}else if(typeof define === \"function\" && define.amd){\n",
       "   // require.js is available: use it to load d3/LDAvis\n",
       "   require.config({paths: {d3: \"https://cdnjs.cloudflare.com/ajax/libs/d3/3.5.5/d3.min\"}});\n",
       "   require([\"d3\"], function(d3){\n",
       "      window.d3 = d3;\n",
       "      LDAvis_load_lib(\"https://cdn.rawgit.com/bmabey/pyLDAvis/files/ldavis.v1.0.0.js\", function(){\n",
       "        new LDAvis(\"#\" + \"ldavis_el867220248836803846199279086\", ldavis_el867220248836803846199279086_data);\n",
       "      });\n",
       "    });\n",
       "}else{\n",
       "    // require.js not available: dynamically load d3 & LDAvis\n",
       "    LDAvis_load_lib(\"https://cdnjs.cloudflare.com/ajax/libs/d3/3.5.5/d3.min.js\", function(){\n",
       "         LDAvis_load_lib(\"https://cdn.rawgit.com/bmabey/pyLDAvis/files/ldavis.v1.0.0.js\", function(){\n",
       "                 new LDAvis(\"#\" + \"ldavis_el867220248836803846199279086\", ldavis_el867220248836803846199279086_data);\n",
       "            })\n",
       "         });\n",
       "}\n",
       "</script>"
      ],
      "text/plain": [
       "PreparedData(topic_coordinates=                x           y  topics  cluster       Freq\n",
       "topic                                                    \n",
       "2     -372.142456 -195.243271       1        1  44.627858\n",
       "1     -437.769562 -443.703552       2        1  44.329275\n",
       "0     -620.127258 -262.638367       3        1  11.042867, topic_info=     Category      Freq           Term     Total  loglift  logprob\n",
       "term                                                              \n",
       "40    Default  2.000000         pedido  2.000000  30.0000  30.0000\n",
       "26    Default  1.000000       imputado  1.000000  29.0000  29.0000\n",
       "10    Default  2.000000        dialogo  2.000000  28.0000  28.0000\n",
       "46    Default  1.000000        tambien  1.000000  27.0000  27.0000\n",
       "41    Default  1.000000          radio  1.000000  26.0000  26.0000\n",
       "37    Default  1.000000          mitre  1.000000  25.0000  25.0000\n",
       "9     Default  1.000000      detencion  1.000000  24.0000  24.0000\n",
       "35    Default  1.000000          lomas  1.000000  23.0000  23.0000\n",
       "50    Default  1.000000         zamora  1.000000  22.0000  22.0000\n",
       "32    Default  4.000000       justicia  4.000000  21.0000  21.0000\n",
       "23    Default  3.000000           hugo  3.000000  20.0000  20.0000\n",
       "21    Default  4.000000       gobierno  4.000000  19.0000  19.0000\n",
       "33    Default  2.000000            ley  2.000000  18.0000  18.0000\n",
       "24    Default  2.000000        iguales  2.000000  17.0000  17.0000\n",
       "44    Default  2.000000             si  2.000000  16.0000  16.0000\n",
       "20    Default  2.000000          gente  2.000000  15.0000  15.0000\n",
       "15    Default  2.000000       distraer  2.000000  14.0000  14.0000\n",
       "31    Default  2.000000          junto  2.000000  13.0000  13.0000\n",
       "47    Default  2.000000            tan  2.000000  12.0000  12.0000\n",
       "6     Default  2.000000           club  2.000000  11.0000  11.0000\n",
       "48    Default  2.000000          todas  2.000000  10.0000  10.0000\n",
       "1     Default  2.000000          ahora  2.000000   9.0000   9.0000\n",
       "43    Default  2.000000     secretario  2.000000   8.0000   8.0000\n",
       "12    Default  2.000000     dirigentes  2.000000   7.0000   7.0000\n",
       "8     Default  2.000000          cosas  2.000000   6.0000   6.0000\n",
       "19    Default  2.000000        general  2.000000   5.0000   5.0000\n",
       "34    Default  2.000000          lleva  2.000000   4.0000   4.0000\n",
       "28    Default  2.000000       insistio  2.000000   3.0000   3.0000\n",
       "45    Default  2.000000      sindicato  2.000000   2.0000   2.0000\n",
       "36    Default  2.000000       ministro  2.000000   1.0000   1.0000\n",
       "...       ...       ...            ...       ...      ...      ...\n",
       "23     Topic3  0.559628           hugo  3.927219   0.2550  -3.2674\n",
       "21     Topic3  0.559450       gobierno  4.661385   0.0833  -3.2678\n",
       "48     Topic3  0.220719          todas  2.264716  -0.1249  -4.1978\n",
       "1      Topic3  0.215854          ahora  2.273889  -0.1513  -4.2201\n",
       "7      Topic3  0.214931       contesto  2.301518  -0.1676  -4.2244\n",
       "47     Topic3  0.214729            tan  2.326168  -0.1792  -4.2253\n",
       "13     Topic3  0.205176    disparatado  2.226294  -0.1808  -4.2709\n",
       "31     Topic3  0.214351          junto  2.332974  -0.1839  -4.2271\n",
       "16     Topic3  0.202770      entienden  2.211328  -0.1859  -4.2826\n",
       "6      Topic3  0.208456           club  2.277948  -0.1879  -4.2550\n",
       "43     Topic3  0.211993     secretario  2.337837  -0.1970  -4.2382\n",
       "11     Topic3  0.204935           dijo  2.271153  -0.2020  -4.2720\n",
       "8      Topic3  0.202708          cosas  2.248255  -0.2028  -4.2830\n",
       "22     Topic3  0.205688            hoy  2.299678  -0.2108  -4.2684\n",
       "34     Topic3  0.197582          lleva  2.213960  -0.2130  -4.3086\n",
       "0      Topic3  0.202254       adelante  2.268575  -0.2140  -4.2852\n",
       "3      Topic3  0.207717       atencion  2.340104  -0.2184  -4.2585\n",
       "17     Topic3  0.199891         fiscal  2.258017  -0.2211  -4.2969\n",
       "49     Topic3  0.199870        todavia  2.257828  -0.2211  -4.2971\n",
       "42     Topic3  0.197862        rogelio  2.239006  -0.2228  -4.3071\n",
       "28     Topic3  0.199618       insistio  2.263105  -0.2247  -4.2983\n",
       "38     Topic3  0.553652         moyano  7.266081  -0.3711  -3.2782\n",
       "12     Topic3  0.201175     dirigentes  2.306383  -0.2359  -4.2905\n",
       "27     Topic3  0.216466  independiente  2.928327  -0.4014  -4.2173\n",
       "14     Topic3  0.216856      disparate  2.975488  -0.4155  -4.2155\n",
       "20     Topic3  0.211448          gente  2.942387  -0.4296  -4.2407\n",
       "5      Topic3  0.209115     camioneros  2.909242  -0.4294  -4.2518\n",
       "44     Topic3  0.208624             si  2.987720  -0.4583  -4.2542\n",
       "25     Topic3  0.203913        ilicita  2.928832  -0.4613  -4.2770\n",
       "39     Topic3  0.204328          pablo  3.587878  -0.6622  -4.2750\n",
       "\n",
       "[130 rows x 6 columns], token_table=      Topic      Freq         Term\n",
       "term                              \n",
       "0         2  0.881611     adelante\n",
       "1         2  0.879550        ahora\n",
       "2         1  0.675666   asociacion\n",
       "2         2  0.337833   asociacion\n",
       "3         1  0.854663     atencion\n",
       "3         2  0.427331     atencion\n",
       "4         1  0.856142  barrabravas\n",
       "5         1  0.687464   camioneros\n",
       "5         2  0.343732   camioneros\n",
       "6         1  0.877983         club\n",
       "7         1  0.434496     contesto\n",
       "7         2  0.434496     contesto\n",
       "8         2  0.889579        cosas\n",
       "9         1  0.504881    detencion\n",
       "9         3  0.504881    detencion\n",
       "10        2  0.498368      dialogo\n",
       "10        3  0.498368      dialogo\n",
       "11        2  0.880610         dijo\n",
       "12        1  0.867159   dirigentes\n",
       "13        2  0.898354  disparatado\n",
       "14        1  0.672159    disparate\n",
       "14        2  0.336079    disparate\n",
       "15        1  0.673063     distraer\n",
       "16        2  0.904434    entienden\n",
       "17        1  0.442866       fiscal\n",
       "17        2  0.442866       fiscal\n",
       "18        2  0.867211     frigerio\n",
       "19        1  0.880069      general\n",
       "20        1  0.679720        gente\n",
       "21        1  0.429057     gobierno\n",
       "...     ...       ...          ...\n",
       "30        2  0.891031     interior\n",
       "31        1  0.857275        junto\n",
       "32        2  0.720079     justicia\n",
       "33        2  0.688687          ley\n",
       "34        2  0.903359        lleva\n",
       "35        1  0.505792        lomas\n",
       "35        3  0.505792        lomas\n",
       "36        2  0.893488     ministro\n",
       "37        2  0.510117        mitre\n",
       "37        3  0.510117        mitre\n",
       "38        1  0.550503       moyano\n",
       "38        2  0.412877       moyano\n",
       "38        3  0.137626       moyano\n",
       "39        1  0.557433        pablo\n",
       "39        2  0.557433        pablo\n",
       "40        1  0.749869       pedido\n",
       "40        3  0.374935       pedido\n",
       "41        2  0.516140        radio\n",
       "41        3  0.516140        radio\n",
       "42        2  0.893254      rogelio\n",
       "43        1  0.855492   secretario\n",
       "44        1  0.669407           si\n",
       "45        1  0.883696    sindicato\n",
       "46        1  0.501141      tambien\n",
       "46        3  0.501141      tambien\n",
       "47        2  0.859783          tan\n",
       "48        2  0.883113        todas\n",
       "49        2  0.885807      todavia\n",
       "50        1  0.508676       zamora\n",
       "50        3  0.508676       zamora\n",
       "\n",
       "[76 rows x 3 columns], R=30, lambda_step=0.01, plot_opts={'xlab': 'PC1', 'ylab': 'PC2'}, topic_order=[3, 2, 1])"
      ]
     },
     "execution_count": 18,
     "metadata": {},
     "output_type": "execute_result"
    }
   ],
   "source": [
    "import pyLDAvis.sklearn\n",
    " \n",
    "pyLDAvis.enable_notebook()\n",
    "panel = pyLDAvis.sklearn.prepare(lda_model, data_vectorized, vectorizer, mds='tsne')\n",
    "panel"
   ]
  },
  {
   "cell_type": "code",
   "execution_count": 19,
   "metadata": {
    "collapsed": true
   },
   "outputs": [],
   "source": [
    "import pandas as pd\n",
    "df = pd.read_csv('./data/hugo-moyano-pedido-detencion-hijo.csv', index_col= 0).dropna()"
   ]
  },
  {
   "cell_type": "code",
   "execution_count": 20,
   "metadata": {},
   "outputs": [
    {
     "name": "stdout",
     "output_type": "stream",
     "text": [
      "Si este pais no saca a los gremios sea el que este como presidente jamas saldra Adelante no puede ser que en las ultimas 7 decadas existe el poder presidencial y el sindicalista y para peor la CGT esto solo ocurre en este pais y no en uno normal.\n",
      "[0.11597704 0.44052439 0.44349857] 1.0\n"
     ]
    }
   ],
   "source": [
    "text = df.iloc[25].comments\n",
    "print(text)\n",
    "x = lda_model.transform(vectorizer.transform([text]))[0]\n",
    "print(x, x.sum())\n",
    "#distribución uniforme no comparte ninguna palabra, habría que ver si hay un topic minoritario también"
   ]
  },
  {
   "cell_type": "code",
   "execution_count": 21,
   "metadata": {
    "collapsed": true
   },
   "outputs": [],
   "source": [
    "#pruebas sobre comentarios"
   ]
  },
  {
   "cell_type": "code",
   "execution_count": 22,
   "metadata": {
    "collapsed": true
   },
   "outputs": [],
   "source": [
    "vectorizer = CountVectorizer(min_df=0.03, max_df=0.9, \n",
    "                             stop_words=stopwords.words('spanish'), lowercase=True, strip_accents='unicode', \n",
    "                             preprocessor= stemmer.stem)\n",
    "data_vectorized = vectorizer.fit_transform(df.comments)"
   ]
  },
  {
   "cell_type": "code",
   "execution_count": 23,
   "metadata": {
    "collapsed": true
   },
   "outputs": [],
   "source": [
    "# from sklearn.feature_extraction.text import TfidfVectorizer\n",
    "# vectorizer = TfidfVectorizer(min_df= 7,stop_words=stopwords.words('spanish'), lowercase=True, strip_accents='unicode')\n",
    "# data_vectorized = vectorizer.fit_transform(df.comments)"
   ]
  },
  {
   "cell_type": "code",
   "execution_count": 24,
   "metadata": {},
   "outputs": [
    {
     "data": {
      "text/plain": [
       "vos             25\n",
       "van             24\n",
       "susana87        23\n",
       "solo            22\n",
       "si              21\n",
       "ser             20\n",
       "poder           19\n",
       "moyano          18\n",
       "mismo           17\n",
       "merc1708        16\n",
       "mejor           15\n",
       "mas             14\n",
       "mafiosos        13\n",
       "macri           12\n",
       "ley             11\n",
       "justicia        10\n",
       "just4justice     9\n",
       "hace             8\n",
       "guli1911         7\n",
       "gracias          6\n",
       "gobierno         5\n",
       "fper7709         4\n",
       "estan            3\n",
       "disparate        2\n",
       "años             1\n",
       "ahora            0\n",
       "dtype: int64"
      ]
     },
     "execution_count": 24,
     "metadata": {},
     "output_type": "execute_result"
    }
   ],
   "source": [
    "pd.Series(vectorizer.vocabulary_).sort_values(ascending = False)"
   ]
  },
  {
   "cell_type": "code",
   "execution_count": 25,
   "metadata": {
    "collapsed": true
   },
   "outputs": [],
   "source": [
    "lda_model = LatentDirichletAllocation(n_components=5, max_iter=10, learning_method='online')\n",
    "lda_Z = lda_model.fit_transform(data_vectorized)"
   ]
  },
  {
   "cell_type": "code",
   "execution_count": 26,
   "metadata": {},
   "outputs": [
    {
     "name": "stderr",
     "output_type": "stream",
     "text": [
      "C:\\Users\\p_bag\\Anaconda3\\lib\\site-packages\\pyLDAvis\\_prepare.py:257: FutureWarning: Sorting because non-concatenation axis is not aligned. A future version\n",
      "of pandas will change to not sort by default.\n",
      "\n",
      "To accept the future behavior, pass 'sort=False'.\n",
      "\n",
      "To retain the current behavior and silence the warning, pass 'sort=True'.\n",
      "\n",
      "  return pd.concat([default_term_info] + list(topic_dfs))\n"
     ]
    },
    {
     "data": {
      "text/html": [
       "\n",
       "<link rel=\"stylesheet\" type=\"text/css\" href=\"https://cdn.rawgit.com/bmabey/pyLDAvis/files/ldavis.v1.0.0.css\">\n",
       "\n",
       "\n",
       "<div id=\"ldavis_el867220248836806243154031552\"></div>\n",
       "<script type=\"text/javascript\">\n",
       "\n",
       "var ldavis_el867220248836806243154031552_data = {\"mdsDat\": {\"x\": [54.87632751464844, -72.09923553466797, -63.420166015625, 152.63865661621094, 55.591758728027344], \"y\": [-4.334221363067627, -183.985595703125, -51.959983825683594, -93.48802947998047, -176.78941345214844], \"topics\": [1, 2, 3, 4, 5], \"cluster\": [1, 1, 1, 1, 1], \"Freq\": [33.136221282631375, 19.334892009108756, 17.935479187017965, 16.48000811128087, 13.113399409961021]}, \"tinfo\": {\"Category\": [\"Default\", \"Default\", \"Default\", \"Default\", \"Default\", \"Default\", \"Default\", \"Default\", \"Default\", \"Default\", \"Default\", \"Default\", \"Default\", \"Default\", \"Default\", \"Default\", \"Default\", \"Default\", \"Default\", \"Default\", \"Default\", \"Default\", \"Default\", \"Default\", \"Default\", \"Default\", \"Topic1\", \"Topic1\", \"Topic1\", \"Topic1\", \"Topic1\", \"Topic1\", \"Topic1\", \"Topic1\", \"Topic1\", \"Topic1\", \"Topic1\", \"Topic1\", \"Topic1\", \"Topic1\", \"Topic1\", \"Topic1\", \"Topic1\", \"Topic1\", \"Topic1\", \"Topic1\", \"Topic1\", \"Topic1\", \"Topic1\", \"Topic1\", \"Topic1\", \"Topic1\", \"Topic2\", \"Topic2\", \"Topic2\", \"Topic2\", \"Topic2\", \"Topic2\", \"Topic2\", \"Topic2\", \"Topic2\", \"Topic2\", \"Topic2\", \"Topic2\", \"Topic2\", \"Topic2\", \"Topic2\", \"Topic2\", \"Topic2\", \"Topic2\", \"Topic2\", \"Topic2\", \"Topic2\", \"Topic2\", \"Topic2\", \"Topic2\", \"Topic2\", \"Topic2\", \"Topic3\", \"Topic3\", \"Topic3\", \"Topic3\", \"Topic3\", \"Topic3\", \"Topic3\", \"Topic3\", \"Topic3\", \"Topic3\", \"Topic3\", \"Topic3\", \"Topic3\", \"Topic3\", \"Topic3\", \"Topic3\", \"Topic3\", \"Topic3\", \"Topic3\", \"Topic3\", \"Topic3\", \"Topic3\", \"Topic3\", \"Topic3\", \"Topic3\", \"Topic3\", \"Topic4\", \"Topic4\", \"Topic4\", \"Topic4\", \"Topic4\", \"Topic4\", \"Topic4\", \"Topic4\", \"Topic4\", \"Topic4\", \"Topic4\", \"Topic4\", \"Topic4\", \"Topic4\", \"Topic4\", \"Topic4\", \"Topic4\", \"Topic4\", \"Topic4\", \"Topic4\", \"Topic4\", \"Topic4\", \"Topic4\", \"Topic4\", \"Topic4\", \"Topic4\", \"Topic5\", \"Topic5\", \"Topic5\", \"Topic5\", \"Topic5\", \"Topic5\", \"Topic5\", \"Topic5\", \"Topic5\", \"Topic5\", \"Topic5\", \"Topic5\", \"Topic5\", \"Topic5\", \"Topic5\", \"Topic5\", \"Topic5\", \"Topic5\", \"Topic5\", \"Topic5\", \"Topic5\", \"Topic5\", \"Topic5\", \"Topic5\", \"Topic5\", \"Topic5\"], \"Freq\": [40.0, 15.0, 31.0, 26.0, 8.0, 8.0, 13.0, 8.0, 11.0, 8.0, 8.0, 7.0, 8.0, 8.0, 11.0, 9.0, 7.0, 10.0, 11.0, 7.0, 10.0, 11.0, 11.0, 7.0, 8.0, 13.0, 35.62572387872113, 9.624409605200666, 6.485303653228902, 9.04776985553147, 8.638581524968847, 4.754812782741393, 9.650397418026158, 3.0216135213385744, 3.701733452018533, 9.425922124660351, 1.6563062969042839, 1.8322973857192046, 0.7783026405723176, 0.631780209638969, 0.5242265236359952, 0.429398293949952, 0.29694397036411024, 0.27743836611570993, 0.25829771245092453, 0.2445053905603762, 0.21855924011173536, 0.36534448864133395, 0.20758206361052026, 0.21464834949602152, 0.2188985138001805, 0.22464633219697308, 7.437233199875062, 7.504349674489999, 17.495488868741866, 15.071869792355944, 5.062147661998011, 2.6103748502930313, 1.238067566556995, 1.2069277245096355, 0.6675124521467798, 0.526341208223954, 0.5860169169624617, 0.2940255413987276, 0.28668812916417036, 0.2343884144037356, 0.23468421438986953, 0.26699506788665334, 0.25232750239886687, 0.22973902505665186, 0.2342764856786854, 0.26524371367371036, 0.29462841023266945, 0.2344718504119961, 0.27547118186656777, 0.23759136451405274, 0.23851824029880284, 0.23971781225674543, 14.219075518751863, 7.241783695971182, 6.457458044242799, 6.840926785264436, 3.1012159240446184, 3.06324510356525, 1.4646332961554671, 1.5796865591606875, 1.7469013858782443, 3.50822085481662, 1.100506659507868, 3.5686366545716846, 0.5605136311914886, 0.510484980796597, 0.31512602472158807, 0.2684941782609368, 0.2703759736684356, 0.2598244914299699, 0.2702773431522366, 0.34707731566080896, 0.25812280665426984, 0.2707745348172692, 0.28683957152325595, 0.27737681268674674, 0.26062223278749735, 0.6008165622669485, 7.922762146841329, 7.086292886564164, 9.384259314140886, 8.154344588956953, 6.0005465068211645, 4.41156968399761, 2.3245505110142815, 1.3746448315484476, 1.4445281820400848, 0.9070453624897551, 1.297205301060046, 0.22679123431691153, 0.25804114422759017, 0.22794854166723, 0.22886545750615894, 0.22309346278680373, 0.2382824027715449, 0.234294641181767, 0.22354400405701683, 0.23419497048918872, 0.24131163412720358, 0.23710084634756826, 0.24276332176546023, 0.24111441300179712, 0.24022341429650784, 0.2843077198710087, 7.491165820864095, 7.493086281060527, 5.471884021226935, 5.610735414787775, 2.521713725808557, 2.5369253074517606, 2.6050512382341005, 1.5759646309478321, 1.3175142155478219, 1.21280101733845, 0.3827188273415749, 0.3635601776935927, 0.2991593875176521, 0.2969447262166012, 0.373800876046927, 0.30721618684784385, 0.3143992823814213, 0.2972218124806413, 0.284950475448587, 0.31265034851403467, 0.2899667379266087, 0.30549239949803236, 0.29777659702086323, 0.3561316012329771, 0.2719587499127243, 0.2900262112246279], \"Term\": [\"moyano\", \"disparate\", \"si\", \"mas\", \"gracias\", \"susana87\", \"justicia\", \"fper7709\", \"vos\", \"guli1911\", \"ley\", \"just4justice\", \"mejor\", \"hace\", \"solo\", \"ser\", \"a\\u00f1os\", \"mafiosos\", \"poder\", \"mismo\", \"merc1708\", \"estan\", \"macri\", \"van\", \"ahora\", \"gobierno\", \"moyano\", \"poder\", \"van\", \"estan\", \"gobierno\", \"macri\", \"mas\", \"ahora\", \"merc1708\", \"si\", \"mismo\", \"solo\", \"hace\", \"mejor\", \"mafiosos\", \"ser\", \"a\\u00f1os\", \"guli1911\", \"gracias\", \"ley\", \"just4justice\", \"justicia\", \"susana87\", \"fper7709\", \"vos\", \"disparate\", \"mejor\", \"ser\", \"si\", \"mas\", \"macri\", \"solo\", \"just4justice\", \"estan\", \"guli1911\", \"a\\u00f1os\", \"poder\", \"susana87\", \"hace\", \"mismo\", \"van\", \"fper7709\", \"ahora\", \"ley\", \"gracias\", \"mafiosos\", \"vos\", \"merc1708\", \"gobierno\", \"justicia\", \"disparate\", \"moyano\", \"disparate\", \"ley\", \"a\\u00f1os\", \"hace\", \"mismo\", \"mafiosos\", \"ahora\", \"macri\", \"gobierno\", \"si\", \"merc1708\", \"moyano\", \"van\", \"justicia\", \"susana87\", \"just4justice\", \"guli1911\", \"gracias\", \"fper7709\", \"vos\", \"mejor\", \"ser\", \"estan\", \"solo\", \"poder\", \"mas\", \"fper7709\", \"guli1911\", \"justicia\", \"vos\", \"mafiosos\", \"merc1708\", \"ahora\", \"ser\", \"gobierno\", \"solo\", \"mas\", \"just4justice\", \"susana87\", \"mismo\", \"a\\u00f1os\", \"van\", \"hace\", \"gracias\", \"ley\", \"mejor\", \"estan\", \"poder\", \"macri\", \"disparate\", \"si\", \"moyano\", \"gracias\", \"susana87\", \"just4justice\", \"solo\", \"mismo\", \"vos\", \"justicia\", \"ahora\", \"merc1708\", \"gobierno\", \"hace\", \"ley\", \"van\", \"a\\u00f1os\", \"mafiosos\", \"guli1911\", \"fper7709\", \"mejor\", \"ser\", \"poder\", \"estan\", \"macri\", \"disparate\", \"si\", \"mas\", \"moyano\"], \"Total\": [40.0, 15.0, 31.0, 26.0, 8.0, 8.0, 13.0, 8.0, 11.0, 8.0, 8.0, 7.0, 8.0, 8.0, 11.0, 9.0, 7.0, 10.0, 11.0, 7.0, 10.0, 11.0, 11.0, 7.0, 8.0, 13.0, 40.008412276645196, 11.020799949812229, 7.802754349114716, 11.072815523618173, 13.318283292092193, 11.944902725163585, 26.89224782362182, 8.639089461855022, 10.765795861483829, 31.025986863748326, 7.741572902828425, 11.237829825976512, 8.526918785114043, 8.858552999138132, 10.227062723743048, 9.864117810254257, 7.806553406553624, 8.608835865342934, 8.477859151605442, 8.30313229333882, 7.423796240473514, 13.102731386326969, 8.567861055018952, 8.989082189757662, 11.551874136102372, 15.2211311012703, 8.858552999138132, 9.864117810254257, 31.025986863748326, 26.89224782362182, 11.944902725163585, 11.237829825976512, 7.423796240473514, 11.072815523618173, 8.608835865342934, 7.806553406553624, 11.020799949812229, 8.567861055018952, 8.526918785114043, 7.741572902828425, 7.802754349114716, 8.989082189757662, 8.639089461855022, 8.30313229333882, 8.477859151605442, 10.227062723743048, 11.551874136102372, 10.765795861483829, 13.318283292092193, 13.102731386326969, 15.2211311012703, 40.008412276645196, 15.2211311012703, 8.30313229333882, 7.806553406553624, 8.526918785114043, 7.741572902828425, 10.227062723743048, 8.639089461855022, 11.944902725163585, 13.318283292092193, 31.025986863748326, 10.765795861483829, 40.008412276645196, 7.802754349114716, 13.102731386326969, 8.567861055018952, 7.423796240473514, 8.608835865342934, 8.477859151605442, 8.989082189757662, 11.551874136102372, 8.858552999138132, 9.864117810254257, 11.072815523618173, 11.237829825976512, 11.020799949812229, 26.89224782362182, 8.989082189757662, 8.608835865342934, 13.102731386326969, 11.551874136102372, 10.227062723743048, 10.765795861483829, 8.639089461855022, 9.864117810254257, 13.318283292092193, 11.237829825976512, 26.89224782362182, 7.423796240473514, 8.567861055018952, 7.741572902828425, 7.806553406553624, 7.802754349114716, 8.526918785114043, 8.477859151605442, 8.30313229333882, 8.858552999138132, 11.072815523618173, 11.020799949812229, 11.944902725163585, 15.2211311012703, 31.025986863748326, 40.008412276645196, 8.477859151605442, 8.567861055018952, 7.423796240473514, 11.237829825976512, 7.741572902828425, 11.551874136102372, 13.102731386326969, 8.639089461855022, 10.765795861483829, 13.318283292092193, 8.526918785114043, 8.30313229333882, 7.802754349114716, 7.806553406553624, 10.227062723743048, 8.608835865342934, 8.989082189757662, 8.858552999138132, 9.864117810254257, 11.020799949812229, 11.072815523618173, 11.944902725163585, 15.2211311012703, 31.025986863748326, 26.89224782362182, 40.008412276645196], \"loglift\": [26.0, 25.0, 24.0, 23.0, 22.0, 21.0, 20.0, 19.0, 18.0, 17.0, 16.0, 15.0, 14.0, 13.0, 12.0, 11.0, 10.0, 9.0, 8.0, 7.0, 6.0, 5.0, 4.0, 3.0, 2.0, 1.0, 0.9885, 0.9691, 0.9196, 0.9026, 0.6716, 0.1834, 0.0797, 0.054, 0.037, -0.0868, -0.4375, -0.7092, -1.2893, -1.5361, -1.8663, -2.0297, -2.1646, -2.3304, -2.3866, -2.4206, -2.4208, -2.4752, -2.6157, -2.6302, -2.8615, -3.1114, 1.4684, 1.3698, 1.0704, 1.0643, 0.7847, 0.1835, -0.1479, -0.5732, -0.9137, -1.0535, -1.2909, -1.7288, -1.7493, -1.8541, -1.8607, -1.8733, -1.8901, -1.9442, -1.9455, -2.0089, -2.0256, -2.1835, -2.2352, -2.3668, -2.5127, -3.4741, 1.6503, 1.5816, 1.5287, 1.4981, 0.8036, 0.5128, -0.0563, -0.3047, -0.3129, -0.4613, -0.5622, -0.6985, -0.915, -1.5268, -1.5844, -1.6012, -1.7423, -1.7668, -1.7859, -1.7867, -1.8173, -1.877, -1.9349, -1.9833, -2.0261, -2.0829, 1.6768, 1.6084, 1.4692, 1.4547, 1.2698, 0.9109, 0.4903, -0.1677, -0.4183, -0.7138, -1.2286, -1.6854, -1.6996, -1.7222, -1.7266, -1.7516, -1.7745, -1.7856, -1.8118, -1.83, -2.0231, -2.036, -2.093, -2.3421, -3.058, -3.1438, 1.9078, 1.8975, 1.7265, 1.3369, 0.9099, 0.5156, 0.4162, 0.3301, -0.0691, -0.3647, -1.0721, -1.0969, -1.2297, -1.2376, -1.2775, -1.3015, -1.3216, -1.3631, -1.5128, -1.5309, -1.6109, -1.6346, -1.9026, -2.4357, -2.5624, -2.8953], \"logprob\": [26.0, 25.0, 24.0, 23.0, 22.0, 21.0, 20.0, 19.0, 18.0, 17.0, 16.0, 15.0, 14.0, 13.0, 12.0, 11.0, 10.0, 9.0, 8.0, 7.0, 6.0, 5.0, 4.0, 3.0, 2.0, 1.0, -1.1123, -2.4211, -2.8159, -2.4829, -2.5292, -3.1263, -2.4184, -3.5796, -3.3766, -2.442, -4.1808, -4.0798, -4.9361, -5.1446, -5.3312, -5.5308, -5.8996, -5.9676, -6.0391, -6.0939, -6.2061, -5.6923, -6.2576, -6.2242, -6.2046, -6.1786, -2.1402, -2.1312, -1.2848, -1.4339, -2.5249, -3.1872, -3.9331, -3.9586, -4.5509, -4.7885, -4.6811, -5.3708, -5.3961, -5.5975, -5.5962, -5.4672, -5.5237, -5.6175, -5.598, -5.4738, -5.3687, -5.5971, -5.436, -5.5839, -5.58, -5.575, -1.417, -2.0917, -2.2063, -2.1486, -2.9398, -2.9521, -3.69, -3.6143, -3.5137, -2.8165, -3.9758, -2.7994, -4.6505, -4.744, -5.2264, -5.3865, -5.3795, -5.4193, -5.3799, -5.1298, -5.4259, -5.378, -5.3204, -5.3539, -5.4163, -4.581, -1.9172, -2.0288, -1.7479, -1.8884, -2.1951, -2.5027, -3.1434, -3.6687, -3.6192, -4.0845, -3.7267, -5.4707, -5.3416, -5.4656, -5.4616, -5.4871, -5.4212, -5.4381, -5.4851, -5.4385, -5.4086, -5.4262, -5.4026, -5.4094, -5.4131, -5.2446, -1.7447, -1.7444, -2.0588, -2.0337, -2.8335, -2.8275, -2.801, -3.3036, -3.4827, -3.5655, -4.7189, -4.7702, -4.9652, -4.9726, -4.7425, -4.9386, -4.9155, -4.9717, -5.0139, -4.9211, -4.9964, -4.9443, -4.9698, -4.7909, -5.0605, -4.9962]}, \"token.table\": {\"Topic\": [1, 3, 4, 5, 2, 3, 3, 1, 2, 4, 1, 3, 4, 5, 5, 2, 4, 1, 3, 2, 5, 3, 4, 5, 3, 1, 2, 3, 1, 3, 4, 1, 2, 3, 4, 1, 2, 1, 3, 4, 5, 1, 3, 5, 1, 3, 1, 2, 2, 4, 1, 2, 3, 1, 2, 4, 5, 5, 1, 3, 4, 5], \"Freq\": [0.34725881856487073, 0.11575293952162359, 0.23150587904324718, 0.23150587904324718, 0.1280975032029496, 0.7685850192176976, 0.9197739581148218, 0.8128014036541217, 0.0903112670726802, 0.8899685008014899, 0.6757627693160575, 0.15016950429245723, 0.07508475214622862, 0.07508475214622862, 0.8256801481155085, 0.11615972422308052, 0.8131180695615636, 0.11727565668219572, 0.82092959677537, 0.13470197290008282, 0.6735098645004141, 0.07631996493826664, 0.6868796844443997, 0.2289598948147999, 0.8430553377567817, 0.41858859088628747, 0.41858859088628747, 0.167435436354515, 0.09777978555645404, 0.2933393566693621, 0.5866787133387242, 0.37185437474721333, 0.55778156212082, 0.03718543747472133, 0.03718543747472133, 0.11288525339265817, 0.7901967737486072, 0.3715470784942682, 0.09288676962356705, 0.3715470784942682, 0.09288676962356705, 0.2583454325243504, 0.3875181487865255, 0.3875181487865255, 0.8998107635732124, 0.09997897373035694, 0.9073751493121313, 0.09073751493121313, 0.8110203217244212, 0.10137754021555265, 0.29007941115697, 0.5479277766298322, 0.1289241827364311, 0.17797030485164958, 0.2669554572774744, 0.08898515242582479, 0.5339109145549488, 0.8170067132332267, 0.7689592330534855, 0.12815987217558092, 0.692528321010535, 0.2596981203789506], \"Term\": [\"ahora\", \"ahora\", \"ahora\", \"ahora\", \"a\\u00f1os\", \"a\\u00f1os\", \"disparate\", \"estan\", \"estan\", \"fper7709\", \"gobierno\", \"gobierno\", \"gobierno\", \"gobierno\", \"gracias\", \"guli1911\", \"guli1911\", \"hace\", \"hace\", \"just4justice\", \"just4justice\", \"justicia\", \"justicia\", \"justicia\", \"ley\", \"macri\", \"macri\", \"macri\", \"mafiosos\", \"mafiosos\", \"mafiosos\", \"mas\", \"mas\", \"mas\", \"mas\", \"mejor\", \"mejor\", \"merc1708\", \"merc1708\", \"merc1708\", \"merc1708\", \"mismo\", \"mismo\", \"mismo\", \"moyano\", \"moyano\", \"poder\", \"poder\", \"ser\", \"ser\", \"si\", \"si\", \"si\", \"solo\", \"solo\", \"solo\", \"solo\", \"susana87\", \"van\", \"van\", \"vos\", \"vos\"]}, \"R\": 26, \"lambda.step\": 0.01, \"plot.opts\": {\"xlab\": \"PC1\", \"ylab\": \"PC2\"}, \"topic.order\": [4, 2, 1, 3, 5]};\n",
       "\n",
       "function LDAvis_load_lib(url, callback){\n",
       "  var s = document.createElement('script');\n",
       "  s.src = url;\n",
       "  s.async = true;\n",
       "  s.onreadystatechange = s.onload = callback;\n",
       "  s.onerror = function(){console.warn(\"failed to load library \" + url);};\n",
       "  document.getElementsByTagName(\"head\")[0].appendChild(s);\n",
       "}\n",
       "\n",
       "if(typeof(LDAvis) !== \"undefined\"){\n",
       "   // already loaded: just create the visualization\n",
       "   !function(LDAvis){\n",
       "       new LDAvis(\"#\" + \"ldavis_el867220248836806243154031552\", ldavis_el867220248836806243154031552_data);\n",
       "   }(LDAvis);\n",
       "}else if(typeof define === \"function\" && define.amd){\n",
       "   // require.js is available: use it to load d3/LDAvis\n",
       "   require.config({paths: {d3: \"https://cdnjs.cloudflare.com/ajax/libs/d3/3.5.5/d3.min\"}});\n",
       "   require([\"d3\"], function(d3){\n",
       "      window.d3 = d3;\n",
       "      LDAvis_load_lib(\"https://cdn.rawgit.com/bmabey/pyLDAvis/files/ldavis.v1.0.0.js\", function(){\n",
       "        new LDAvis(\"#\" + \"ldavis_el867220248836806243154031552\", ldavis_el867220248836806243154031552_data);\n",
       "      });\n",
       "    });\n",
       "}else{\n",
       "    // require.js not available: dynamically load d3 & LDAvis\n",
       "    LDAvis_load_lib(\"https://cdnjs.cloudflare.com/ajax/libs/d3/3.5.5/d3.min.js\", function(){\n",
       "         LDAvis_load_lib(\"https://cdn.rawgit.com/bmabey/pyLDAvis/files/ldavis.v1.0.0.js\", function(){\n",
       "                 new LDAvis(\"#\" + \"ldavis_el867220248836806243154031552\", ldavis_el867220248836806243154031552_data);\n",
       "            })\n",
       "         });\n",
       "}\n",
       "</script>"
      ],
      "text/plain": [
       "PreparedData(topic_coordinates=                x           y  topics  cluster       Freq\n",
       "topic                                                    \n",
       "3       54.876328   -4.334221       1        1  33.136221\n",
       "1      -72.099236 -183.985596       2        1  19.334892\n",
       "0      -63.420166  -51.959984       3        1  17.935479\n",
       "2      152.638657  -93.488029       4        1  16.480008\n",
       "4       55.591759 -176.789413       5        1  13.113399, topic_info=     Category       Freq          Term      Total  loglift  logprob\n",
       "term                                                               \n",
       "18    Default  40.000000        moyano  40.000000  26.0000  26.0000\n",
       "2     Default  15.000000     disparate  15.000000  25.0000  25.0000\n",
       "21    Default  31.000000            si  31.000000  24.0000  24.0000\n",
       "14    Default  26.000000           mas  26.000000  23.0000  23.0000\n",
       "6     Default   8.000000       gracias   8.000000  22.0000  22.0000\n",
       "23    Default   8.000000      susana87   8.000000  21.0000  21.0000\n",
       "10    Default  13.000000      justicia  13.000000  20.0000  20.0000\n",
       "4     Default   8.000000      fper7709   8.000000  19.0000  19.0000\n",
       "25    Default  11.000000           vos  11.000000  18.0000  18.0000\n",
       "7     Default   8.000000      guli1911   8.000000  17.0000  17.0000\n",
       "11    Default   8.000000           ley   8.000000  16.0000  16.0000\n",
       "9     Default   7.000000  just4justice   7.000000  15.0000  15.0000\n",
       "15    Default   8.000000         mejor   8.000000  14.0000  14.0000\n",
       "8     Default   8.000000          hace   8.000000  13.0000  13.0000\n",
       "22    Default  11.000000          solo  11.000000  12.0000  12.0000\n",
       "20    Default   9.000000           ser   9.000000  11.0000  11.0000\n",
       "1     Default   7.000000          años   7.000000  10.0000  10.0000\n",
       "13    Default  10.000000      mafiosos  10.000000   9.0000   9.0000\n",
       "19    Default  11.000000         poder  11.000000   8.0000   8.0000\n",
       "17    Default   7.000000         mismo   7.000000   7.0000   7.0000\n",
       "16    Default  10.000000      merc1708  10.000000   6.0000   6.0000\n",
       "3     Default  11.000000         estan  11.000000   5.0000   5.0000\n",
       "12    Default  11.000000         macri  11.000000   4.0000   4.0000\n",
       "24    Default   7.000000           van   7.000000   3.0000   3.0000\n",
       "0     Default   8.000000         ahora   8.000000   2.0000   2.0000\n",
       "5     Default  13.000000      gobierno  13.000000   1.0000   1.0000\n",
       "18     Topic1  35.625724        moyano  40.008412   0.9885  -1.1123\n",
       "19     Topic1   9.624410         poder  11.020800   0.9691  -2.4211\n",
       "24     Topic1   6.485304           van   7.802754   0.9196  -2.8159\n",
       "3      Topic1   9.047770         estan  11.072816   0.9026  -2.4829\n",
       "...       ...        ...           ...        ...      ...      ...\n",
       "12     Topic4   0.242763         macri  11.944903  -2.0930  -5.4026\n",
       "2      Topic4   0.241114     disparate  15.221131  -2.3421  -5.4094\n",
       "21     Topic4   0.240223            si  31.025987  -3.0580  -5.4131\n",
       "18     Topic4   0.284308        moyano  40.008412  -3.1438  -5.2446\n",
       "6      Topic5   7.491166       gracias   8.477859   1.9078  -1.7447\n",
       "23     Topic5   7.493086      susana87   8.567861   1.8975  -1.7444\n",
       "9      Topic5   5.471884  just4justice   7.423796   1.7265  -2.0588\n",
       "22     Topic5   5.610735          solo  11.237830   1.3369  -2.0337\n",
       "17     Topic5   2.521714         mismo   7.741573   0.9099  -2.8335\n",
       "25     Topic5   2.536925           vos  11.551874   0.5156  -2.8275\n",
       "10     Topic5   2.605051      justicia  13.102731   0.4162  -2.8010\n",
       "0      Topic5   1.575965         ahora   8.639089   0.3301  -3.3036\n",
       "16     Topic5   1.317514      merc1708  10.765796  -0.0691  -3.4827\n",
       "5      Topic5   1.212801      gobierno  13.318283  -0.3647  -3.5655\n",
       "8      Topic5   0.382719          hace   8.526919  -1.0721  -4.7189\n",
       "11     Topic5   0.363560           ley   8.303132  -1.0969  -4.7702\n",
       "24     Topic5   0.299159           van   7.802754  -1.2297  -4.9652\n",
       "1      Topic5   0.296945          años   7.806553  -1.2376  -4.9726\n",
       "13     Topic5   0.373801      mafiosos  10.227063  -1.2775  -4.7425\n",
       "7      Topic5   0.307216      guli1911   8.608836  -1.3015  -4.9386\n",
       "4      Topic5   0.314399      fper7709   8.989082  -1.3216  -4.9155\n",
       "15     Topic5   0.297222         mejor   8.858553  -1.3631  -4.9717\n",
       "20     Topic5   0.284950           ser   9.864118  -1.5128  -5.0139\n",
       "19     Topic5   0.312650         poder  11.020800  -1.5309  -4.9211\n",
       "3      Topic5   0.289967         estan  11.072816  -1.6109  -4.9964\n",
       "12     Topic5   0.305492         macri  11.944903  -1.6346  -4.9443\n",
       "2      Topic5   0.297777     disparate  15.221131  -1.9026  -4.9698\n",
       "21     Topic5   0.356132            si  31.025987  -2.4357  -4.7909\n",
       "14     Topic5   0.271959           mas  26.892248  -2.5624  -5.0605\n",
       "18     Topic5   0.290026        moyano  40.008412  -2.8953  -4.9962\n",
       "\n",
       "[156 rows x 6 columns], token_table=      Topic      Freq          Term\n",
       "term                               \n",
       "0         1  0.347259         ahora\n",
       "0         3  0.115753         ahora\n",
       "0         4  0.231506         ahora\n",
       "0         5  0.231506         ahora\n",
       "1         2  0.128098          años\n",
       "1         3  0.768585          años\n",
       "2         3  0.919774     disparate\n",
       "3         1  0.812801         estan\n",
       "3         2  0.090311         estan\n",
       "4         4  0.889969      fper7709\n",
       "5         1  0.675763      gobierno\n",
       "5         3  0.150170      gobierno\n",
       "5         4  0.075085      gobierno\n",
       "5         5  0.075085      gobierno\n",
       "6         5  0.825680       gracias\n",
       "7         2  0.116160      guli1911\n",
       "7         4  0.813118      guli1911\n",
       "8         1  0.117276          hace\n",
       "8         3  0.820930          hace\n",
       "9         2  0.134702  just4justice\n",
       "9         5  0.673510  just4justice\n",
       "10        3  0.076320      justicia\n",
       "10        4  0.686880      justicia\n",
       "10        5  0.228960      justicia\n",
       "11        3  0.843055           ley\n",
       "12        1  0.418589         macri\n",
       "12        2  0.418589         macri\n",
       "12        3  0.167435         macri\n",
       "13        1  0.097780      mafiosos\n",
       "13        3  0.293339      mafiosos\n",
       "...     ...       ...           ...\n",
       "14        2  0.557782           mas\n",
       "14        3  0.037185           mas\n",
       "14        4  0.037185           mas\n",
       "15        1  0.112885         mejor\n",
       "15        2  0.790197         mejor\n",
       "16        1  0.371547      merc1708\n",
       "16        3  0.092887      merc1708\n",
       "16        4  0.371547      merc1708\n",
       "16        5  0.092887      merc1708\n",
       "17        1  0.258345         mismo\n",
       "17        3  0.387518         mismo\n",
       "17        5  0.387518         mismo\n",
       "18        1  0.899811        moyano\n",
       "18        3  0.099979        moyano\n",
       "19        1  0.907375         poder\n",
       "19        2  0.090738         poder\n",
       "20        2  0.811020           ser\n",
       "20        4  0.101378           ser\n",
       "21        1  0.290079            si\n",
       "21        2  0.547928            si\n",
       "21        3  0.128924            si\n",
       "22        1  0.177970          solo\n",
       "22        2  0.266955          solo\n",
       "22        4  0.088985          solo\n",
       "22        5  0.533911          solo\n",
       "23        5  0.817007      susana87\n",
       "24        1  0.768959           van\n",
       "24        3  0.128160           van\n",
       "25        4  0.692528           vos\n",
       "25        5  0.259698           vos\n",
       "\n",
       "[62 rows x 3 columns], R=26, lambda_step=0.01, plot_opts={'xlab': 'PC1', 'ylab': 'PC2'}, topic_order=[4, 2, 1, 3, 5])"
      ]
     },
     "execution_count": 26,
     "metadata": {},
     "output_type": "execute_result"
    }
   ],
   "source": [
    "pyLDAvis.enable_notebook()\n",
    "panel = pyLDAvis.sklearn.prepare(lda_model, data_vectorized, vectorizer, mds='tsne')\n",
    "panel"
   ]
  },
  {
   "cell_type": "code",
   "execution_count": 27,
   "metadata": {},
   "outputs": [
    {
     "data": {
      "text/plain": [
       "-1    64\n",
       " 3    53\n",
       " 2    32\n",
       " 1    32\n",
       " 0    22\n",
       " 4    21\n",
       "Name: topicos, dtype: int64"
      ]
     },
     "execution_count": 27,
     "metadata": {},
     "output_type": "execute_result"
    }
   ],
   "source": [
    "import numpy as np\n",
    "topicos = lda_Z.argmax(axis = 1)\n",
    "topicos[pd.DataFrame(lda_Z).apply(np.unique, axis = 1).apply(len) == 1] = -1\n",
    "df['topicos'] = topicos\n",
    "df.topicos.value_counts()"
   ]
  },
  {
   "cell_type": "code",
   "execution_count": 28,
   "metadata": {},
   "outputs": [
    {
     "data": {
      "text/plain": [
       "['mientras el jefe del clan grita, el prófugo está en los emiratos árabes tratando de afiliar a los camelleros. solo en peronia.',\n",
       " '@susana87 Cambiemos  debe dialogar con todos los mafiosos) tamb. ',\n",
       " '@susana87 Imaginate que tienen que hablar con delincuentes como  GAV0IS ........  HASTA TANTO LA JUSTICIA LOS EMBARGUE Y ENCANE... EL GOBIERNO HABLA ..... ',\n",
       " '@susana87 Amiga: en el universo peronista colmado de mafiosos de distintos pelajes y distintos clanes...',\n",
       " '@susana87 @fper7709 y la tuya como anda? flojita al parecer, no pasás ni el primer parcial.',\n",
       " 'GRACIAS GRACIELA OCAÑA !!!!',\n",
       " '@Just4Justice le dice gracias a ocaña por el tema de los aportantes truchos de la elección 2017? ',\n",
       " '@susana87 @Just4Justice Vos manejas el meonca o sos acompañante?',\n",
       " '@susana87 @Just4Justice NO,  POR INVESTIGAR TANTAS CAUSAS CONTRA EL CORRUPTO Y ASESINO DE LA NOTA',\n",
       " 'Florencia Arietto..... GRACIAS !.... Y SIGA A FONDO !..... Ya sabemos porque Ma$$a la sacó del frente reciclador !.... TODO SE SABE !',\n",
       " 'que un inútil se sienta útil, solo puede pasar en este País, que es lo positivo logrado por este energúmeno?',\n",
       " '@cheroke1 Lo positivo es solo para el  MULTI  MEGA  MILLONARIO',\n",
       " 'Yo sabia que tenia un doctorado en lavador de tripas. Es el mismo?',\n",
       " '@susana87 @Just4Justice Tenes que denunciarlo !......  ',\n",
       " '@susana87 @Just4Justice pruebas, por favor????',\n",
       " '@merc1708 Ya la hicieron otros por mí, gracias por el consejo.',\n",
       " 'Gracias \"al General\". la afiliación es OBLIGATORIA, pero no asi el voto, de modo que LAS MAFIAS mandan a \"sus muchachos\" y asi se perpetuan en el poder. Antiguamente los SINDICATOS eran las fuerzas de choque del peronismo, pero la tercerizaron con los BARRABRAVAS. Tiempos modernos, que le dicen',\n",
       " 'pucha che, que suerte que tienen los ex k....no tienen un solo corrupto.......',\n",
       " '@Yapita Si lo que Ud afirma es verdad, me acaba de alegrar el día. Gracias ! Solo los ciegos, y hasta ahora la falta de pruebas, no pueden ver que utilizan Independiente para lavar guita negra.',\n",
       " 'El mismo discurso de todos los corruptos. Vaya a la justicia y pruebe su inocencia.',\n",
       " 'tenés razón huguito, la estamos pasando muy mal gracias a malandras como vos y tu familia. ']"
      ]
     },
     "execution_count": 28,
     "metadata": {},
     "output_type": "execute_result"
    }
   ],
   "source": [
    "#topico minoritario\n",
    "[x for x in df.loc[df.topicos == 4].comments]"
   ]
  },
  {
   "cell_type": "code",
   "execution_count": 29,
   "metadata": {},
   "outputs": [
    {
     "data": {
      "text/plain": [
       "['Seria muy recomendable q no hagan escala en Brasil.por las dudas',\n",
       " 'El POROTISMO esta ON FIRE: SE LES CAE OTRO ALIADO',\n",
       " 'Otro que se reune con el Pancho y recibe la \"bendicion\"',\n",
       " 'Alguien en su sano juicio duda de la acusación del Fiscal.....? ',\n",
       " 'ESTA VEZ EL HELICOPTERO ESTA LISTO PARA LA IZQUIERDA Y EL CANCER DEL SINDICALISMO !!!!!.....  CUANDO ARGENTINA TERMINE LA RADIOTERAPIA  SERA DE UNA VEZ REPUBLICA !!! ',\n",
       " 'Panchooooooooo, faltan rosarios! Hay una escasez enorme!',\n",
       " '@fumenoire  Es que los chinos no alcanzan a la demanda',\n",
       " 'Extraño la serie \"Los intocables\".',\n",
       " 'Demostralo en un tribunal Moyi.',\n",
       " 'Y falta, negri querido, tu dulce e inocente esposa!',\n",
       " 'Estos ya son \"los encausados\"',\n",
       " 'Dr en que estimado Rai',\n",
       " '@ghriva Doctorado en ASADO, VINO y APRIETES',\n",
       " 'Facil, que explique su patrimonio.',\n",
       " 'Prefiero a Al-Capone contra Eliot Ness.',\n",
       " '@fumenoire La cara y el fisique du rol, convengamos que son perfectos ad hoc....',\n",
       " 'tenés que ir preso mafia,',\n",
       " 'La carcel te va a bajar los humitos negro',\n",
       " 'Este no tiene fueros pero tiene \"fierros\"',\n",
       " 'ME SACO EL SOMBRERO ANTE LOS DIRIGENTES SINDICALES Y SOCIALES QUE ABNEGAN POR EL BIEN DE SUS REPRESENTADOS SIN USUFRUCTUAR ECONOMICAMENTE DE ELLO. PERO TODOS SABEMOS SOBRADAMENTE QUE ESTE NO ES EL CASO... ',\n",
       " '@Mojigato Muy bueno !',\n",
       " '@lafraslafra y un clubcito de futbol de barrio para que jueguen los nenes. Nada importante.',\n",
       " 'Son temas penales manejados por intereses políticos.',\n",
       " 'Ademas el mismisimo Presidente veria con beneplacito no penar a los empresarios que defraudaron al Estado con la obra publica y accionaron ilegalmente para no parar la misma.',\n",
       " '@Vipest barrabasada de comentario',\n",
       " '@Vipest La impunidad facturásela al Congreso, especialmente al bloque peronista que comanda Picchetto.',\n",
       " 'Pagaria una gran cuota mensual por acceder a una camarita en la celda de estos asesinos ... viendo como se la dan 20 veces por día !!!!.......',\n",
       " 'No, no de lo que usted asegura.',\n",
       " 'Respuesta de manual la de Huguito...',\n",
       " 'Todo en familia. Como los Corleone. O peor,  porque es con la complicidad del estado.',\n",
       " 'Pues yo me estoy \"distrayendo\" mucho.',\n",
       " 'A llorar a la cancha.',\n",
       " 'Muy democrático su comentario.',\n",
       " 'Porque no elije otra excusa, esta es muy trillada.',\n",
       " 'DE MANUAL, LO DE MOY.ANO',\n",
       " '@jsalvetti2 \"político\" (con comillas)',\n",
       " '@richaires Y la Sra. su Contratista.',\n",
       " 'VOLVEMOS !!',\n",
       " 'Gato cuando te vayas te vas a tener que refugiar en Liberia, porque vas en cana de por vida',\n",
       " 'Ni lo sueñes!!! primero los anteriores',\n",
       " '@g_alde Son 4 los que votan. El resto ni los conoce. No representan a nadie, como el resto del sindicalismo',\n",
       " '@g_alde Los barra pagados. Es la pesada del sindicato.',\n",
       " 'Tenes razón. La estamos pasando remal. Pero eso no tapa lo que son ustedes.',\n",
       " '@Mehid2016 Ni POR QUÉ la pasamos mal .------------',\n",
       " 'Espero que le saquen hasta el último centavo de plata malhabida a este clan mafioso.',\n",
       " '@gguasoncito1 Alguién puso la torta',\n",
       " 'La denuncia la hizo Bebote Álvarez por asociación ilícita.\\r\\nEs sabido que es ultra macrista.',\n",
       " 'Cero en sarcasmo.\\r\\nVuelva a Facebook y no moleste por acá.',\n",
       " 'Hoy es sabado. El lunes esta detenido',\n",
       " 'excelente tu comentario. pero dudo mucho q los moyanos puedan leer tantas letras!',\n",
       " '@gguasoncito1 🤣🤣🤣😂😂😂🤣🤣🤣',\n",
       " 'Papi cuidando nene!',\n",
       " 'Conducta mafiosa,quien sopló para que Pablito se fuera del país justo teniendo pedido de detención?',\n",
       " 'no sabes ni lo que es un trosko',\n",
       " 'leo cómo deberías hacer vos',\n",
       " 'El régimen macrista quiere a todos los opositores presos.',\n",
       " '@pancho56 a todos los chorros presos, y andá a repasar la tabla del 3,porque tu idea de \"régimen\" es como decir que estos malandras son \"inocentes\".',\n",
       " 'SIIII y ya sabemos donde vives!! Jajajjaj KERNEROLO!!!',\n",
       " '@flacas ¿Independencia, quién, Comodoro Pro? ',\n",
       " 'Yo distraigo\\r\\nTu distraes\\r\\nEl distrae\\r\\n....\\r\\n\\r\\nPero el que afanó, sabemos quien fue.',\n",
       " '@La_Robespierre La que afanó, te referís?.',\n",
       " '@juanberi Al gato se refiere, histórico manoteador del dinero del estado.',\n",
       " 'Con esa declaración, TAN BERRETA, ya dejaste claro que tu hijo es culpable de lo que se lo acusa y ademas, un PATOTERO COBARDE',\n",
       " '@pnogueira3 Lo que realmente es .. una BASURA.-']"
      ]
     },
     "execution_count": 29,
     "metadata": {},
     "output_type": "execute_result"
    }
   ],
   "source": [
    "#sin topico\n",
    "[x for x in df.loc[df.topicos == -1].comments]"
   ]
  },
  {
   "cell_type": "code",
   "execution_count": 30,
   "metadata": {},
   "outputs": [
    {
     "data": {
      "text/plain": [
       "['No insistas Huguito esta película de burdos mafiosos NO NOS DISTRAE. son pésimos actores y la novela policial aburridísima.',\n",
       " 'Familia de delincuentes que seguramente intentará tomar represalias haciendo un paro general con la complicidad de los otros sindicatos nada mas que para parar a la justicia y que no meta en cana a uno solo de ellos a pesar que todos deberian ir juntos al calabozo. Esta es la mafia creada por peron en el 45 que han sobrevivido hasta el dia de hoy robandole al estado con cualquier gobierno aun durante el proceso militar. Adoraban a la cristina porque ella y la mafia de justicia legitima les aseguraba impunidad pero las cosas cambiaron y para bien de la republica no deberian ir solos sino acompañados de otros mafiosos.     ',\n",
       " 'Vos seguis creyendo ese verso? Los Moyano Son todos ladrones',\n",
       " '@merc1708 PROBALO.',\n",
       " '@merc1708 dudo que lo manejen interesed políticos. La Justicia es absolutamente independiente: no como en el gobierno anterior. Pero como leí recién un comentario: es más fácil engañar a la gente que convencerla de que han sido engañados.',\n",
       " '@merc1708 perdón, y en que basa tan temeraria aseveración?',\n",
       " 'Y ahora citan a Perón. Brillante.',\n",
       " '@merc1708 Acaso no es verdad? ud tiene menos argumentos que el Pato Donald',\n",
       " '@fper7709 @jlopez149 Por algo nunca les dio las obras sociales, ese regalito se lo debemos a Onganía.',\n",
       " '@merc1708 Que Perón era brillante decís ? Sin duda, por eso nunca les dio las obras sociales, regalo que le deben a la dictadura de Onganía.',\n",
       " '@merc1708 ¿ Se imagina cómo mafiosos multimillonarios, sueltos, sin escrúpulos, podrían apretar a muchos y silenciar a otros ?.',\n",
       " 'En la justicia no alcanza con imaginar, hay que probar.',\n",
       " 'Cuánta mafia Dios mio!!!  Como vamos a remontar con ese peso que nos enchufó la inacción o complicidad de la justicia.',\n",
       " '@erin3ar Vos perteneces al sindicato?',\n",
       " '@erin3ar Mafiosos abstenerse',\n",
       " 'La gente del interior no piensa como vos. Han hecho mucho daño cuando les abrían las tolvas a los camiones que seguían circulando cuando ellos llamaban al paro. Y no eran los barras, eran afiliados comunes.',\n",
       " '@paca7612 AH NO ES PARA VOS?, CIERTO QUE VOS SOS AMARGO............',\n",
       " '@fper7709 No podes  , primero tenes que aprender a comerte las eses, ya como escribiste ese post, sin faltas de ortografía, estas \"afuera\" por oligarca.- ',\n",
       " '@fper7709  El lunes es feriado, la justicia no trabaja, (bah, los otros dias tampoco)',\n",
       " '@DrTarugo @fper7709 esta en el exterior representando a la Argentina en un congreso',\n",
       " '@gguasoncito1 @DrTarugo @fper7709  ¿Congreso de chantas, pungas y ladrones?',\n",
       " '@DrTarugo @gguasoncito1 @fper7709 COYECTO',\n",
       " '@fper7709 Dios te oiga',\n",
       " 'anda arreglando con los troskos y el partido obrero para que salgan a piqueter a favor del nene, ya los contrataste una vez, y ahora podés hasta hacer precio.',\n",
       " '@guli1911 si vos lo decís......',\n",
       " '@guli1911 Yo no  creo que  existan  tontos que  todavía crean que  cristina  es   inocente.- ',\n",
       " '@guli1911 Holaa, hola, holaaaaa, dalbon, hola, soy cristina peloduro ¡¡¡ no me ayudes másssss.¡¡¡¡',\n",
       " '@guli1911 Y, una de esas aprendieron de Neshtor y Critina. Pero son bebés de pecho al lado de esos dos.',\n",
       " 'Y todavia no lo deruvieron? Y el padre no esta metido ? Que lentitud!!!! Como puede ser todo tan lento en la justicia? O sera q hay alguien llevando algun papel en mano a alguien para q le ponga un sello? La justicia sigue en la prehistoria!!!!',\n",
       " '@guli1911 El Pablito tiene méritos propios, no lo subestime. Ya es un estilo mafioso propio. Y una pregunta, porque te molesta tanto que vayan en cana estos malandras?. ',\n",
       " '@guli1911 Ya los comunistas  de la  unión soviética  despues de  75  años  de experiencia    concluyeron  que  la ineficacia  del  estado  supera  por cifras  infinitas   el pecado  de los ricos.  \\r\\nPorque  aparte de ser RICO   no hay  juicio  sobre  coimas recibidas  ni   plata robada   ni valijas  voladoras.ni cuadernos.  ni arrepentidos.-  ',\n",
       " 'A la Gayola Hugito. Vos tambien en Breve.']"
      ]
     },
     "execution_count": 30,
     "metadata": {},
     "output_type": "execute_result"
    }
   ],
   "source": [
    "[x for x in df.loc[df.topicos == 2].comments]"
   ]
  },
  {
   "cell_type": "code",
   "execution_count": 31,
   "metadata": {},
   "outputs": [
    {
     "data": {
      "text/plain": [
       "['Seria muy recomendable q no hagan escala en Brasil.por las dudas',\n",
       " 'El POROTISMO esta ON FIRE: SE LES CAE OTRO ALIADO',\n",
       " 'Otro que se reune con el Pancho y recibe la \"bendicion\"',\n",
       " 'Alguien en su sano juicio duda de la acusación del Fiscal.....? ',\n",
       " 'ESTA VEZ EL HELICOPTERO ESTA LISTO PARA LA IZQUIERDA Y EL CANCER DEL SINDICALISMO !!!!!.....  CUANDO ARGENTINA TERMINE LA RADIOTERAPIA  SERA DE UNA VEZ REPUBLICA !!! ',\n",
       " 'Panchooooooooo, faltan rosarios! Hay una escasez enorme!',\n",
       " '@fumenoire  Es que los chinos no alcanzan a la demanda',\n",
       " 'Extraño la serie \"Los intocables\".',\n",
       " 'Demostralo en un tribunal Moyi.',\n",
       " 'Y falta, negri querido, tu dulce e inocente esposa!',\n",
       " 'Estos ya son \"los encausados\"',\n",
       " 'Dr en que estimado Rai',\n",
       " '@ghriva Doctorado en ASADO, VINO y APRIETES',\n",
       " 'Facil, que explique su patrimonio.',\n",
       " 'Prefiero a Al-Capone contra Eliot Ness.',\n",
       " '@fumenoire La cara y el fisique du rol, convengamos que son perfectos ad hoc....',\n",
       " 'tenés que ir preso mafia,',\n",
       " 'La carcel te va a bajar los humitos negro',\n",
       " 'Este no tiene fueros pero tiene \"fierros\"',\n",
       " 'ME SACO EL SOMBRERO ANTE LOS DIRIGENTES SINDICALES Y SOCIALES QUE ABNEGAN POR EL BIEN DE SUS REPRESENTADOS SIN USUFRUCTUAR ECONOMICAMENTE DE ELLO. PERO TODOS SABEMOS SOBRADAMENTE QUE ESTE NO ES EL CASO... ',\n",
       " '@Mojigato Muy bueno !',\n",
       " '@lafraslafra y un clubcito de futbol de barrio para que jueguen los nenes. Nada importante.',\n",
       " 'Son temas penales manejados por intereses políticos.',\n",
       " 'Ademas el mismisimo Presidente veria con beneplacito no penar a los empresarios que defraudaron al Estado con la obra publica y accionaron ilegalmente para no parar la misma.',\n",
       " '@Vipest barrabasada de comentario',\n",
       " '@Vipest La impunidad facturásela al Congreso, especialmente al bloque peronista que comanda Picchetto.',\n",
       " 'Pagaria una gran cuota mensual por acceder a una camarita en la celda de estos asesinos ... viendo como se la dan 20 veces por día !!!!.......',\n",
       " 'No, no de lo que usted asegura.',\n",
       " 'Respuesta de manual la de Huguito...',\n",
       " 'Todo en familia. Como los Corleone. O peor,  porque es con la complicidad del estado.',\n",
       " 'Pues yo me estoy \"distrayendo\" mucho.',\n",
       " 'A llorar a la cancha.',\n",
       " 'Muy democrático su comentario.',\n",
       " 'Porque no elije otra excusa, esta es muy trillada.',\n",
       " 'DE MANUAL, LO DE MOY.ANO',\n",
       " '@jsalvetti2 \"político\" (con comillas)',\n",
       " '@richaires Y la Sra. su Contratista.',\n",
       " 'VOLVEMOS !!',\n",
       " 'Gato cuando te vayas te vas a tener que refugiar en Liberia, porque vas en cana de por vida',\n",
       " 'Ni lo sueñes!!! primero los anteriores',\n",
       " '@g_alde Son 4 los que votan. El resto ni los conoce. No representan a nadie, como el resto del sindicalismo',\n",
       " '@g_alde Los barra pagados. Es la pesada del sindicato.',\n",
       " 'Tenes razón. La estamos pasando remal. Pero eso no tapa lo que son ustedes.',\n",
       " '@Mehid2016 Ni POR QUÉ la pasamos mal .------------',\n",
       " 'Espero que le saquen hasta el último centavo de plata malhabida a este clan mafioso.',\n",
       " '@gguasoncito1 Alguién puso la torta',\n",
       " 'La denuncia la hizo Bebote Álvarez por asociación ilícita.\\r\\nEs sabido que es ultra macrista.',\n",
       " 'Cero en sarcasmo.\\r\\nVuelva a Facebook y no moleste por acá.',\n",
       " 'Hoy es sabado. El lunes esta detenido',\n",
       " 'excelente tu comentario. pero dudo mucho q los moyanos puedan leer tantas letras!',\n",
       " '@gguasoncito1 🤣🤣🤣😂😂😂🤣🤣🤣',\n",
       " 'Papi cuidando nene!',\n",
       " 'Conducta mafiosa,quien sopló para que Pablito se fuera del país justo teniendo pedido de detención?',\n",
       " 'no sabes ni lo que es un trosko',\n",
       " 'leo cómo deberías hacer vos',\n",
       " 'El régimen macrista quiere a todos los opositores presos.',\n",
       " '@pancho56 a todos los chorros presos, y andá a repasar la tabla del 3,porque tu idea de \"régimen\" es como decir que estos malandras son \"inocentes\".',\n",
       " 'SIIII y ya sabemos donde vives!! Jajajjaj KERNEROLO!!!',\n",
       " '@flacas ¿Independencia, quién, Comodoro Pro? ',\n",
       " 'Yo distraigo\\r\\nTu distraes\\r\\nEl distrae\\r\\n....\\r\\n\\r\\nPero el que afanó, sabemos quien fue.',\n",
       " '@La_Robespierre La que afanó, te referís?.',\n",
       " '@juanberi Al gato se refiere, histórico manoteador del dinero del estado.',\n",
       " 'Con esa declaración, TAN BERRETA, ya dejaste claro que tu hijo es culpable de lo que se lo acusa y ademas, un PATOTERO COBARDE',\n",
       " '@pnogueira3 Lo que realmente es .. una BASURA.-']"
      ]
     },
     "execution_count": 31,
     "metadata": {},
     "output_type": "execute_result"
    }
   ],
   "source": [
    "[x for x in df.loc[df.topicos == -1].comments]"
   ]
  },
  {
   "cell_type": "code",
   "execution_count": 44,
   "metadata": {
    "collapsed": true
   },
   "outputs": [],
   "source": [
    "from textstat.textstat import textstat"
   ]
  },
  {
   "cell_type": "code",
   "execution_count": 89,
   "metadata": {},
   "outputs": [
    {
     "data": {
      "text/plain": [
       "('... en 1945 lanzaron 2 BOMBAS ATÓMICAS sobre JAPÓN .... en 1945 surgió el PERONISMO en ARGENTINA ..... 70 años despues, se comprueba CIENTÍFICAMENTE que el PERONISMO es peor que la BOMBA ATÓMICA ...',\n",
       " 35.95)"
      ]
     },
     "execution_count": 89,
     "metadata": {},
     "output_type": "execute_result"
    }
   ],
   "source": [
    "i = 53\n",
    "df.iloc[i].comments, textstat.flesch_reading_ease(df.iloc[i].comments)"
   ]
  },
  {
   "cell_type": "code",
   "execution_count": null,
   "metadata": {
    "collapsed": true
   },
   "outputs": [],
   "source": []
  }
 ],
 "metadata": {
  "kernelspec": {
   "display_name": "Python 3",
   "language": "python",
   "name": "python3"
  },
  "language_info": {
   "codemirror_mode": {
    "name": "ipython",
    "version": 3
   },
   "file_extension": ".py",
   "mimetype": "text/x-python",
   "name": "python",
   "nbconvert_exporter": "python",
   "pygments_lexer": "ipython3",
   "version": "3.6.5"
  }
 },
 "nbformat": 4,
 "nbformat_minor": 2
}
